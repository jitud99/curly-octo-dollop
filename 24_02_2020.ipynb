{
 "cells": [
  {
   "cell_type": "markdown",
   "metadata": {
    "_uuid": "fdcbdafbf026e738c60a727a37a1de5688171cb4"
   },
   "source": [
    "Since the uprising of Artificial Intelligence, text classification has become one of the most staggering tasks to accomplish. In layman terms, We can say Artificial Intelligence is the field which tries to achieve human-like intelligent models to ease the jobs for all of us. We have an astounding proficiency in text classification but even many sophisticated NLP models are failed to achieve proficiency even close to it. So the question arises is that what we humans do differently? How do we classify text?\n",
    "\n",
    "First of all, we understand words not each and every word but many of them and we can guess even unknown words just by the structure of a sentence. Then we understand the message that those series of words (sentence) conveys. Then from those series of sentences, we understand the meaning of a paragraph or an article. The similar approach is used in Hierarchical Attention model.\n",
    "\n",
    "**To Learn Hierarchical Attention Network completely go [here](https://medium.com/@heetsankesara3/hierarchical-attention-networks-d220318cf87e)**\n",
    "\n",
    "** Click [here](https://github.com/Hsankesara/DeepResearch/tree/master/Hierarchical_Attention_Network) to go to the code**\n"
   ]
  },
  {
   "cell_type": "code",
   "execution_count": 1,
   "metadata": {
    "_uuid": "1642a59f5e4d475a1757b74cf74fc4f48f5cecc3",
    "colab": {
     "base_uri": "https://localhost:8080/",
     "height": 35
    },
    "colab_type": "code",
    "id": "svDDvMhYgxwM",
    "outputId": "95a9914f-ce8e-46f6-e9fb-46d2671cb78f"
   },
   "outputs": [],
   "source": [
    "import pandas as pd\n",
    "import numpy as np\n",
    "from tensorflow import keras\n",
    "from tensorflow.keras.preprocessing.text import Tokenizer,  text_to_word_sequence\n",
    "from tensorflow.keras.layers import Layer, InputSpec\n",
    "\n",
    "from tensorflow.keras import initializers as initializers, regularizers, constraints\n",
    "from tensorflow.keras.callbacks import Callback, ModelCheckpoint\n",
    "from tensorflow.keras.utils import to_categorical\n",
    "from tensorflow.keras.layers import Embedding, Input, Dense, LSTM, GRU, Bidirectional, TimeDistributed, Dropout\n",
    "from tensorflow.keras import backend as K\n",
    "from tensorflow.keras import optimizers\n",
    "from tensorflow.keras.models import Model\n",
    "import nltk\n",
    "import re\n",
    "import matplotlib.pyplot as plt\n",
    "import sys\n",
    "from sklearn.metrics import roc_auc_score\n",
    "from nltk import tokenize\n",
    "import seaborn as sns"
   ]
  },
  {
   "cell_type": "code",
   "execution_count": 2,
   "metadata": {},
   "outputs": [],
   "source": [
    "def dot_product(x, kernel):\n",
    "    \"\"\"\n",
    "    Wrapper for dot product operation, in order to be compatibl|e with both\n",
    "    Theano and Tensorflow\n",
    "    Args:\n",
    "        x (): input\n",
    "        kernel (): weights\n",
    "    Returns:\n",
    "    \"\"\"\n",
    "    if K.backend() == 'tensorflow':\n",
    "        return K.squeeze(K.dot(x, K.expand_dims(kernel)), axis=-1)\n",
    "    else:\n",
    "        return K.dot(x, kernel)"
   ]
  },
  {
   "cell_type": "code",
   "execution_count": 2,
   "metadata": {},
   "outputs": [],
   "source": [
    "import tensorflow.keras.backend as K\n",
    "from tensorflow.keras.layers import Layer\n",
    "from tensorflow.keras import initializers, regularizers, constraints\n",
    "\n",
    "def dot_product(x, kernel):\n",
    "    \"\"\"\n",
    "    https://github.com/richliao/textClassifier/issues/13#issuecomment-377323318\n",
    "    Wrapper for dot product operation, in order to be compatible with both\n",
    "    Theano and Tensorflow\n",
    "    Args:\n",
    "        x (): input\n",
    "        kernel (): weights\n",
    "    Returns:\n",
    "    \"\"\"\n",
    "    if K.backend() == 'tensorflow':\n",
    "        return K.squeeze(K.dot(x, K.expand_dims(kernel)), axis=-1)\n",
    "    else:\n",
    "        return K.dot(x, kernel)\n",
    "    \n",
    "\n",
    "class AttentionWithContext(Layer):\n",
    "    \"\"\"\n",
    "    Attention operation, with a context/query vector, for temporal data.\n",
    "    Supports Masking.\n",
    "    Follows the work of Yang et al. [https://www.cs.cmu.edu/~diyiy/docs/naacl16.pdf]\n",
    "    \"Hierarchical Attention Networks for Document Classification\"\n",
    "    by using a context vector to assist the attention\n",
    "    # Input shape\n",
    "        3D tensor with shape: `(samples, steps, features)`.\n",
    "    # Output shape\n",
    "        2D tensor with shape: `(samples, features)`.\n",
    "    \n",
    "    How to use:\n",
    "    Just put it on top of an RNN Layer (GRU/LSTM/SimpleRNN) with return_sequences=True.\n",
    "    The dimensions are inferred based on the output shape of the RNN.\n",
    "    \n",
    "    Note: The layer has been tested with Keras 2.0.6\n",
    "    \n",
    "    Example:\n",
    "        model.add(LSTM(64, return_sequences=True))\n",
    "        model.add(AttentionWithContext())\n",
    "        # next add a Dense layer (for classification/regression) or whatever...\n",
    "    \"\"\"\n",
    "    \n",
    "    def __init__(self, return_coefficients=False,\n",
    "                 W_regularizer=None, u_regularizer=None, b_regularizer=None,\n",
    "                 W_constraint=None, u_constraint=None, b_constraint=None,\n",
    "                 bias=True, **kwargs):\n",
    "        \n",
    "        self.supports_masking = True\n",
    "        self.return_coefficients = return_coefficients\n",
    "        self.init = initializers.get('glorot_uniform')\n",
    "        \n",
    "        self.W_regularizer = regularizers.get(W_regularizer)\n",
    "        self.u_regularizer = regularizers.get(u_regularizer)\n",
    "        self.b_regularizer = regularizers.get(b_regularizer)\n",
    "        \n",
    "        self.W_constraint = constraints.get(W_constraint)\n",
    "        self.u_constraint = constraints.get(u_constraint)\n",
    "        self.b_constraint = constraints.get(b_constraint)\n",
    "        \n",
    "        self.bias = bias\n",
    "        super(AttentionWithContext, self).__init__(**kwargs)\n",
    "    \n",
    "    def build(self, input_shape):\n",
    "        assert len(input_shape) == 3\n",
    "        \n",
    "        self.W = self.add_weight(shape=(input_shape[-1], input_shape[-1],),\n",
    "                                 initializer=self.init,\n",
    "                                 name='{}_W'.format(self.name),\n",
    "                                 regularizer=self.W_regularizer,\n",
    "                                 constraint=self.W_constraint)\n",
    "        if self.bias:\n",
    "            self.b = self.add_weight(shape=(input_shape[-1],),\n",
    "                                     initializer='zero',\n",
    "                                     name='{}_b'.format(self.name),\n",
    "                                     regularizer=self.b_regularizer,\n",
    "                                     constraint=self.b_constraint)\n",
    "        \n",
    "        self.u = self.add_weight(shape=(input_shape[-1],),\n",
    "                                 initializer=self.init,\n",
    "                                 name='{}_u'.format(self.name),\n",
    "                                 regularizer=self.u_regularizer,\n",
    "                                 constraint=self.u_constraint)\n",
    "        \n",
    "        super(AttentionWithContext, self).build(input_shape)\n",
    "    \n",
    "    def compute_mask(self, input, input_mask=None):\n",
    "        # do not pass the mask to the next layers\n",
    "        return None\n",
    "    \n",
    "    def call(self, x, mask=None):\n",
    "        uit = dot_product(x, self.W)\n",
    "        \n",
    "        if self.bias:\n",
    "            uit += self.b\n",
    "        \n",
    "        uit = K.tanh(uit)\n",
    "        ait = dot_product(uit, self.u)\n",
    "        \n",
    "        a = K.exp(ait)\n",
    "        \n",
    "        # apply mask after the exp. will be re-normalized next\n",
    "        if mask is not None:\n",
    "            # Cast the mask to floatX to avoid float64 upcasting in theano\n",
    "            a *= K.cast(mask, K.floatx())\n",
    "        \n",
    "        # in some cases especially in the early stages of training the sum may be almost zero\n",
    "        # and this results in NaN's. A workaround is to add a very small positive number ε to the sum.\n",
    "        # a /= K.cast(K.sum(a, axis=1, keepdims=True), K.floatx())\n",
    "        a /= K.cast(K.sum(a, axis=1, keepdims=True) + K.epsilon(), K.floatx())\n",
    "        \n",
    "        a = K.expand_dims(a)\n",
    "        weighted_input = x * a\n",
    "        \n",
    "        if self.return_coefficients:\n",
    "            return [K.sum(weighted_input, axis=1), a]\n",
    "        else:\n",
    "            return K.sum(weighted_input, axis=1)\n",
    "    \n",
    "    \n",
    "    \n",
    "    def compute_output_shape(self, input_shape):\n",
    "        if self.return_coefficients:\n",
    "            return [(input_shape[0], input_shape[-1]), (input_shape[0], input_shape[-1], 1)]\n",
    "        else:\n",
    "            return input_shape[0], input_shape[-1]\n",
    "    def get_config(self):\n",
    "        base_config = super(AttentionWithContext, self).get_config()\n",
    "        #base_config['output_dim'] = self.output_dim\n",
    "        return base_config"
   ]
  },
  {
   "cell_type": "markdown",
   "metadata": {
    "_uuid": "4440f99cbe40c318bd13ee6ecbbe1a3cb162fa40",
    "colab_type": "text",
    "id": "u01IFY1Hgxwf"
   },
   "source": [
    "### Attention Layer"
   ]
  },
  {
   "cell_type": "code",
   "execution_count": null,
   "metadata": {
    "_uuid": "668e772f91421e5a8e87c3f97429c04d1d372f0d",
    "colab": {},
    "colab_type": "code",
    "id": "XbOJEMv7gxwi"
   },
   "outputs": [],
   "source": [
    "\n",
    "\n"
   ]
  },
  {
   "cell_type": "markdown",
   "metadata": {
    "_uuid": "de867e70a1b042a2ac5a31a8fdcb0dbc2ddc13f9",
    "colab_type": "text",
    "id": "rWL4urlHgxwu"
   },
   "source": [
    "### Config"
   ]
  },
  {
   "cell_type": "code",
   "execution_count": 4,
   "metadata": {
    "_uuid": "8e970050b9852e54e964961fe0110226348860c1",
    "colab": {},
    "colab_type": "code",
    "id": "wvVCtTJbgxwx"
   },
   "outputs": [],
   "source": [
    "max_features=200000\n",
    "max_senten_len=40\n",
    "max_senten_num=6\n",
    "embed_size=100\n",
    "VALIDATION_SPLIT = 0.2"
   ]
  },
  {
   "cell_type": "markdown",
   "metadata": {
    "_uuid": "da31e0150178690c03f71da4f77c1883a4639cb3",
    "colab_type": "text",
    "id": "iphJED4Qgxw8"
   },
   "source": [
    "### Data"
   ]
  },
  {
   "cell_type": "code",
   "execution_count": 5,
   "metadata": {
    "_uuid": "66b5c24a07ba29ee90cb163703dcf9433249000a",
    "colab": {},
    "colab_type": "code",
    "id": "SISE6xEnrKx_"
   },
   "outputs": [],
   "source": [
    "from sklearn.utils import shuffle"
   ]
  },
  {
   "cell_type": "code",
   "execution_count": 6,
   "metadata": {
    "_uuid": "1dfa79cd274172897f8f5a90594e7cbe1d30fc30",
    "colab": {},
    "colab_type": "code",
    "id": "83stXVBjgxw-"
   },
   "outputs": [],
   "source": [
    "df = shuffle(pd.read_json('E:/saves/News_Category_Dataset_v2.json', lines=True)).reset_index()"
   ]
  },
  {
   "cell_type": "code",
   "execution_count": 7,
   "metadata": {
    "_uuid": "bf9f1ccf81d0e91bc2722f119677314301a73af3",
    "colab": {
     "base_uri": "https://localhost:8080/",
     "height": 35
    },
    "colab_type": "code",
    "id": "yn2rJmMsfPOO",
    "outputId": "e8cc4a75-083a-4099-a16b-a4e9c414fb93"
   },
   "outputs": [
    {
     "data": {
      "text/plain": [
       "41"
      ]
     },
     "execution_count": 7,
     "metadata": {},
     "output_type": "execute_result"
    }
   ],
   "source": [
    "len(df.category.unique())"
   ]
  },
  {
   "cell_type": "code",
   "execution_count": 8,
   "metadata": {
    "_uuid": "4e2ea661300670641050fd8870ce3cea821f1a2d",
    "colab": {
     "base_uri": "https://localhost:8080/",
     "height": 588
    },
    "colab_type": "code",
    "id": "mkBa2gzGq5MD",
    "outputId": "343f8c37-4ce1-4821-f42b-aee7c944d6b3"
   },
   "outputs": [
    {
     "data": {
      "text/html": [
       "<div>\n",
       "<style scoped>\n",
       "    .dataframe tbody tr th:only-of-type {\n",
       "        vertical-align: middle;\n",
       "    }\n",
       "\n",
       "    .dataframe tbody tr th {\n",
       "        vertical-align: top;\n",
       "    }\n",
       "\n",
       "    .dataframe thead th {\n",
       "        text-align: right;\n",
       "    }\n",
       "</style>\n",
       "<table border=\"1\" class=\"dataframe\">\n",
       "  <thead>\n",
       "    <tr style=\"text-align: right;\">\n",
       "      <th></th>\n",
       "      <th>index</th>\n",
       "      <th>category</th>\n",
       "      <th>headline</th>\n",
       "      <th>authors</th>\n",
       "      <th>link</th>\n",
       "      <th>short_description</th>\n",
       "      <th>date</th>\n",
       "    </tr>\n",
       "  </thead>\n",
       "  <tbody>\n",
       "    <tr>\n",
       "      <td>0</td>\n",
       "      <td>84129</td>\n",
       "      <td>SPORTS</td>\n",
       "      <td>Is the Commissioner an Arbitrator?</td>\n",
       "      <td>Roger I. Abrams, ContributorRichardson Profess...</td>\n",
       "      <td>https://www.huffingtonpost.com/entry/is-the-co...</td>\n",
       "      <td>In the Brady case, if the parties are not able...</td>\n",
       "      <td>2015-08-01</td>\n",
       "    </tr>\n",
       "    <tr>\n",
       "      <td>1</td>\n",
       "      <td>3027</td>\n",
       "      <td>POLITICS</td>\n",
       "      <td>Republicans Are Seeing Weak Returns On The Tax...</td>\n",
       "      <td>Ariel Edwards-Levy and Arthur Delaney</td>\n",
       "      <td>https://www.huffingtonpost.com/entry/republica...</td>\n",
       "      <td>It was supposed to be an asset come November. ...</td>\n",
       "      <td>2018-03-30</td>\n",
       "    </tr>\n",
       "    <tr>\n",
       "      <td>2</td>\n",
       "      <td>188769</td>\n",
       "      <td>STYLE &amp; BEAUTY</td>\n",
       "      <td>Shalom Harlow Flashes Boobs To Stranger For Oy...</td>\n",
       "      <td></td>\n",
       "      <td>https://www.huffingtonpost.com/entry/shalom-ha...</td>\n",
       "      <td>CLARIFICATION: This piece has been edited to r...</td>\n",
       "      <td>2012-06-06</td>\n",
       "    </tr>\n",
       "    <tr>\n",
       "      <td>3</td>\n",
       "      <td>70825</td>\n",
       "      <td>MEDIA</td>\n",
       "      <td>Turkish President Erdogan Had Me Jailed For Te...</td>\n",
       "      <td></td>\n",
       "      <td>https://www.huffingtonpost.comhttp://www.thegu...</td>\n",
       "      <td>In Turkey, a debate as old as government itsel...</td>\n",
       "      <td>2015-12-29</td>\n",
       "    </tr>\n",
       "    <tr>\n",
       "      <td>4</td>\n",
       "      <td>158150</td>\n",
       "      <td>PARENTING</td>\n",
       "      <td>5 Things I Learned to Love About Competitive S...</td>\n",
       "      <td>Leah Ariniello, Contributor\\nJournalist, Colum...</td>\n",
       "      <td>https://www.huffingtonpost.com/entry/competiti...</td>\n",
       "      <td>There are a number of really good reasons to h...</td>\n",
       "      <td>2013-04-29</td>\n",
       "    </tr>\n",
       "  </tbody>\n",
       "</table>\n",
       "</div>"
      ],
      "text/plain": [
       "    index        category                                           headline  \\\n",
       "0   84129          SPORTS                 Is the Commissioner an Arbitrator?   \n",
       "1    3027        POLITICS  Republicans Are Seeing Weak Returns On The Tax...   \n",
       "2  188769  STYLE & BEAUTY  Shalom Harlow Flashes Boobs To Stranger For Oy...   \n",
       "3   70825           MEDIA  Turkish President Erdogan Had Me Jailed For Te...   \n",
       "4  158150       PARENTING  5 Things I Learned to Love About Competitive S...   \n",
       "\n",
       "                                             authors  \\\n",
       "0  Roger I. Abrams, ContributorRichardson Profess...   \n",
       "1              Ariel Edwards-Levy and Arthur Delaney   \n",
       "2                                                      \n",
       "3                                                      \n",
       "4  Leah Ariniello, Contributor\\nJournalist, Colum...   \n",
       "\n",
       "                                                link  \\\n",
       "0  https://www.huffingtonpost.com/entry/is-the-co...   \n",
       "1  https://www.huffingtonpost.com/entry/republica...   \n",
       "2  https://www.huffingtonpost.com/entry/shalom-ha...   \n",
       "3  https://www.huffingtonpost.comhttp://www.thegu...   \n",
       "4  https://www.huffingtonpost.com/entry/competiti...   \n",
       "\n",
       "                                   short_description       date  \n",
       "0  In the Brady case, if the parties are not able... 2015-08-01  \n",
       "1  It was supposed to be an asset come November. ... 2018-03-30  \n",
       "2  CLARIFICATION: This piece has been edited to r... 2012-06-06  \n",
       "3  In Turkey, a debate as old as government itsel... 2015-12-29  \n",
       "4  There are a number of really good reasons to h... 2013-04-29  "
      ]
     },
     "execution_count": 8,
     "metadata": {},
     "output_type": "execute_result"
    }
   ],
   "source": [
    "df.head()"
   ]
  },
  {
   "cell_type": "code",
   "execution_count": 9,
   "metadata": {
    "_uuid": "a52cf7f435890a57d153e8da8ffef72bf8d3de39"
   },
   "outputs": [
    {
     "data": {
      "text/plain": [
       "array(['SPORTS', 'POLITICS', 'STYLE & BEAUTY', 'MEDIA', 'PARENTING',\n",
       "       'THE WORLDPOST', 'WELLNESS', 'DIVORCE', 'FOOD & DRINK',\n",
       "       'ENTERTAINMENT', 'BLACK VOICES', 'ARTS', 'HEALTHY LIVING',\n",
       "       'IMPACT', 'TRAVEL', 'WEIRD NEWS', 'QUEER VOICES', 'HOME & LIVING',\n",
       "       'RELIGION', 'ENVIRONMENT', 'BUSINESS', 'WOMEN', 'MONEY', 'TECH',\n",
       "       'WEDDINGS', 'PARENTS', 'EDUCATION', 'WORLDPOST', 'CRIME', 'COMEDY',\n",
       "       'WORLD NEWS', 'ARTS & CULTURE', 'FIFTY', 'COLLEGE', 'GREEN',\n",
       "       'SCIENCE', 'TASTE', 'LATINO VOICES', 'STYLE', 'CULTURE & ARTS',\n",
       "       'GOOD NEWS'], dtype=object)"
      ]
     },
     "execution_count": 9,
     "metadata": {},
     "output_type": "execute_result"
    }
   ],
   "source": [
    "df.category.unique()"
   ]
  },
  {
   "cell_type": "code",
   "execution_count": 10,
   "metadata": {
    "_uuid": "e93e0b60a468c559b2555c2fa11adc675c6ce9ef"
   },
   "outputs": [],
   "source": [
    "df.category = df.category.map(lambda x: \"WORLDPOST\" if x == \"THE WORLDPOST\" else x)"
   ]
  },
  {
   "cell_type": "code",
   "execution_count": 11,
   "metadata": {
    "_uuid": "923adeea51ed5a9a2598f456f27a5aa596eb78bd",
    "colab": {},
    "colab_type": "code",
    "id": "cEhKU6wPq5HZ"
   },
   "outputs": [],
   "source": [
    "df['text'] = df['headline'] +'. ' +df['short_description']"
   ]
  },
  {
   "cell_type": "code",
   "execution_count": 12,
   "metadata": {
    "_uuid": "a5fea8907a2d824ba0becf68142efe9ab6c56da6",
    "colab": {
     "base_uri": "https://localhost:8080/",
     "height": 626
    },
    "colab_type": "code",
    "id": "7Q5PnT6M44If",
    "outputId": "994f280b-bc40-4f3a-b288-1b5a922c72cd"
   },
   "outputs": [
    {
     "data": {
      "text/html": [
       "<div>\n",
       "<style scoped>\n",
       "    .dataframe tbody tr th:only-of-type {\n",
       "        vertical-align: middle;\n",
       "    }\n",
       "\n",
       "    .dataframe tbody tr th {\n",
       "        vertical-align: top;\n",
       "    }\n",
       "\n",
       "    .dataframe thead th {\n",
       "        text-align: right;\n",
       "    }\n",
       "</style>\n",
       "<table border=\"1\" class=\"dataframe\">\n",
       "  <thead>\n",
       "    <tr style=\"text-align: right;\">\n",
       "      <th></th>\n",
       "      <th>index</th>\n",
       "      <th>category</th>\n",
       "      <th>headline</th>\n",
       "      <th>authors</th>\n",
       "      <th>link</th>\n",
       "      <th>short_description</th>\n",
       "      <th>date</th>\n",
       "      <th>text</th>\n",
       "    </tr>\n",
       "  </thead>\n",
       "  <tbody>\n",
       "    <tr>\n",
       "      <td>0</td>\n",
       "      <td>84129</td>\n",
       "      <td>SPORTS</td>\n",
       "      <td>Is the Commissioner an Arbitrator?</td>\n",
       "      <td>Roger I. Abrams, ContributorRichardson Profess...</td>\n",
       "      <td>https://www.huffingtonpost.com/entry/is-the-co...</td>\n",
       "      <td>In the Brady case, if the parties are not able...</td>\n",
       "      <td>2015-08-01</td>\n",
       "      <td>Is the Commissioner an Arbitrator?. In the Bra...</td>\n",
       "    </tr>\n",
       "    <tr>\n",
       "      <td>1</td>\n",
       "      <td>3027</td>\n",
       "      <td>POLITICS</td>\n",
       "      <td>Republicans Are Seeing Weak Returns On The Tax...</td>\n",
       "      <td>Ariel Edwards-Levy and Arthur Delaney</td>\n",
       "      <td>https://www.huffingtonpost.com/entry/republica...</td>\n",
       "      <td>It was supposed to be an asset come November. ...</td>\n",
       "      <td>2018-03-30</td>\n",
       "      <td>Republicans Are Seeing Weak Returns On The Tax...</td>\n",
       "    </tr>\n",
       "    <tr>\n",
       "      <td>2</td>\n",
       "      <td>188769</td>\n",
       "      <td>STYLE &amp; BEAUTY</td>\n",
       "      <td>Shalom Harlow Flashes Boobs To Stranger For Oy...</td>\n",
       "      <td></td>\n",
       "      <td>https://www.huffingtonpost.com/entry/shalom-ha...</td>\n",
       "      <td>CLARIFICATION: This piece has been edited to r...</td>\n",
       "      <td>2012-06-06</td>\n",
       "      <td>Shalom Harlow Flashes Boobs To Stranger For Oy...</td>\n",
       "    </tr>\n",
       "    <tr>\n",
       "      <td>3</td>\n",
       "      <td>70825</td>\n",
       "      <td>MEDIA</td>\n",
       "      <td>Turkish President Erdogan Had Me Jailed For Te...</td>\n",
       "      <td></td>\n",
       "      <td>https://www.huffingtonpost.comhttp://www.thegu...</td>\n",
       "      <td>In Turkey, a debate as old as government itsel...</td>\n",
       "      <td>2015-12-29</td>\n",
       "      <td>Turkish President Erdogan Had Me Jailed For Te...</td>\n",
       "    </tr>\n",
       "    <tr>\n",
       "      <td>4</td>\n",
       "      <td>158150</td>\n",
       "      <td>PARENTING</td>\n",
       "      <td>5 Things I Learned to Love About Competitive S...</td>\n",
       "      <td>Leah Ariniello, Contributor\\nJournalist, Colum...</td>\n",
       "      <td>https://www.huffingtonpost.com/entry/competiti...</td>\n",
       "      <td>There are a number of really good reasons to h...</td>\n",
       "      <td>2013-04-29</td>\n",
       "      <td>5 Things I Learned to Love About Competitive S...</td>\n",
       "    </tr>\n",
       "  </tbody>\n",
       "</table>\n",
       "</div>"
      ],
      "text/plain": [
       "    index        category                                           headline  \\\n",
       "0   84129          SPORTS                 Is the Commissioner an Arbitrator?   \n",
       "1    3027        POLITICS  Republicans Are Seeing Weak Returns On The Tax...   \n",
       "2  188769  STYLE & BEAUTY  Shalom Harlow Flashes Boobs To Stranger For Oy...   \n",
       "3   70825           MEDIA  Turkish President Erdogan Had Me Jailed For Te...   \n",
       "4  158150       PARENTING  5 Things I Learned to Love About Competitive S...   \n",
       "\n",
       "                                             authors  \\\n",
       "0  Roger I. Abrams, ContributorRichardson Profess...   \n",
       "1              Ariel Edwards-Levy and Arthur Delaney   \n",
       "2                                                      \n",
       "3                                                      \n",
       "4  Leah Ariniello, Contributor\\nJournalist, Colum...   \n",
       "\n",
       "                                                link  \\\n",
       "0  https://www.huffingtonpost.com/entry/is-the-co...   \n",
       "1  https://www.huffingtonpost.com/entry/republica...   \n",
       "2  https://www.huffingtonpost.com/entry/shalom-ha...   \n",
       "3  https://www.huffingtonpost.comhttp://www.thegu...   \n",
       "4  https://www.huffingtonpost.com/entry/competiti...   \n",
       "\n",
       "                                   short_description       date  \\\n",
       "0  In the Brady case, if the parties are not able... 2015-08-01   \n",
       "1  It was supposed to be an asset come November. ... 2018-03-30   \n",
       "2  CLARIFICATION: This piece has been edited to r... 2012-06-06   \n",
       "3  In Turkey, a debate as old as government itsel... 2015-12-29   \n",
       "4  There are a number of really good reasons to h... 2013-04-29   \n",
       "\n",
       "                                                text  \n",
       "0  Is the Commissioner an Arbitrator?. In the Bra...  \n",
       "1  Republicans Are Seeing Weak Returns On The Tax...  \n",
       "2  Shalom Harlow Flashes Boobs To Stranger For Oy...  \n",
       "3  Turkish President Erdogan Had Me Jailed For Te...  \n",
       "4  5 Things I Learned to Love About Competitive S...  "
      ]
     },
     "execution_count": 12,
     "metadata": {},
     "output_type": "execute_result"
    }
   ],
   "source": [
    "df.head()"
   ]
  },
  {
   "cell_type": "code",
   "execution_count": 13,
   "metadata": {},
   "outputs": [
    {
     "data": {
      "text/plain": [
       "'Is the Commissioner an Arbitrator?. In the Brady case, if the parties are not able to settle the matter, the Federal District Court in Manhattan will have to determine whether the Commissioner\\'s decision was \"arbitrary and capricious,\" not whether it \"drew its essence from the collective bargaining agreement.\"'"
      ]
     },
     "execution_count": 13,
     "metadata": {},
     "output_type": "execute_result"
    }
   ],
   "source": [
    "df['text'][0]"
   ]
  },
  {
   "cell_type": "code",
   "execution_count": 14,
   "metadata": {
    "_uuid": "120aa99478cccb4022937e6b6d3abd92c74f5bb3",
    "colab": {},
    "colab_type": "code",
    "id": "QTbOuQw7gxxH"
   },
   "outputs": [],
   "source": [
    "df = df[['text', 'category']]"
   ]
  },
  {
   "cell_type": "code",
   "execution_count": 15,
   "metadata": {
    "_uuid": "36ad12bc4f9634905d660c932d6eb93ec3d1df68",
    "colab": {
     "base_uri": "https://localhost:8080/",
     "height": 142
    },
    "colab_type": "code",
    "id": "JVUm8F55gxxP",
    "outputId": "b6dca62a-738e-448b-a935-f9dafef95ad7"
   },
   "outputs": [
    {
     "name": "stdout",
     "output_type": "stream",
     "text": [
      "<class 'pandas.core.frame.DataFrame'>\n",
      "RangeIndex: 200853 entries, 0 to 200852\n",
      "Data columns (total 2 columns):\n",
      "text        200853 non-null object\n",
      "category    200853 non-null object\n",
      "dtypes: object(2)\n",
      "memory usage: 3.1+ MB\n"
     ]
    }
   ],
   "source": [
    "df.info()"
   ]
  },
  {
   "cell_type": "code",
   "execution_count": 16,
   "metadata": {
    "_uuid": "bc5f1a4dd769e3905f5df497832df8b303783dda",
    "colab": {},
    "colab_type": "code",
    "id": "OHNjk6rEgxxm"
   },
   "outputs": [],
   "source": [
    "categories = df['category']\n",
    "text = df['text']"
   ]
  },
  {
   "cell_type": "code",
   "execution_count": 17,
   "metadata": {},
   "outputs": [
    {
     "data": {
      "text/plain": [
       "0         Is the Commissioner an Arbitrator?. In the Bra...\n",
       "1         Republicans Are Seeing Weak Returns On The Tax...\n",
       "2         Shalom Harlow Flashes Boobs To Stranger For Oy...\n",
       "3         Turkish President Erdogan Had Me Jailed For Te...\n",
       "4         5 Things I Learned to Love About Competitive S...\n",
       "                                ...                        \n",
       "200848    How to Change Your Beliefs and Stick to Your G...\n",
       "200849    Blue Sky Soda's Cherry Vanilla Creme Is A Blas...\n",
       "200850    Michael Pollan Pinpoints What's Wrong With The...\n",
       "200851    Why I'm Worried: An Inhospitable Present For P...\n",
       "200852    After Deadly Mass Shooting, White House Says I...\n",
       "Name: text, Length: 200853, dtype: object"
      ]
     },
     "execution_count": 17,
     "metadata": {},
     "output_type": "execute_result"
    }
   ],
   "source": [
    "text"
   ]
  },
  {
   "cell_type": "code",
   "execution_count": 18,
   "metadata": {
    "_uuid": "25ec0eddd86c81b61a6813462e48957168b400f3"
   },
   "outputs": [
    {
     "name": "stdout",
     "output_type": "stream",
     "text": [
      "total categories: 40\n",
      "category\n",
      "ARTS               1509\n",
      "ARTS & CULTURE     1339\n",
      "BLACK VOICES       4528\n",
      "BUSINESS           5937\n",
      "COLLEGE            1144\n",
      "COMEDY             5175\n",
      "CRIME              3405\n",
      "CULTURE & ARTS     1030\n",
      "DIVORCE            3426\n",
      "EDUCATION          1004\n",
      "ENTERTAINMENT     16058\n",
      "ENVIRONMENT        1323\n",
      "FIFTY              1401\n",
      "FOOD & DRINK       6226\n",
      "GOOD NEWS          1398\n",
      "GREEN              2622\n",
      "HEALTHY LIVING     6694\n",
      "HOME & LIVING      4195\n",
      "IMPACT             3459\n",
      "LATINO VOICES      1129\n",
      "MEDIA              2815\n",
      "MONEY              1707\n",
      "PARENTING          8677\n",
      "PARENTS            3955\n",
      "POLITICS          32739\n",
      "QUEER VOICES       6314\n",
      "RELIGION           2556\n",
      "SCIENCE            2178\n",
      "SPORTS             4884\n",
      "STYLE              2254\n",
      "STYLE & BEAUTY     9649\n",
      "TASTE              2096\n",
      "TECH               2082\n",
      "TRAVEL             9887\n",
      "WEDDINGS           3651\n",
      "WEIRD NEWS         2670\n",
      "WELLNESS          17827\n",
      "WOMEN              3490\n",
      "WORLD NEWS         2177\n",
      "WORLDPOST          6243\n",
      "dtype: int64\n"
     ]
    }
   ],
   "source": [
    "cates = df.groupby('category')\n",
    "print(\"total categories:\", cates.ngroups)\n",
    "print(cates.size())"
   ]
  },
  {
   "cell_type": "code",
   "execution_count": 19,
   "metadata": {
    "_uuid": "386d5d9312d70a1a24d82025356752892d4f910b"
   },
   "outputs": [],
   "source": [
    "import re\n",
    "def clean_str(string):\n",
    "    \"\"\"\n",
    "    Tokenization/string cleaning for dataset\n",
    "    Every dataset is lower cased except\n",
    "    \"\"\"\n",
    "    string = re.sub(r\"\\\\\", \"\", string)    \n",
    "    string = re.sub(r\"\\'\", \"\", string)    \n",
    "    string = re.sub(r\"\\\"\", \"\", string)    \n",
    "    return string.strip().lower()"
   ]
  },
  {
   "cell_type": "code",
   "execution_count": 20,
   "metadata": {
    "_uuid": "86e266a58a5e847021fc6cebd4fc30991d02bdf9",
    "colab": {},
    "colab_type": "code",
    "id": "YJOFyzjf5fe0"
   },
   "outputs": [],
   "source": [
    "paras = []\n",
    "labels = []\n",
    "texts = []"
   ]
  },
  {
   "cell_type": "code",
   "execution_count": 21,
   "metadata": {},
   "outputs": [
    {
     "data": {
      "text/plain": [
       "200853"
      ]
     },
     "execution_count": 21,
     "metadata": {},
     "output_type": "execute_result"
    }
   ],
   "source": [
    "df.text.shape[0]"
   ]
  },
  {
   "cell_type": "code",
   "execution_count": 22,
   "metadata": {},
   "outputs": [],
   "source": [
    "df2 = pd.DataFrame(columns=['text'])"
   ]
  },
  {
   "cell_type": "code",
   "execution_count": null,
   "metadata": {},
   "outputs": [],
   "source": []
  },
  {
   "cell_type": "code",
   "execution_count": 23,
   "metadata": {},
   "outputs": [
    {
     "data": {
      "text/html": [
       "<div>\n",
       "<style scoped>\n",
       "    .dataframe tbody tr th:only-of-type {\n",
       "        vertical-align: middle;\n",
       "    }\n",
       "\n",
       "    .dataframe tbody tr th {\n",
       "        vertical-align: top;\n",
       "    }\n",
       "\n",
       "    .dataframe thead th {\n",
       "        text-align: right;\n",
       "    }\n",
       "</style>\n",
       "<table border=\"1\" class=\"dataframe\">\n",
       "  <thead>\n",
       "    <tr style=\"text-align: right;\">\n",
       "      <th></th>\n",
       "      <th>text</th>\n",
       "    </tr>\n",
       "  </thead>\n",
       "  <tbody>\n",
       "  </tbody>\n",
       "</table>\n",
       "</div>"
      ],
      "text/plain": [
       "Empty DataFrame\n",
       "Columns: [text]\n",
       "Index: []"
      ]
     },
     "execution_count": 23,
     "metadata": {},
     "output_type": "execute_result"
    }
   ],
   "source": [
    "df2"
   ]
  },
  {
   "cell_type": "code",
   "execution_count": 24,
   "metadata": {},
   "outputs": [],
   "source": [
    "df2 = pd.DataFrame([[\"welcome to florida\"]], index = [[\"text\"]])"
   ]
  },
  {
   "cell_type": "code",
   "execution_count": 25,
   "metadata": {},
   "outputs": [
    {
     "data": {
      "text/html": [
       "<div>\n",
       "<style scoped>\n",
       "    .dataframe tbody tr th:only-of-type {\n",
       "        vertical-align: middle;\n",
       "    }\n",
       "\n",
       "    .dataframe tbody tr th {\n",
       "        vertical-align: top;\n",
       "    }\n",
       "\n",
       "    .dataframe thead th {\n",
       "        text-align: right;\n",
       "    }\n",
       "</style>\n",
       "<table border=\"1\" class=\"dataframe\">\n",
       "  <thead>\n",
       "    <tr style=\"text-align: right;\">\n",
       "      <th></th>\n",
       "      <th>0</th>\n",
       "    </tr>\n",
       "  </thead>\n",
       "  <tbody>\n",
       "    <tr>\n",
       "      <td>text</td>\n",
       "      <td>welcome to florida</td>\n",
       "    </tr>\n",
       "  </tbody>\n",
       "</table>\n",
       "</div>"
      ],
      "text/plain": [
       "                       0\n",
       "text  welcome to florida"
      ]
     },
     "execution_count": 25,
     "metadata": {},
     "output_type": "execute_result"
    }
   ],
   "source": [
    "df2"
   ]
  },
  {
   "cell_type": "code",
   "execution_count": 56,
   "metadata": {
    "_uuid": "4b8f64afbf8acc01a08f6f4ec577053908c7cc7d",
    "colab": {
     "base_uri": "https://localhost:8080/",
     "height": 53
    },
    "colab_type": "code",
    "id": "FxeewB4Jgxx3",
    "outputId": "909116f6-d7a0-4383-91cb-f6de9d3171ed"
   },
   "outputs": [
    {
     "ename": "KeyboardInterrupt",
     "evalue": "",
     "output_type": "error",
     "traceback": [
      "\u001b[1;31m---------------------------------------------------------------------------\u001b[0m",
      "\u001b[1;31mKeyboardInterrupt\u001b[0m                         Traceback (most recent call last)",
      "\u001b[1;32m<ipython-input-56-19903aa0c041>\u001b[0m in \u001b[0;36m<module>\u001b[1;34m\u001b[0m\n\u001b[0;32m      4\u001b[0m     \u001b[0mtext\u001b[0m \u001b[1;33m=\u001b[0m \u001b[0mclean_str\u001b[0m\u001b[1;33m(\u001b[0m\u001b[0mdf\u001b[0m\u001b[1;33m.\u001b[0m\u001b[0mtext\u001b[0m\u001b[1;33m[\u001b[0m\u001b[0midx\u001b[0m\u001b[1;33m]\u001b[0m\u001b[1;33m)\u001b[0m\u001b[1;33m\u001b[0m\u001b[1;33m\u001b[0m\u001b[0m\n\u001b[0;32m      5\u001b[0m     \u001b[0mtexts\u001b[0m\u001b[1;33m.\u001b[0m\u001b[0mappend\u001b[0m\u001b[1;33m(\u001b[0m\u001b[0mtext\u001b[0m\u001b[1;33m)\u001b[0m\u001b[1;33m\u001b[0m\u001b[1;33m\u001b[0m\u001b[0m\n\u001b[1;32m----> 6\u001b[1;33m     \u001b[0msentences\u001b[0m \u001b[1;33m=\u001b[0m \u001b[0mtokenize\u001b[0m\u001b[1;33m.\u001b[0m\u001b[0msent_tokenize\u001b[0m\u001b[1;33m(\u001b[0m\u001b[0mtext\u001b[0m\u001b[1;33m)\u001b[0m\u001b[1;33m\u001b[0m\u001b[1;33m\u001b[0m\u001b[0m\n\u001b[0m\u001b[0;32m      7\u001b[0m     \u001b[0msent_nums\u001b[0m\u001b[1;33m.\u001b[0m\u001b[0mappend\u001b[0m\u001b[1;33m(\u001b[0m\u001b[0mlen\u001b[0m\u001b[1;33m(\u001b[0m\u001b[0msentences\u001b[0m\u001b[1;33m)\u001b[0m\u001b[1;33m)\u001b[0m\u001b[1;33m\u001b[0m\u001b[1;33m\u001b[0m\u001b[0m\n\u001b[0;32m      8\u001b[0m     \u001b[1;32mfor\u001b[0m \u001b[0msent\u001b[0m \u001b[1;32min\u001b[0m \u001b[0msentences\u001b[0m\u001b[1;33m:\u001b[0m\u001b[1;33m\u001b[0m\u001b[1;33m\u001b[0m\u001b[0m\n",
      "\u001b[1;32m~\\Anaconda3\\lib\\site-packages\\nltk\\tokenize\\__init__.py\u001b[0m in \u001b[0;36msent_tokenize\u001b[1;34m(text, language)\u001b[0m\n\u001b[0;32m    104\u001b[0m     \"\"\"\n\u001b[0;32m    105\u001b[0m     \u001b[0mtokenizer\u001b[0m \u001b[1;33m=\u001b[0m \u001b[0mload\u001b[0m\u001b[1;33m(\u001b[0m\u001b[1;34m'tokenizers/punkt/{0}.pickle'\u001b[0m\u001b[1;33m.\u001b[0m\u001b[0mformat\u001b[0m\u001b[1;33m(\u001b[0m\u001b[0mlanguage\u001b[0m\u001b[1;33m)\u001b[0m\u001b[1;33m)\u001b[0m\u001b[1;33m\u001b[0m\u001b[1;33m\u001b[0m\u001b[0m\n\u001b[1;32m--> 106\u001b[1;33m     \u001b[1;32mreturn\u001b[0m \u001b[0mtokenizer\u001b[0m\u001b[1;33m.\u001b[0m\u001b[0mtokenize\u001b[0m\u001b[1;33m(\u001b[0m\u001b[0mtext\u001b[0m\u001b[1;33m)\u001b[0m\u001b[1;33m\u001b[0m\u001b[1;33m\u001b[0m\u001b[0m\n\u001b[0m\u001b[0;32m    107\u001b[0m \u001b[1;33m\u001b[0m\u001b[0m\n\u001b[0;32m    108\u001b[0m \u001b[1;33m\u001b[0m\u001b[0m\n",
      "\u001b[1;32m~\\Anaconda3\\lib\\site-packages\\nltk\\tokenize\\punkt.py\u001b[0m in \u001b[0;36mtokenize\u001b[1;34m(self, text, realign_boundaries)\u001b[0m\n\u001b[0;32m   1275\u001b[0m         \u001b[0mGiven\u001b[0m \u001b[0ma\u001b[0m \u001b[0mtext\u001b[0m\u001b[1;33m,\u001b[0m \u001b[0mreturns\u001b[0m \u001b[0ma\u001b[0m \u001b[0mlist\u001b[0m \u001b[0mof\u001b[0m \u001b[0mthe\u001b[0m \u001b[0msentences\u001b[0m \u001b[1;32min\u001b[0m \u001b[0mthat\u001b[0m \u001b[0mtext\u001b[0m\u001b[1;33m.\u001b[0m\u001b[1;33m\u001b[0m\u001b[1;33m\u001b[0m\u001b[0m\n\u001b[0;32m   1276\u001b[0m         \"\"\"\n\u001b[1;32m-> 1277\u001b[1;33m         \u001b[1;32mreturn\u001b[0m \u001b[0mlist\u001b[0m\u001b[1;33m(\u001b[0m\u001b[0mself\u001b[0m\u001b[1;33m.\u001b[0m\u001b[0msentences_from_text\u001b[0m\u001b[1;33m(\u001b[0m\u001b[0mtext\u001b[0m\u001b[1;33m,\u001b[0m \u001b[0mrealign_boundaries\u001b[0m\u001b[1;33m)\u001b[0m\u001b[1;33m)\u001b[0m\u001b[1;33m\u001b[0m\u001b[1;33m\u001b[0m\u001b[0m\n\u001b[0m\u001b[0;32m   1278\u001b[0m \u001b[1;33m\u001b[0m\u001b[0m\n\u001b[0;32m   1279\u001b[0m     \u001b[1;32mdef\u001b[0m \u001b[0mdebug_decisions\u001b[0m\u001b[1;33m(\u001b[0m\u001b[0mself\u001b[0m\u001b[1;33m,\u001b[0m \u001b[0mtext\u001b[0m\u001b[1;33m)\u001b[0m\u001b[1;33m:\u001b[0m\u001b[1;33m\u001b[0m\u001b[1;33m\u001b[0m\u001b[0m\n",
      "\u001b[1;32m~\\Anaconda3\\lib\\site-packages\\nltk\\tokenize\\punkt.py\u001b[0m in \u001b[0;36msentences_from_text\u001b[1;34m(self, text, realign_boundaries)\u001b[0m\n\u001b[0;32m   1329\u001b[0m         \u001b[0mfollows\u001b[0m \u001b[0mthe\u001b[0m \u001b[0mperiod\u001b[0m\u001b[1;33m.\u001b[0m\u001b[1;33m\u001b[0m\u001b[1;33m\u001b[0m\u001b[0m\n\u001b[0;32m   1330\u001b[0m         \"\"\"\n\u001b[1;32m-> 1331\u001b[1;33m         \u001b[1;32mreturn\u001b[0m \u001b[1;33m[\u001b[0m\u001b[0mtext\u001b[0m\u001b[1;33m[\u001b[0m\u001b[0ms\u001b[0m\u001b[1;33m:\u001b[0m\u001b[0me\u001b[0m\u001b[1;33m]\u001b[0m \u001b[1;32mfor\u001b[0m \u001b[0ms\u001b[0m\u001b[1;33m,\u001b[0m \u001b[0me\u001b[0m \u001b[1;32min\u001b[0m \u001b[0mself\u001b[0m\u001b[1;33m.\u001b[0m\u001b[0mspan_tokenize\u001b[0m\u001b[1;33m(\u001b[0m\u001b[0mtext\u001b[0m\u001b[1;33m,\u001b[0m \u001b[0mrealign_boundaries\u001b[0m\u001b[1;33m)\u001b[0m\u001b[1;33m]\u001b[0m\u001b[1;33m\u001b[0m\u001b[1;33m\u001b[0m\u001b[0m\n\u001b[0m\u001b[0;32m   1332\u001b[0m \u001b[1;33m\u001b[0m\u001b[0m\n\u001b[0;32m   1333\u001b[0m     \u001b[1;32mdef\u001b[0m \u001b[0m_slices_from_text\u001b[0m\u001b[1;33m(\u001b[0m\u001b[0mself\u001b[0m\u001b[1;33m,\u001b[0m \u001b[0mtext\u001b[0m\u001b[1;33m)\u001b[0m\u001b[1;33m:\u001b[0m\u001b[1;33m\u001b[0m\u001b[1;33m\u001b[0m\u001b[0m\n",
      "\u001b[1;32m~\\Anaconda3\\lib\\site-packages\\nltk\\tokenize\\punkt.py\u001b[0m in \u001b[0;36m<listcomp>\u001b[1;34m(.0)\u001b[0m\n\u001b[0;32m   1329\u001b[0m         \u001b[0mfollows\u001b[0m \u001b[0mthe\u001b[0m \u001b[0mperiod\u001b[0m\u001b[1;33m.\u001b[0m\u001b[1;33m\u001b[0m\u001b[1;33m\u001b[0m\u001b[0m\n\u001b[0;32m   1330\u001b[0m         \"\"\"\n\u001b[1;32m-> 1331\u001b[1;33m         \u001b[1;32mreturn\u001b[0m \u001b[1;33m[\u001b[0m\u001b[0mtext\u001b[0m\u001b[1;33m[\u001b[0m\u001b[0ms\u001b[0m\u001b[1;33m:\u001b[0m\u001b[0me\u001b[0m\u001b[1;33m]\u001b[0m \u001b[1;32mfor\u001b[0m \u001b[0ms\u001b[0m\u001b[1;33m,\u001b[0m \u001b[0me\u001b[0m \u001b[1;32min\u001b[0m \u001b[0mself\u001b[0m\u001b[1;33m.\u001b[0m\u001b[0mspan_tokenize\u001b[0m\u001b[1;33m(\u001b[0m\u001b[0mtext\u001b[0m\u001b[1;33m,\u001b[0m \u001b[0mrealign_boundaries\u001b[0m\u001b[1;33m)\u001b[0m\u001b[1;33m]\u001b[0m\u001b[1;33m\u001b[0m\u001b[1;33m\u001b[0m\u001b[0m\n\u001b[0m\u001b[0;32m   1332\u001b[0m \u001b[1;33m\u001b[0m\u001b[0m\n\u001b[0;32m   1333\u001b[0m     \u001b[1;32mdef\u001b[0m \u001b[0m_slices_from_text\u001b[0m\u001b[1;33m(\u001b[0m\u001b[0mself\u001b[0m\u001b[1;33m,\u001b[0m \u001b[0mtext\u001b[0m\u001b[1;33m)\u001b[0m\u001b[1;33m:\u001b[0m\u001b[1;33m\u001b[0m\u001b[1;33m\u001b[0m\u001b[0m\n",
      "\u001b[1;32m~\\Anaconda3\\lib\\site-packages\\nltk\\tokenize\\punkt.py\u001b[0m in \u001b[0;36mspan_tokenize\u001b[1;34m(self, text, realign_boundaries)\u001b[0m\n\u001b[0;32m   1319\u001b[0m         \u001b[1;32mif\u001b[0m \u001b[0mrealign_boundaries\u001b[0m\u001b[1;33m:\u001b[0m\u001b[1;33m\u001b[0m\u001b[1;33m\u001b[0m\u001b[0m\n\u001b[0;32m   1320\u001b[0m             \u001b[0mslices\u001b[0m \u001b[1;33m=\u001b[0m \u001b[0mself\u001b[0m\u001b[1;33m.\u001b[0m\u001b[0m_realign_boundaries\u001b[0m\u001b[1;33m(\u001b[0m\u001b[0mtext\u001b[0m\u001b[1;33m,\u001b[0m \u001b[0mslices\u001b[0m\u001b[1;33m)\u001b[0m\u001b[1;33m\u001b[0m\u001b[1;33m\u001b[0m\u001b[0m\n\u001b[1;32m-> 1321\u001b[1;33m         \u001b[1;32mfor\u001b[0m \u001b[0msl\u001b[0m \u001b[1;32min\u001b[0m \u001b[0mslices\u001b[0m\u001b[1;33m:\u001b[0m\u001b[1;33m\u001b[0m\u001b[1;33m\u001b[0m\u001b[0m\n\u001b[0m\u001b[0;32m   1322\u001b[0m             \u001b[1;32myield\u001b[0m \u001b[1;33m(\u001b[0m\u001b[0msl\u001b[0m\u001b[1;33m.\u001b[0m\u001b[0mstart\u001b[0m\u001b[1;33m,\u001b[0m \u001b[0msl\u001b[0m\u001b[1;33m.\u001b[0m\u001b[0mstop\u001b[0m\u001b[1;33m)\u001b[0m\u001b[1;33m\u001b[0m\u001b[1;33m\u001b[0m\u001b[0m\n\u001b[0;32m   1323\u001b[0m \u001b[1;33m\u001b[0m\u001b[0m\n",
      "\u001b[1;32m~\\Anaconda3\\lib\\site-packages\\nltk\\tokenize\\punkt.py\u001b[0m in \u001b[0;36m_realign_boundaries\u001b[1;34m(self, text, slices)\u001b[0m\n\u001b[0;32m   1360\u001b[0m         \"\"\"\n\u001b[0;32m   1361\u001b[0m         \u001b[0mrealign\u001b[0m \u001b[1;33m=\u001b[0m \u001b[1;36m0\u001b[0m\u001b[1;33m\u001b[0m\u001b[1;33m\u001b[0m\u001b[0m\n\u001b[1;32m-> 1362\u001b[1;33m         \u001b[1;32mfor\u001b[0m \u001b[0msl1\u001b[0m\u001b[1;33m,\u001b[0m \u001b[0msl2\u001b[0m \u001b[1;32min\u001b[0m \u001b[0m_pair_iter\u001b[0m\u001b[1;33m(\u001b[0m\u001b[0mslices\u001b[0m\u001b[1;33m)\u001b[0m\u001b[1;33m:\u001b[0m\u001b[1;33m\u001b[0m\u001b[1;33m\u001b[0m\u001b[0m\n\u001b[0m\u001b[0;32m   1363\u001b[0m             \u001b[0msl1\u001b[0m \u001b[1;33m=\u001b[0m \u001b[0mslice\u001b[0m\u001b[1;33m(\u001b[0m\u001b[0msl1\u001b[0m\u001b[1;33m.\u001b[0m\u001b[0mstart\u001b[0m \u001b[1;33m+\u001b[0m \u001b[0mrealign\u001b[0m\u001b[1;33m,\u001b[0m \u001b[0msl1\u001b[0m\u001b[1;33m.\u001b[0m\u001b[0mstop\u001b[0m\u001b[1;33m)\u001b[0m\u001b[1;33m\u001b[0m\u001b[1;33m\u001b[0m\u001b[0m\n\u001b[0;32m   1364\u001b[0m             \u001b[1;32mif\u001b[0m \u001b[1;32mnot\u001b[0m \u001b[0msl2\u001b[0m\u001b[1;33m:\u001b[0m\u001b[1;33m\u001b[0m\u001b[1;33m\u001b[0m\u001b[0m\n",
      "\u001b[1;32m~\\Anaconda3\\lib\\site-packages\\nltk\\tokenize\\punkt.py\u001b[0m in \u001b[0;36m_pair_iter\u001b[1;34m(it)\u001b[0m\n\u001b[0;32m    316\u001b[0m     \u001b[0mit\u001b[0m \u001b[1;33m=\u001b[0m \u001b[0miter\u001b[0m\u001b[1;33m(\u001b[0m\u001b[0mit\u001b[0m\u001b[1;33m)\u001b[0m\u001b[1;33m\u001b[0m\u001b[1;33m\u001b[0m\u001b[0m\n\u001b[0;32m    317\u001b[0m     \u001b[1;32mtry\u001b[0m\u001b[1;33m:\u001b[0m\u001b[1;33m\u001b[0m\u001b[1;33m\u001b[0m\u001b[0m\n\u001b[1;32m--> 318\u001b[1;33m         \u001b[0mprev\u001b[0m \u001b[1;33m=\u001b[0m \u001b[0mnext\u001b[0m\u001b[1;33m(\u001b[0m\u001b[0mit\u001b[0m\u001b[1;33m)\u001b[0m\u001b[1;33m\u001b[0m\u001b[1;33m\u001b[0m\u001b[0m\n\u001b[0m\u001b[0;32m    319\u001b[0m     \u001b[1;32mexcept\u001b[0m \u001b[0mStopIteration\u001b[0m\u001b[1;33m:\u001b[0m\u001b[1;33m\u001b[0m\u001b[1;33m\u001b[0m\u001b[0m\n\u001b[0;32m    320\u001b[0m         \u001b[1;32mreturn\u001b[0m\u001b[1;33m\u001b[0m\u001b[1;33m\u001b[0m\u001b[0m\n",
      "\u001b[1;32m~\\Anaconda3\\lib\\site-packages\\nltk\\tokenize\\punkt.py\u001b[0m in \u001b[0;36m_slices_from_text\u001b[1;34m(self, text)\u001b[0m\n\u001b[0;32m   1335\u001b[0m         \u001b[1;32mfor\u001b[0m \u001b[0mmatch\u001b[0m \u001b[1;32min\u001b[0m \u001b[0mself\u001b[0m\u001b[1;33m.\u001b[0m\u001b[0m_lang_vars\u001b[0m\u001b[1;33m.\u001b[0m\u001b[0mperiod_context_re\u001b[0m\u001b[1;33m(\u001b[0m\u001b[1;33m)\u001b[0m\u001b[1;33m.\u001b[0m\u001b[0mfinditer\u001b[0m\u001b[1;33m(\u001b[0m\u001b[0mtext\u001b[0m\u001b[1;33m)\u001b[0m\u001b[1;33m:\u001b[0m\u001b[1;33m\u001b[0m\u001b[1;33m\u001b[0m\u001b[0m\n\u001b[0;32m   1336\u001b[0m             \u001b[0mcontext\u001b[0m \u001b[1;33m=\u001b[0m \u001b[0mmatch\u001b[0m\u001b[1;33m.\u001b[0m\u001b[0mgroup\u001b[0m\u001b[1;33m(\u001b[0m\u001b[1;33m)\u001b[0m \u001b[1;33m+\u001b[0m \u001b[0mmatch\u001b[0m\u001b[1;33m.\u001b[0m\u001b[0mgroup\u001b[0m\u001b[1;33m(\u001b[0m\u001b[1;34m'after_tok'\u001b[0m\u001b[1;33m)\u001b[0m\u001b[1;33m\u001b[0m\u001b[1;33m\u001b[0m\u001b[0m\n\u001b[1;32m-> 1337\u001b[1;33m             \u001b[1;32mif\u001b[0m \u001b[0mself\u001b[0m\u001b[1;33m.\u001b[0m\u001b[0mtext_contains_sentbreak\u001b[0m\u001b[1;33m(\u001b[0m\u001b[0mcontext\u001b[0m\u001b[1;33m)\u001b[0m\u001b[1;33m:\u001b[0m\u001b[1;33m\u001b[0m\u001b[1;33m\u001b[0m\u001b[0m\n\u001b[0m\u001b[0;32m   1338\u001b[0m                 \u001b[1;32myield\u001b[0m \u001b[0mslice\u001b[0m\u001b[1;33m(\u001b[0m\u001b[0mlast_break\u001b[0m\u001b[1;33m,\u001b[0m \u001b[0mmatch\u001b[0m\u001b[1;33m.\u001b[0m\u001b[0mend\u001b[0m\u001b[1;33m(\u001b[0m\u001b[1;33m)\u001b[0m\u001b[1;33m)\u001b[0m\u001b[1;33m\u001b[0m\u001b[1;33m\u001b[0m\u001b[0m\n\u001b[0;32m   1339\u001b[0m                 \u001b[1;32mif\u001b[0m \u001b[0mmatch\u001b[0m\u001b[1;33m.\u001b[0m\u001b[0mgroup\u001b[0m\u001b[1;33m(\u001b[0m\u001b[1;34m'next_tok'\u001b[0m\u001b[1;33m)\u001b[0m\u001b[1;33m:\u001b[0m\u001b[1;33m\u001b[0m\u001b[1;33m\u001b[0m\u001b[0m\n",
      "\u001b[1;32m~\\Anaconda3\\lib\\site-packages\\nltk\\tokenize\\punkt.py\u001b[0m in \u001b[0;36mtext_contains_sentbreak\u001b[1;34m(self, text)\u001b[0m\n\u001b[0;32m   1381\u001b[0m         \"\"\"\n\u001b[0;32m   1382\u001b[0m         \u001b[0mfound\u001b[0m \u001b[1;33m=\u001b[0m \u001b[1;32mFalse\u001b[0m  \u001b[1;31m# used to ignore last token\u001b[0m\u001b[1;33m\u001b[0m\u001b[1;33m\u001b[0m\u001b[0m\n\u001b[1;32m-> 1383\u001b[1;33m         \u001b[1;32mfor\u001b[0m \u001b[0mt\u001b[0m \u001b[1;32min\u001b[0m \u001b[0mself\u001b[0m\u001b[1;33m.\u001b[0m\u001b[0m_annotate_tokens\u001b[0m\u001b[1;33m(\u001b[0m\u001b[0mself\u001b[0m\u001b[1;33m.\u001b[0m\u001b[0m_tokenize_words\u001b[0m\u001b[1;33m(\u001b[0m\u001b[0mtext\u001b[0m\u001b[1;33m)\u001b[0m\u001b[1;33m)\u001b[0m\u001b[1;33m:\u001b[0m\u001b[1;33m\u001b[0m\u001b[1;33m\u001b[0m\u001b[0m\n\u001b[0m\u001b[0;32m   1384\u001b[0m             \u001b[1;32mif\u001b[0m \u001b[0mfound\u001b[0m\u001b[1;33m:\u001b[0m\u001b[1;33m\u001b[0m\u001b[1;33m\u001b[0m\u001b[0m\n\u001b[0;32m   1385\u001b[0m                 \u001b[1;32mreturn\u001b[0m \u001b[1;32mTrue\u001b[0m\u001b[1;33m\u001b[0m\u001b[1;33m\u001b[0m\u001b[0m\n",
      "\u001b[1;32m~\\Anaconda3\\lib\\site-packages\\nltk\\tokenize\\punkt.py\u001b[0m in \u001b[0;36m_annotate_second_pass\u001b[1;34m(self, tokens)\u001b[0m\n\u001b[0;32m   1517\u001b[0m         \u001b[0mheuristic\u001b[0m \u001b[1;33m(\u001b[0m\u001b[1;36m4.1\u001b[0m\u001b[1;36m.2\u001b[0m\u001b[1;33m)\u001b[0m \u001b[1;32mand\u001b[0m \u001b[0mfrequent\u001b[0m \u001b[0msentence\u001b[0m \u001b[0mstarter\u001b[0m \u001b[0mheuristic\u001b[0m \u001b[1;33m(\u001b[0m\u001b[1;36m4.1\u001b[0m\u001b[1;36m.3\u001b[0m\u001b[1;33m)\u001b[0m\u001b[1;33m.\u001b[0m\u001b[1;33m\u001b[0m\u001b[1;33m\u001b[0m\u001b[0m\n\u001b[0;32m   1518\u001b[0m         \"\"\"\n\u001b[1;32m-> 1519\u001b[1;33m         \u001b[1;32mfor\u001b[0m \u001b[0mt1\u001b[0m\u001b[1;33m,\u001b[0m \u001b[0mt2\u001b[0m \u001b[1;32min\u001b[0m \u001b[0m_pair_iter\u001b[0m\u001b[1;33m(\u001b[0m\u001b[0mtokens\u001b[0m\u001b[1;33m)\u001b[0m\u001b[1;33m:\u001b[0m\u001b[1;33m\u001b[0m\u001b[1;33m\u001b[0m\u001b[0m\n\u001b[0m\u001b[0;32m   1520\u001b[0m             \u001b[0mself\u001b[0m\u001b[1;33m.\u001b[0m\u001b[0m_second_pass_annotation\u001b[0m\u001b[1;33m(\u001b[0m\u001b[0mt1\u001b[0m\u001b[1;33m,\u001b[0m \u001b[0mt2\u001b[0m\u001b[1;33m)\u001b[0m\u001b[1;33m\u001b[0m\u001b[1;33m\u001b[0m\u001b[0m\n\u001b[0;32m   1521\u001b[0m             \u001b[1;32myield\u001b[0m \u001b[0mt1\u001b[0m\u001b[1;33m\u001b[0m\u001b[1;33m\u001b[0m\u001b[0m\n",
      "\u001b[1;32m~\\Anaconda3\\lib\\site-packages\\nltk\\tokenize\\punkt.py\u001b[0m in \u001b[0;36m_pair_iter\u001b[1;34m(it)\u001b[0m\n\u001b[0;32m    316\u001b[0m     \u001b[0mit\u001b[0m \u001b[1;33m=\u001b[0m \u001b[0miter\u001b[0m\u001b[1;33m(\u001b[0m\u001b[0mit\u001b[0m\u001b[1;33m)\u001b[0m\u001b[1;33m\u001b[0m\u001b[1;33m\u001b[0m\u001b[0m\n\u001b[0;32m    317\u001b[0m     \u001b[1;32mtry\u001b[0m\u001b[1;33m:\u001b[0m\u001b[1;33m\u001b[0m\u001b[1;33m\u001b[0m\u001b[0m\n\u001b[1;32m--> 318\u001b[1;33m         \u001b[0mprev\u001b[0m \u001b[1;33m=\u001b[0m \u001b[0mnext\u001b[0m\u001b[1;33m(\u001b[0m\u001b[0mit\u001b[0m\u001b[1;33m)\u001b[0m\u001b[1;33m\u001b[0m\u001b[1;33m\u001b[0m\u001b[0m\n\u001b[0m\u001b[0;32m    319\u001b[0m     \u001b[1;32mexcept\u001b[0m \u001b[0mStopIteration\u001b[0m\u001b[1;33m:\u001b[0m\u001b[1;33m\u001b[0m\u001b[1;33m\u001b[0m\u001b[0m\n\u001b[0;32m    320\u001b[0m         \u001b[1;32mreturn\u001b[0m\u001b[1;33m\u001b[0m\u001b[1;33m\u001b[0m\u001b[0m\n",
      "\u001b[1;32m~\\Anaconda3\\lib\\site-packages\\nltk\\tokenize\\punkt.py\u001b[0m in \u001b[0;36m_annotate_first_pass\u001b[1;34m(self, tokens)\u001b[0m\n\u001b[0;32m    597\u001b[0m           \u001b[1;33m-\u001b[0m \u001b[0mellipsis_toks\u001b[0m\u001b[1;33m:\u001b[0m \u001b[0mThe\u001b[0m \u001b[0mindices\u001b[0m \u001b[0mof\u001b[0m \u001b[0mall\u001b[0m \u001b[0mellipsis\u001b[0m \u001b[0mmarks\u001b[0m\u001b[1;33m.\u001b[0m\u001b[1;33m\u001b[0m\u001b[1;33m\u001b[0m\u001b[0m\n\u001b[0;32m    598\u001b[0m         \"\"\"\n\u001b[1;32m--> 599\u001b[1;33m         \u001b[1;32mfor\u001b[0m \u001b[0maug_tok\u001b[0m \u001b[1;32min\u001b[0m \u001b[0mtokens\u001b[0m\u001b[1;33m:\u001b[0m\u001b[1;33m\u001b[0m\u001b[1;33m\u001b[0m\u001b[0m\n\u001b[0m\u001b[0;32m    600\u001b[0m             \u001b[0mself\u001b[0m\u001b[1;33m.\u001b[0m\u001b[0m_first_pass_annotation\u001b[0m\u001b[1;33m(\u001b[0m\u001b[0maug_tok\u001b[0m\u001b[1;33m)\u001b[0m\u001b[1;33m\u001b[0m\u001b[1;33m\u001b[0m\u001b[0m\n\u001b[0;32m    601\u001b[0m             \u001b[1;32myield\u001b[0m \u001b[0maug_tok\u001b[0m\u001b[1;33m\u001b[0m\u001b[1;33m\u001b[0m\u001b[0m\n",
      "\u001b[1;32m~\\Anaconda3\\lib\\site-packages\\nltk\\tokenize\\punkt.py\u001b[0m in \u001b[0;36m_tokenize_words\u001b[1;34m(self, plaintext)\u001b[0m\n\u001b[0;32m    561\u001b[0m         \u001b[1;32mfor\u001b[0m \u001b[0mline\u001b[0m \u001b[1;32min\u001b[0m \u001b[0mplaintext\u001b[0m\u001b[1;33m.\u001b[0m\u001b[0msplit\u001b[0m\u001b[1;33m(\u001b[0m\u001b[1;34m'\\n'\u001b[0m\u001b[1;33m)\u001b[0m\u001b[1;33m:\u001b[0m\u001b[1;33m\u001b[0m\u001b[1;33m\u001b[0m\u001b[0m\n\u001b[0;32m    562\u001b[0m             \u001b[1;32mif\u001b[0m \u001b[0mline\u001b[0m\u001b[1;33m.\u001b[0m\u001b[0mstrip\u001b[0m\u001b[1;33m(\u001b[0m\u001b[1;33m)\u001b[0m\u001b[1;33m:\u001b[0m\u001b[1;33m\u001b[0m\u001b[1;33m\u001b[0m\u001b[0m\n\u001b[1;32m--> 563\u001b[1;33m                 \u001b[0mline_toks\u001b[0m \u001b[1;33m=\u001b[0m \u001b[0miter\u001b[0m\u001b[1;33m(\u001b[0m\u001b[0mself\u001b[0m\u001b[1;33m.\u001b[0m\u001b[0m_lang_vars\u001b[0m\u001b[1;33m.\u001b[0m\u001b[0mword_tokenize\u001b[0m\u001b[1;33m(\u001b[0m\u001b[0mline\u001b[0m\u001b[1;33m)\u001b[0m\u001b[1;33m)\u001b[0m\u001b[1;33m\u001b[0m\u001b[1;33m\u001b[0m\u001b[0m\n\u001b[0m\u001b[0;32m    564\u001b[0m \u001b[1;33m\u001b[0m\u001b[0m\n\u001b[0;32m    565\u001b[0m                 \u001b[1;32mtry\u001b[0m\u001b[1;33m:\u001b[0m\u001b[1;33m\u001b[0m\u001b[1;33m\u001b[0m\u001b[0m\n",
      "\u001b[1;31mKeyboardInterrupt\u001b[0m: "
     ]
    }
   ],
   "source": [
    "sent_lens = []\n",
    "sent_nums = []\n",
    "for idx in range(df.text.shape[0]):\n",
    "    text = clean_str(df.text[idx])\n",
    "    texts.append(text)\n",
    "    sentences = tokenize.sent_tokenize(text)\n",
    "    sent_nums.append(len(sentences))\n",
    "    for sent in sentences:\n",
    "        sent_lens.append(len(text_to_word_sequence(sent)))\n",
    "    paras.append(sentences)"
   ]
  },
  {
   "cell_type": "code",
   "execution_count": 27,
   "metadata": {},
   "outputs": [
    {
     "name": "stdout",
     "output_type": "stream",
     "text": [
      "is the commissioner an arbitrator?. in the brady case, if the parties are not able to settle the matter, the federal district court in manhattan will have to determine whether the commissioners decision was arbitrary and capricious, not whether it drew its essence from the collective bargaining agreement.\n",
      "['is the commissioner an arbitrator?.', 'in the brady case, if the parties are not able to settle the matter, the federal district court in manhattan will have to determine whether the commissioners decision was arbitrary and capricious, not whether it drew its essence from the collective bargaining agreement.']\n",
      "is the commissioner an arbitrator?.\n",
      "in the brady case, if the parties are not able to settle the matter, the federal district court in manhattan will have to determine whether the commissioners decision was arbitrary and capricious, not whether it drew its essence from the collective bargaining agreement.\n"
     ]
    }
   ],
   "source": [
    "sent_lens = []\n",
    "sent_nums = []\n",
    "for idx in range(1):\n",
    "    text = clean_str(df.text[idx])\n",
    "    print(text)\n",
    "    texts.append(text)\n",
    "    #print(texts)\n",
    "    sentences = tokenize.sent_tokenize(text)\n",
    "    print(sentences)\n",
    "    sent_nums.append(len(sentences))\n",
    "    for sent in sentences:\n",
    "        sent_lens.append(len(text_to_word_sequence(sent)))\n",
    "        print(sent)\n",
    "    paras.append(sentences)\n",
    "    "
   ]
  },
  {
   "cell_type": "code",
   "execution_count": null,
   "metadata": {},
   "outputs": [],
   "source": [
    "sentences"
   ]
  },
  {
   "cell_type": "code",
   "execution_count": 28,
   "metadata": {},
   "outputs": [
    {
     "data": {
      "text/plain": [
       "[5, 43]"
      ]
     },
     "execution_count": 28,
     "metadata": {},
     "output_type": "execute_result"
    }
   ],
   "source": [
    "sent_lens"
   ]
  },
  {
   "cell_type": "code",
   "execution_count": 29,
   "metadata": {
    "_uuid": "e2104dd4695bf017fd45c7dc4c9d1e9cd43122a4"
   },
   "outputs": [
    {
     "data": {
      "image/png": "[encoded data removed]",
      "text/plain": [
       "<Figure size 432x288 with 1 Axes>"
      ]
     },
     "metadata": {
      "needs_background": "light"
     },
     "output_type": "display_data"
    }
   ],
   "source": [
    "sns.distplot(sent_lens, bins=200)\n",
    "plt.show()"
   ]
  },
  {
   "cell_type": "code",
   "execution_count": 30,
   "metadata": {
    "_uuid": "d755a630a563cb8fd8e6bc8cd3c2ae4bd2a98a00"
   },
   "outputs": [
    {
     "name": "stderr",
     "output_type": "stream",
     "text": [
      "C:\\Users\\jitesh\\Anaconda3\\lib\\site-packages\\numpy\\core\\_methods.py:140: RuntimeWarning: Degrees of freedom <= 0 for slice\n",
      "  keepdims=keepdims)\n",
      "C:\\Users\\jitesh\\Anaconda3\\lib\\site-packages\\numpy\\core\\_methods.py:132: RuntimeWarning: invalid value encountered in double_scalars\n",
      "  ret = ret.dtype.type(ret / rcount)\n"
     ]
    },
    {
     "data": {
      "image/png": "[encoded data removed]",
      "text/plain": [
       "<Figure size 432x288 with 1 Axes>"
      ]
     },
     "metadata": {
      "needs_background": "light"
     },
     "output_type": "display_data"
    }
   ],
   "source": [
    "sns.distplot(sent_nums)\n",
    "plt.show()"
   ]
  },
  {
   "cell_type": "code",
   "execution_count": null,
   "metadata": {},
   "outputs": [],
   "source": []
  },
  {
   "cell_type": "code",
   "execution_count": 31,
   "metadata": {
    "_uuid": "c3ea2a3aefd267b46c0947c04a7ad58bc9ca5e64",
    "colab": {},
    "colab_type": "code",
    "id": "zVjGIuJygxyP"
   },
   "outputs": [],
   "source": [
    "tokenizer = Tokenizer(num_words=max_features, oov_token=True)\n",
    "tokenizer.fit_on_texts(texts)"
   ]
  },
  {
   "cell_type": "code",
   "execution_count": 32,
   "metadata": {},
   "outputs": [
    {
     "data": {
      "text/plain": [
       "['is the commissioner an arbitrator?. in the brady case, if the parties are not able to settle the matter, the federal district court in manhattan will have to determine whether the commissioners decision was arbitrary and capricious, not whether it drew its essence from the collective bargaining agreement.',\n",
       " 'republicans are seeing weak returns on the tax law. it was supposed to be an asset come november. right now, it looks like more of a wash.',\n",
       " 'shalom harlow flashes boobs to stranger for oyster magazine shoot (photos). clarification: this piece has been edited to reflect that stevie dance did not characterize the girls gone wild-like shoot',\n",
       " 'turkish president erdogan had me jailed for telling the truth. in turkey, a debate as old as government itself is on the agenda again. this time, it is the turkish government’s secret',\n",
       " '5 things i learned to love about competitive sports for kids. there are a number of really good reasons to have a child experience this level of competitive sports -- they just may not be the reasons youd expect.',\n",
       " 'migrants stranded in greece clash with police at macedonia border. macedonian forces are building a border fence to keep them out.',\n",
       " 'motivational video, headspace: when is the best time of day to meditate? (watch). what is the best time of day to meditate? andy puddicombe, the mind man, weighs in on the topic in the video above. watch',\n",
       " 'back to school: following the school bus. the start of school year is much more complex for divorced or blended families than intact ones.',\n",
       " 'springtime inspiration: a tablescape and menu. i recently hosted a small luncheon in honor of my 91-year old grandmother. to make it special, i enlisted the help of a dear friend, beth horta, the florist, author and photographer behind the beautiful blog sweet sabelle.',\n",
       " 'middle school girl dismissed from class for wearing skin-colored tights (video). want more? be sure to check out huffpost style on twitter, facebook, tumblr and pinterest. dejas mother, yolanda tunstill',\n",
       " 'woman explains why she falsely accused her dad of sexual assault as a child. when i was a teenager, i ran away from home a lot, says amber, who had a tumultuous relationship with her mom growing',\n",
       " 'why where you divorce matters: equitable distribution vs. community property. where you divorce matters. each state has its own unique rules governing the allocation of assets during the divorce process, and these rules can vary significantly.',\n",
       " 'my 16-year-old son received a love poem -- from another boy. it’s always sort of adorable and sad when your kid starts attracting attention from would-be suitors. your little baby is',\n",
       " 'rethinking time. everyone in life must face and move through time. feeling how precious life is, we tend to squeeze as much as we can out of the moment.',\n",
       " 'huffpost journalists nominated for prominent awards by nabj, nahj. this is exciting news!',\n",
       " 'reduce stress: practice the 5-minute favor. of course, you stand to benefit when you give. imagine how different your day, or your life, would be, if you took five minutes out of every day to help someone else.',\n",
       " 'first nighter: you cant take it with you takes you with it merrily. rarely have i seen such a large collection of scene-stealers on one stage.  check that.  theres so much hilarity occurring that no one can steal a complete scene.  what these thieving actors do is steal extended moments.',\n",
       " 'beyonce wants you to know she decides for herself in new toyota commercial. in its 30 seconds, bey goes from fetus to full-blown diva, delivering her usual inspiring mantra. i had a choice: to stand',\n",
       " 'how i learned to love my body. it didnt happen overnight but gradually changing my brain led to changing my body. over the next year, i was exercising less and eating healthy. i didnt obsess, and the weight slowly came off.',\n",
       " 'chris murphy wants a new progressive foreign policy. the connecticut senators vision stands out among democrats.',\n",
       " 'what greek wisdom can teach the rest of the world about living well. another longevity secret of the ikarians? they live by island time. with greeces temperate climate, warm sunshine, beautiful',\n",
       " 'why its more important now than ever for congress members to experience poverty.',\n",
       " 'we dont need the freedom to hate. it is important to consider that the freedom of speech isn’t an inherent good.',\n",
       " 'have a ball. the act of learning how to catch is not just the application of hand-eye coordination: it requires timing, courage, and maybe, more than anything, trust. trust in themselves to do it, but firstly trust from the person who is throwing it. it should be us.',\n",
       " 'gods not dead keeps its message alive. gods not dead is the latest entry in the christian/family entertainment market. directed by harold cronk, the movie sends a strong christian message while being entertaining at the same time.',\n",
       " 'cpap is good for sex. a recent study brings most welcome and important news for men with obstructive sleep apnea -- and their partners. keeping up with your cpap routine can help to improve your sex life and your relationship, as well as your sleep.',\n",
       " 'the sexiest hotels in the dominican republic. although language can be a barrier for non-spanish speakers and the tap water is not potable, people are extremely friendly and the landscape is stunning.',\n",
       " 'sunday roundup. this week, the oscar race heated up, with birdman and grand budapest hotel leading the way with nine nominations each. in much more serious news, the planet itself continues to heat up, with nasa and the national oceanic and atmospheric administration announcing that 2014 was the hottest year in the 135 years since record-keeping began. whats more, the next 10 hottest years have all been since 1998. the record 2014 temperatures underscore the undeniable fact that we are witnessing, before our eyes, the effects of human-caused climate change, said climate scientist michael mann. of course, weve seen this movie before -- with alarming warnings about our steadily warming world repeatedly met with inaction. its like groundhog day, only without the laughs. unless we rewrite the script, and push our leaders to adopt the long-term thinking that this challenge requires, well soon be facing a [spoiler alert] very unhappy ending.',\n",
       " 'mexican man says 19-inch penis is destroying his life. women fear him and he is unable to work, he says.',\n",
       " 'tis the season for the best news bloopers of 2017. what a year.',\n",
       " 'gwist recap: the best videos from the gay youtube channel, august 11-17. miss richfield 1981 explores provincetown join miss richfield for a delightfully informative romp through the gayest of all',\n",
       " 'bacon candle added to yankee candles man collection would definitely be ron swanson-approved (video). just in case you wanted your home to smell like an ihop.',\n",
       " 'this islamophobic conspiracy theorist lectured police officers about islamic extremism. ryan mauro belongs to an organization that peddles fear and misinformation about islam.',\n",
       " 'nyc teens bar mitzvah projects support youth baseball in detroit. the true meaning of a bar mitzvah. a charitable initiative like the one these boys have created combines their own passions, helps those less fortunate and brings more meaning into their jewish coming-of-age ritual.',\n",
       " 'un climate talks limp toward global deal in 2015. environmentalists walked out on thursday, exasperated by lack of progress. rich nations are preoccupied with reviving their',\n",
       " 'the best diner foods to cure a hangover. hang in there, buddies. well make it through this one with a little grease.',\n",
       " 'company under fire for ad saying you wont feel like youre in china on buses. illinois suburban express later sent an apology for its anti-chinese email blast criticizing international students.',\n",
       " 'republicans go into hiding as donald trumps scandals deepen. gop lawmakers and white house officials wont defend trump on tv.',\n",
       " 'listen to katy perrys new single for a smorgasbord of awkward food euphemisms. you could use some sugar / cause your levels aint right.',\n",
       " 'app helps parents track kids trick-or-treating this halloween. the app will update a childs location every few minutes, and it allows children to send sos text messages in case of emergencies',\n",
       " 'athlete tells reporter dont blush, baby after asking her out on air. 😒',\n",
       " '8 things debt collectors wont tell you. it should come as no surprise that if youve fallen behind on your bills, you may be hearing from debt collectors. but there are things they arent likely to tell you, and knowing these things can make all the difference in resolving your debts.',\n",
       " 'americas underground chinese restaurant workers.',\n",
       " 'they called her a bitch. now, o.j. prosecutor marcia clark is seeing her image reborn.. they also called her shrill, strident and emotional. marcia clark talks surviving sexism, and her hopes for #metoo.',\n",
       " 'welcome to beautiful parkersburg, west virginia!. hold on to something,” jim tennant warned as he fired up his tractor. we lurched down a rutted dirt road past the old clapboard',\n",
       " 'deadly tornadoes lash louisiana and mississippi; nearly 200 homes destroyed. at least 30 people were injured.',\n",
       " 'dating myself. november 2003:\\xa0i am barely 23, married, and a newly christened mommy to a nursing, doesnt sleep much, what some would call',\n",
       " 'is there more to life than soccer? transformar o jogo bonito em vida bonita.',\n",
       " 'your body and mind relationship, revealed. generally speaking, we tend to think of our bodies and minds as separate systems and believe they function, for the most part, independently. yet instinctively we know that is not the whole story.',\n",
       " 'for men, its more waist management than weight management. time to stop blaming the wife or family, and start eating like a man. that doesnt mean starving yourself, or eating like a bird. it means managing your nutrition, and tackling your stress as well. heres what men can do to take control of their waists, and their health.',\n",
       " 'gal gadot shows off her wonder woman look in first photo. #wonderwoman is underway.',\n",
       " 'california sues donald trump over rollback of obama-era fracking rule. the risks of fracking to our health and to our environment are real, state attorney general xavier becerra says.',\n",
       " '6 tabata workout tips for first-timers. last week i shared my first-ever tabata workout, which left me super sore and wanting more. i want to share the tabata love',\n",
       " 'the right to live -- and die -- on your own terms. its a shame you have to relocate to die on your terms. but for those who are terminally ill who want to focus on the quality of their rest of their lives rather than worry about the prolonged pain of dying, it is a choice they make to put themselves and their loved ones at ease.',\n",
       " 'microsofts $6.2 billion writedown shows its losing war with google. fighting for online advertising dominance with google, microsoft bought aquantive in 2007--and wrote down almost the entire',\n",
       " 'real weddings: couples who got married over the holidays. the holidays are over and were settling into the new year. but why not reminisce about those blissful days off for just',\n",
       " 'namaste: revolutionizing wellness in the workplace. namaste new york is a concierge service that helps bring amazing yoga and wellness practitioners where theyre needed. one',\n",
       " 'serena williams loves this baby book written by one of her bffs. it’s been really, really good for me.”',\n",
       " 'what does food have to do with fashion?. if you know more about seasonal fashion trends than seasonal food options, or spend more time in the morning thinking about what youre going to wear rather than what youre going to eat, listen up.',\n",
       " 'vet jobs july employment situation report. the overall veteran unemployment rate for july is 6.9 percent, down from the june rate of 7.7 percent. the fact that the',\n",
       " 'in turmoil or triumph, donald trump stands alone. donald trump said in an interview that economic conditions are so perilous that the country is headed for a “very massive',\n",
       " 'donald trump uses 1943 photo to commemorate d-day invasion of 1944. oh, ffs.',\n",
       " 'wedding florists craft elephant made of flowers (photo). keep in touch! check out huffpost weddings on facebook, twitter and pinterest. click through the slideshow below for bouquets',\n",
       " 'david bowie used to do impressions of his fellow musicians. his springsteen is memorable.',\n",
       " 'its so obvious that you are a med school student. the way you interact with your fellow med student colleagues at work calls out your job description. its not the content of what you say to each other as you cross paths in the hospital hallways that leaves your identity utterly exposed. rather, it is the way your eyes transmit a complex but mutual signal of despair and competition that clearly says it all.',\n",
       " 'bridezilla vs. her mummy: whose wedding is it, anyway?. the difference between mother of the bride and mother-in-law comes down to just one day.',\n",
       " 'stop this habit today. begin your day with an intellectual mise-en-scene. plan ahead. prioritize your list. above all, put your smartphone away when you are with the people you love. they are your priority, not other peoples instagram feeds.',\n",
       " 'these two univ. of minnesota teammates open up about falling in love. justin rabon and brad neumann have been together for over two years.',\n",
       " 'incarceration and communication: why meaningful social relationships matter. what is the impact on american cultural and social relationships when we, as a nation, allow corporations to profit from incarcerating more and more of our very own citizens?',\n",
       " 'you cant build a business without accountability.',\n",
       " 'russian spies hack dnc computers and gain access to trump opposition research. two separate hacking groups were able to enter the dncs system and read e-mail and chat communications.',\n",
       " 'british actress reveals humiliating encounter with harvey weinstein. i felt violated by it, it has stayed very clearly in my memory.',\n",
       " 'the 3-day reset: restore your relationship with healthy food. healthy eating need not be confusing, nor should it require rules, restrictions, or sacrifices in flavor. in fact, we are all biologically hardwired to crave healthy, whole foods. all we need to do is restore ourselves back to what comes naturally.',\n",
       " 'thailand bars entry to teenage hong kong activist all because of china. he was invited to speak in bangkok but was detained and sent back.',\n",
       " '7 reasons the u.s. should stay out of the ukraine-russia fight. only a negotiated settlement, no matter how unsatisfying, offers the possibility of a stable resolution of the ongoing conflict. indeed, the alternative may be the collapse of the ukrainian state and long-term confrontation between the west and russia, at great cost to all sides.',\n",
       " 'feds plan to shut down dakota access pipeline protest camp. hundreds of protesters have until dec. 5 to get out or face prosecution.',\n",
       " 'what the big airplane decision reveals about your job. theres a moment on every airplane when you make a decision. its not a life changing decision, but its a decision nonetheless. its the moment when you decide -- am i going to speak to the person next to me? or am i going to ignore them?',\n",
       " 'bye-bye zucchini, hello chocolate! chocolate-zucchini bread recipe. what makes zucchini bread better? you know it, the answer is chocolate.',\n",
       " 'craigslist real estate: owner willing to sell lighthouse for $125,000 or classic car (photos). weve stumbled upon a lot of unusual items for sale but this one really made us stop in our tracks',\n",
       " 'david bowie the next day: pop stars ex-wife slams his new album. after a 10-year hiatus from the music business, david bowie is releasing his new album, the next day, in the u.s. on tuesday',\n",
       " 'this boy can stretch his uvula to never-before-seen lengths. doctors didn’t know what it was, so they said it was a cool party trick.',\n",
       " 'man accused of shooting at sheriff escapes jail; said to be armed and dangerous.',\n",
       " '7 gorgeous spring pea recipes. each part of the pea plant -- the tiny peas themselves, their shoots, even their pods (which can be simmered to make a broth) -- tastes of the sweet, sunny days of spring.',\n",
       " 'sleazy legal. as i sat staring at the divorce papers, i thought back to my father.  when he told me not to date cheap women, drink cheap booze, etc., i wish he had admonished me never to hire cheap legal. you do get what you pay for.',\n",
       " 'lulu frost fall 2012 look book shoot: behind the scenes with de lune blogger, claire geist (photos). since her senior year of college, lisa salzer (a.k.a. lulu frost) has seamlessly combined her passion for art history with',\n",
       " 'trump tells governors hes all about states rights. that must mean hell leave marijuana laws alone.. the idea that the feds may go after state pot laws is totally counter to what the president told us, says oregon gov. kate brown.',\n",
       " 'keith olbermann says nfl should suspend tom brady. one day for the inflation, 364 days for everything else.',\n",
       " 'arkansas school board member under fire for wearing racist blackface costume. some parents are calling on ted bonner to step down.',\n",
       " 'woman tried to sneak gun into jail in her genitals: cops.',\n",
       " 'people got some stuff off their chests with #confessyourunpopularopinions. warning, shots will be fired.',\n",
       " 'iceland company trolls englands soccer team with free whale watching tour. it must be hard to lose against the smallest nation that has ever taken part in a championship, the company sympathized.',\n",
       " 'expanding opportunity for aapi communities through education. as with every other race, obtaining a college degree means facing lower rates of unemployment. for aapis, having a college education means shaving nearly 2 percentage points off the unemployment rate compared to aapis with only a high school education.',\n",
       " 'overwhelming stink leads cops to massive illegal lobster stash.',\n",
       " 'know why gumballs are weird? take the fark weird news quiz. the best weird news quiz around.',\n",
       " 'black lives matter protesters to hold rally at mall of america. demonstrators will protest the fatal police shooting of jamar clark.',\n",
       " 'las vegas review-journal staffers want to know who owns their newspaper. i dont know who im working for.',\n",
       " 'why san francisco voters need to reject a housing moratorium. refusing to build new housing won’t save the mission. it’s a strategy that has already failed the city',\n",
       " 'john kerry breaks leg in bike crash.',\n",
       " 'piper perabo marries stephen kay.',\n",
       " 'stephen king is jealous of george r.r. martin.',\n",
       " 'federal judge orders return of iranian national deported under trumps ban. its yet another legal setback for the executive order.',\n",
       " 'hrt and breast cancer: a brief primer. the recent pfizer jury award is sure to scare many women. whether or not to take estrogen and or progesterone is a very personal decision that needs to be individualized.',\n",
       " 'jillian michaels talks to jay leno about motherhood (video). that final comment echoes something michales said in a people interview last year: parenting is not for sissies. you have',\n",
       " 'to the mom shooing her son away from the american girl doll today. you didn’t notice me next to you in the bookstore today. and i didn’t notice you. i was busy browsing the young adult books',\n",
       " 'how to rent your whole wedding. every girl dreams about finding the perfect dress for the perfect day. a dress to have and to hold, for better or for worse',\n",
       " 'these adorable pets are supporting the womens march. woof if you want equality!',\n",
       " 'crikey! steve irwin had the best reaction after being bit by a snake.',\n",
       " 'veterans pick up stranded biker, find out its bruce springsteen. “bikers gotta stick together.”',\n",
       " '4 crazy-convincing mocktails that taste just like real booze. here are the secrets behind bartender jon harris amazing mocktails.',\n",
       " 'gop attacks democrat who lost both legs in iraq for not standing for vets. seriously?',\n",
       " 'after divorce complications: friends, grandkids and others. unfortunately, divorce isnt like a stubbed toe that hurts intensely at the time but fades away after a while with -- hopefully -- no scar; instead, divorce can act more like a gluten allergy --always there, lurking and waiting to be triggered, then arriving uninvited to wreak havoc on our lives at any time.',\n",
       " '12 absurd (but real) concerns bachelorette suitors have about dating. lifes a peach when youre a moderately attractive ken doll on reality tv.',\n",
       " 'what’s all this talk about a gulf-israel alliance?. co-authored by andrea petrelli fair observer (@myfairobserver) originally published this article on may 22, 2017 since saudi',\n",
       " 'how to plan the perfect funeral.',\n",
       " 'bette midler to return to broadway in hello, dolly!. were calling this divine intervention.',\n",
       " 'dawn of the post-contemporary.',\n",
       " 'trump ignores middle east past, misunderstands explosive present, endangers future. there are problems when you either can’t or won’t read. you are completely dependent on others, weaseling advisors and media',\n",
       " 'rick steves: the original hipster. rick steves hipster fashion tip: leather bomber jackets and being surrounded by womens underwear rick steves hipster fashion',\n",
       " 'scott elliott and the theater of the uncomfortable. ive come to admire people, and theater companies, that take the risk. you have to hand it to elliott -- more than any other major off-broadway theater company, the new group consistently produces offbeat works.',\n",
       " 'fridays morning email: charleston gunman planned attack for months.',\n",
       " 'good guy with a gun. nobody is indispensable in life, and everytowns doing just fine without me, which is both a source of pride and a jagged little pill, to quote alanis morissette. but jim brady was a star to guide your ship by, and im not just talking about what he did for gun policy.',\n",
       " 'federal judge rules yet again texas intended to discriminate with voter id law. the ruling follows a switch in positions by the department of justice.',\n",
       " 'harry potter was the undisputed star of woody harrelsons live film. based on a true story.',\n",
       " 'the 10 looks that remind us that london fashion week is so worth it (photos). burberry prorsum jonathan saunders leave it to topshop to pick up on one of the biggest embellishments of the season: fringe',\n",
       " 'the greatest love story never told comes to the new york stage. matt bogart shows a different side of james joyce in himself and nora.',\n",
       " 'how grindrs security loopholes could threaten your privacy.',\n",
       " 'dave chappelle reprises chappelles show characters for walking dead spoof on snl. welcome tyrone biggums and chuck taylor back to the screen.',\n",
       " 'john mccain reveals his best possible replacement for va secretary.',\n",
       " 'hillary clinton needs a reverse sister souljah moment. as the 2016 presidential primary season approaches, two narratives have begun to emerge around hillary clinton. one is that she is almost certain to her partys nomination for president.',\n",
       " 'report: trump to set up war room to repel russia probe attacks. its his most aggressive effort yet to push back against allegations involving russia and his campaign.',\n",
       " 'hayao miyazaki is coming out of retirement to make another film. we need another story from the animator who accepts darkness and nuance.',\n",
       " 'hollywood stars, producers call for georgia boycott if anti-lgbtq law passes. the bill could allow adoption agencies to reject same-sex couples.',\n",
       " 'the trajectory of tragedy. situations like these bring to the surface what has been bubbling in the depths of our subconscious. we can use this time to see the true stuff were made of -- and activate the grit of our souls.',\n",
       " 'minimize distraction to restore connection. an important question to ask ourselves then: do i want the fullest life, or the most fulfilling life?\\nif youre feeling full and unfulfilled, its time to try something new.',\n",
       " 'a love letter to miami. when people say miami they dont just mean the city of miami. they mean miami beach and bal harbour and coral gables and just about any place and everyplace within the county boundaries. and while i loved every inch of you for what you once were, i love you even more for what you have become.',\n",
       " 'mothers day carved a hole in my heart: a noisy spirit speaks out. this year, i didnt dread mothers day, because i found an antidote to the deep sorrow it used to trigger within me. i hope by sharing my story that i can help others find peace -- and even joy -- after the loss of a child.',\n",
       " 'on cyber monday, consider all the workers who bring you that stuff. what happens after you click buy.',\n",
       " 'perpetual hatred is not the answer. my outrage will not stem from my citizenship or my religious beliefs, but from the fact that i am a human being. no more, no less.',\n",
       " 'designing around dr. seuss. as a decorator to the rich, the famous and often eccentric i swear ive heard it all. ive been asked to decorate around a painting, a chandelier, a pet dog and even a chair. this month marks a first. i was asked to decorate around a writer -- but not just any writer!',\n",
       " 'death toll from typhoon hagupit climbs.',\n",
       " 'populism is still a threat to europe — heres how to contain it. richard maher, european university institute has the populist tide sweeping europe crested? six months ago, many european',\n",
       " 'more than one wedding: why couples choose to say i do multiple times (videos). click through the slideshow below to see eight gorgeous multicultural weddings. keep in touch! check out huffpost weddings',\n",
       " 'tory burch files lawsuit against bluebell accessories for copying tt logo (photos). the wholesale accessories company may want to seek better counsel, as burch is not likely to back down when it comes to protecting',\n",
       " 'carrie underwoods marriage going strong, singer not worried about infidelity. in the february issue of allure, the country singer revealed that people have asked her if shes worried about fisher cheating',\n",
       " 'atos national office revokes charter from indiana chapter over oral sex video. the national office says no pledge was forced to participate, but its still highly offensive.',\n",
       " 'walmart canada apologizes after it was caught trashing ‘perfectly good food’ (update). there are mistakes being made.',\n",
       " 'nina katchadourian, artist, recreates flemish paintings in airplane lavatory (photos). artist nina katchadourian has a creative way of passing the time on a long-haul flights: she recreates famous flemish paintings',\n",
       " 'recommendations for avoiding toxic pet treats. a high-quality pet treat will not contain grains or unnecessary fillers, rendered animal by products, added sugar (sometimes hidden in ingredients like molasses and honey), chemicals, artificial preservatives, or ingredients known to be highly allergenic to pets.',\n",
       " 'this 11-year-old perfectly sums up the problems in ferguson.',\n",
       " 'ptsd service animal ad will make you laugh, cry, and hug your dog a little closer (video). thats the premise illustrated in a powerful new ad from the royal dutch guide dog foundation, a nonprofit in the netherlands',\n",
       " 'colbert: trumps nothing burger is really a juicy quarter pounder with sleaze. the late show host wonders whats really going on with the russia scandal.',\n",
       " 'sharon stone honored by the marrakech international film festival. a sign of an exceptional actress: as she walked up the red carpet to the opening ceremony of the marrakech international',\n",
       " 'mitt romneys re-invention as anti-poverty warrior.',\n",
       " 'marco rubio explains his absenteeism in the senate. the presidential candidate says his legislative job is about more than just voting.',\n",
       " 'man katy perry kissed on american idol says he didnt like it. i wanted my first kiss to be special.',\n",
       " 'flapper dresses for a night on the town (photos). flappers were women in the 1920s who, after world war i, showed their disdain for social mores with short hemlines, bobbed',\n",
       " 'mass sexual violence leaves rohingya women traumatized and stateless. the united nations has documented shocking accounts of sexual violence, including gang rape, against rohingya women and girls',\n",
       " 'christian pulisic: the making of a young man ready to step up. the tiny village of tackley, eight miles north of oxford, has probably not nurtured too many elite sportspeople, but it was',\n",
       " 'tiger tracker: round 3, wgc-cadillac championship. tiger woods survived tough scoring conditions friday at trump national doral to finish at 5 over after two rounds of the',\n",
       " 'news roundup for june 13, 2017. the summer of trump continues. 1. j.p. morgan chase have pulled their ads from nbc to protest megyn kelly’s upcoming interview',\n",
       " 'how to instantly upgrade your grilled cheese (photos). grilled cheese is good, but you can make it even better.',\n",
       " 'two more u.s. citizens confirmed killed in brussels attack. washington, march 27 (reuters) - two more u.s. citizens have been confirmed killed in last weeks brussels suicide bombings',\n",
       " 'google+ now open for teens with some safeguards. for the most part, teens experience on google+ will be just like adults, but there are some special safeguards for users under 18. google didnt put any major breaks on teens -- its giving them freedom, but it did make some default settings for teens more restrictive.',\n",
       " 'how higher education can prepare the volunteer generation. the volunteer generation has come to adulthood. they are bringing skills learned in the classroom and practiced in community into the workplace and, yet, more often than not, they are settling into jobs that fit their skillset but not their budding passion.',\n",
       " 'this streaker in buffalo ran for more yards than the bills did. sign him up! but give him clothes first.',\n",
       " 'laura ingraham once sent a student reporter to secretly tape lgbtq group. at the time, she defended the move as a freedom of the press issue, obviously.',\n",
       " 'what progressive christians need to do to take back their faith. the election results are mobilizing christians who say trump doesnt represent them.',\n",
       " 'make every day veterans day. as on many veterans days in years past, this year we find our nation at war. the war in afghanistan -- the longest conflict in our history -- sharply reminds us at the department of veterans affairs of our urgent and ongoing commitment to servicemembers and veterans.',\n",
       " 'aiguille du midi offers epic, thrilling views (photos). aiguille du midi has long been a destination for travelers exploring the mont blanc region of the french alps. its viewing',\n",
       " '5 ways to protect children during divorce. wondering what is best for your kids and navigating the optimal way to get them through the transition might feel like a constant struggle.',\n",
       " 'john larson midterm election results: larson defeats republican opponent.',\n",
       " 'snl takes on health care and morning joe romance. kate mckinnons mika brzezinski veers from furious to faux-kissing.',\n",
       " 'in 2016, scott pruitt called trump a bully who would abuse the constitution. the epa administrator said tuesday that he doesnt recall making such comments.',\n",
       " 'give your kitchen a makeover with these easy organizing tricks (video). to see these tips -- and more -- check out the clip above! some of staceys most helpful tips? store certain items that arent',\n",
       " 'finnish dad sends youngest astronauts ever on a space odyssey (video). tero tähtinens mission for christmas last year definitely went above and beyond the call of parental duty -- to infinity',\n",
       " 'scotus and marriage equality -- the sky is not falling. metropolitan community churches are proud to say marriage equality has been part of our dna for almost 50 years. one of the first things our founder, rev. elder troy perry, did after forming metropolitan community church in 1968 was to begin performing marriage ceremonies.',\n",
       " 'possibly tipsy man loves cheap costco beer so much, he made a commercial for it. though he later said all cheap beer is pretty much the same.',\n",
       " 'kim kardashian, britney spears and 24 other toe ring wearers (photos). the early 2000s were many things, but fashionable was not always one of them. do you remember bleached streaks? cargo pants',\n",
       " '9 habits of profoundly influential people. influential people arent buffeted by the latest trend or by public opinion. they form their opinions carefully based on the facts. theyre more than willing to change their mind when the facts support it, but they arent influenced by what other people think, only by what they know.',\n",
       " 'baltimore cop accused of planting drugs in body cam video indicted. more than 100 prosecutions involving officer richard pinheiro jr. have been dropped.',\n",
       " 'iphone 6 appears, apple television doesnt and colors! this week in apple rumors. hello, ladies and gentlemen, and welcome to this week in apple rumors, our regular look back at all of the weeks unconfirmed',\n",
       " 'the resilient and heroic women of south sudan. when it comes to tackling sexual and gender based violence, as well as gender equality, its time for leaders in south sudan and the international community to follow the leadership displayed by josephine and the inspiring women of south sudan.',\n",
       " 'ocean algae can evolve when faced with climate change.',\n",
       " 'when you want to stop being single. dont forget -- you are a person of many qualities and talents -- regardless of whether you have a partner or not. dont judge your worth based on your relationship status.',\n",
       " 'senate judiciary committee has 2 black members for first time in its history. sen. kamala harris and sen. cory booker will be the 200-year-old panels second and third african-american members.',\n",
       " 'hey, mark zuckerberg: women write important books, too. the facebook guru recommended 23 books everyone should read in a lifetime, but it’s shockingly male-centric.',\n",
       " 'why our food = our politics.',\n",
       " 'j.k. rowling sends harry potter books to 7-year-old fan in war-torn syria. the author turned on the magic after the girls mom asked her how she could get a copy.',\n",
       " 'funny breakup: woman allegedly breaks up with boyfriend in kiss cam clip (video). when the kiss cam zooms in on you at a sporting event, you give it what it wants: a kiss. if you dont, youll likely get',\n",
       " 'why are we so scared of teenage girls?. “i’d rather do anything than treat teenage girls,” a psychologist friend once told me. he said that teenage girls couldn’t',\n",
       " 'the most popular new gay phrase (thats actually really old). summer 2012 fostered two phrases that swept across new york like a gaggle of giggling girls in town for some cheerleader',\n",
       " 'tacoma little theatre presents a vibrant version of the classic cabaret.',\n",
       " 'for the love of grace. grace audrey mcdonnell didnt have an ounce of hate in her. she was the light and the love of her family. she was chris and lynns daughter and jacks little sister. she was a granddaughter, a friend and loved by many. but to me, she will always be, simply grace of my heart.',\n",
       " '4 ways technology is making you age faster -- and what to do about it.',\n",
       " 'lights go on,  part xxxviii -- friends.',\n",
       " 'joel kinnaman on robocop and why its different than the original. oh, thats interesting. we spend more with him when hes on the job and we spend more time with him and his family. we get',\n",
       " 'remarkable floating farms could help feed hungry people around the world. food. its easy to love. breakfast, lunch, dinner. brunch. linner. ill take them all.',\n",
       " 'recent data breaches spark debate over reasonable notification rules. lawsuits filed by pennsylvania, los angeles and chicago are drawing attention to the vague language in many state laws defining how quickly consumers must be informed of a data breach once it has been discovered.',\n",
       " 'sarah jessica parker says ellen can play samantha in sex and the city 3. i am a sexual beast, the talk-show host quipped.',\n",
       " 'gop campaign veterans say they wouldnt have met with foreign agent offering dirt. “senior presidential campaign officials don’t take meetings with nameless people.',\n",
       " 'hotels that are also attractions (photos). whether these hotels have created culinary staples, witnessed historical change or inspired the worlds greatest minds, they all have one thing in common -- they have irreversibly changed the way the world perceives the limits of hospitality.',\n",
       " 'kate walsh thinks 13 reasons why should be mandatory viewing in schools. as long as anything is shrouded in shame or secrecy, nothing good can come from it.',\n",
       " 'oskar groening, 96-year-old bookkeeper of auschwitz, deemed fit for prison. german prosecutors said groening, an ex-nazi death camp guard, was medically fit to serve the four-year sentence he received for his role in the holocaust.',\n",
       " 'target hackers stole pins: source. on monday, santander - a unit of spains banco santander - followed suit, lowering the daily limits on cash withdrawals and',\n",
       " 'obamas crackdown on whistleblowers: petraeus plea deal reveals double standard for leaks. in march petraeus agreed to a lenient plea deal which will likely only result in two years probation and a $40,000 fine for giving classified information to his mistress and authorized biographer paula broadwell.',\n",
       " 'this cave of crystals is not the fairytale youre expecting.',\n",
       " 'tyler perry joins chloë grace moretz in brain on fire. tyler perry is on fire.',\n",
       " 'nbc news correspondent ayman mohyeldin returning to gaza.',\n",
       " '5 unconventional ways to be a good friend. by sam ferrigno for hooplaha.com your friends deserve the best, and sometimes that means doing the unexpected. hooplaha.com',\n",
       " 'dad tries out pregnancy for mothers day. as he learns, the struggle is real.',\n",
       " 'family recipes: how a green soup recipe can help bridge the seasons. this kind-of-vichyssoise-but-not-really was the result of my mothers legendary foresight.',\n",
       " 'gun dealer likely thwarted mass shooting by refusing sale: sheriff. james howard, 25, was wanted for an assault at ohio university when deputies say he tried to purchase a rifle with a falsified background check.',\n",
       " 'king alfred the greats pelvic bone may have been discovered in museum storage box. radiocarbon tests showed that it dates between the years 895 and 1017. further skeletal analysis showed that the bone belonged',\n",
       " 'afghan cooking comes home. nawida saidhosin promised wed get to hear her love story. but first, wed need to prepare the three dishes on our cooking class menu.',\n",
       " 'watch 1998 rudy giuliani completely torpedo 2018 rudy giulianis trump arguments. “you gotta do it. i’m mean, you don’t have a choice.”',\n",
       " 'ice detains woman for a month even though she says she qualifies for citizenship. “she was sleeping on a hard floor with no blankets. there were roaches everywhere, her attorney said.',\n",
       " 'this ancestry.com border patrol parody is funny and possibly frightening. not sure whether to cry-laugh or laugh-cry.',\n",
       " 'chrissy teigen has classic response to critics of her ballet vid. she wasnt afraid to step on some toes in funny retort.',\n",
       " 'unexpected marriage proposal sweeps woman off her feet, literally. the viral video shows the magical moment it -- and she -- went down.',\n",
       " 'no charges against john hinckley in death of james brady.',\n",
       " 'last known person to see 7-year-old kyron horman – where does she think he is?. six years ago, kyron horman disappeared after his stepmother, terri horman, says she dropped him off at his second grade',\n",
       " 'dad who poisoned childrens pizza sentenced.',\n",
       " 'the republican tax agenda has a not quite problem. about that doubled standard deduction...',\n",
       " 'swimming through fear with jamie patrick. unlike our ancestors (who had to endure all sorts of grueling survival challenges), most of us dont know or understand our limits -- because we dont reach them. were afraid of the pain. were afraid of what we might find out about our character.',\n",
       " 'former clerk defends arizona judge who ruled against ex-sheriff joe arpaio. the recently pardoned arpaio claims he was the victim of a political witch hunt.',\n",
       " 'the newsroom reviews, brave, justin biebers believe & more: the week in ouch. aaron sorkins latest may or may not be his best, but tv critics havent unanimously bashed a series like this since abcs',\n",
       " 'joan jett issues statement on runaways jackie fox rape allegations. if i was aware of a friend or bandmate being violated, i would not stand by while it happened.',\n",
       " 'syrian archbishop on christians threatened by isis: we may disappear soon.',\n",
       " 'being a parent/caregiver: patience, compassion and guilt. a friend told me once that a parent is only as happy as their least happy child. when one of your kids is battling a chronic, debilitating disease, the limitations on that happiness becomes abundantly clear.',\n",
       " 'jump-start your new years resolution to lose weight today. why not pick up a few new, healthy habits before the start of 2013?  by following these simple tips, you will be able to leave the extra holiday pounds (and the guilt that comes with them) in 2012.',\n",
       " 'bernie sanders new digital whiz comes from a mobile company empowering progressive activists. becky bond does whatever it takes to advance progressive priorities.',\n",
       " 'world cup vs. planet earth. as i watch the frenzied world cup competition approach its apex, i cannot help but wonder why human beings are more interested in kicking balls around a field than they are in the fact that our activities have bought us a one-way ticket to extermination.',\n",
       " 'orioles player scores a standing ovation at fenway in apology for racial slurs. boston fans threw food at adam jones and called him the n-word at mondays game.',\n",
       " 'michael phelps: i was in a really dark place, not wanting to be alive anymore. for almost five days in the fall of 2014, the most decorated olympian in history lay curled in a fetal position in his baltimore',\n",
       " 'dirty. i cannot brush my hair today/there is no time, there is no way./i have a toddler and new twins too\\n/if im not wiping poop im giving boob.',\n",
       " '787 dreamliner: why the new airliner may make passengers toss and turn. i dont know about you, but im starting to feel like ive read the same glowing write-up 50 times. theres so much buzz about the plane it seems almost suspicious.',\n",
       " 'james franco blasts spring breakers 2.',\n",
       " 'for sarai sierra and solo travel. for me, traveling alone is far better than dying a slow death of desperation or frustration. of course, as women we need to take important steps to make sure that where we go is safe and others can easily contact us.',\n",
       " 'the fiftieth anniversary of the beatles arrival in new york. on friday, february 7, 1964—fifty years ago today—the beatles landed in the united states; they played on “the ed sullivan',\n",
       " 'kelly osbournes manicure, made of diamonds, causes outrage after emmys (photos). the co-host of e!s fashion police announced her pricey beauty treatment before the emmys on sunday, posting an instagram',\n",
       " 'these beautiful march blooms will help you capture the spring spirit. the stress and strain of constantly being connected can sometimes take your life -- and your well-being -- off course. gps',\n",
       " 'holiday gift guide 2012: what to buy for the urban gardener on your list. because talented gardeners deserve some recognition!',\n",
       " 'space robot arm tech could help surgeons operate on kids.',\n",
       " 'if politicians roasted each other on facebook. imagine a facebook debate that starts with a donald trump post and a hillary clinton comment. what could go wrong there? feel',\n",
       " 'chris rock proves the oscars are just like new years eve. accurate.',\n",
       " 'drake claims he feels 100 about madonnas kiss.',\n",
       " 'huffpost tastemakers: artisan meat share. craig deihl has some great things to share.',\n",
       " 'dzhokhar tsarnaev remains in serious condition, may have suffered throat injury. during the impromptu interview outside fenway park saturday, patrick added that tsarnaev will need time to recover before',\n",
       " 'time magazines 30 pinners to follow includes a few (un)surprising pinterest accounts. head over to time to see the full list, and be sure to click through our slideshow for other amazing pinners. the results',\n",
       " 'fridays morning email: finally.. hillary clinton accepts the nomination and breaks yet another glass ceiling.',\n",
       " 'rihannas plastic heels will make you sweat just looking at them. these are wild.',\n",
       " 'climate deal text agreed in paris. organisers of the climate talks in paris say a final text has been agreed after nearly two weeks of intensive negotiations',\n",
       " 'buzzfeed ceo argues against uk office unionizing. but under uk law, the unionization effort is effectively a done deal.',\n",
       " '15 game-day dips and finger foods. food is the most important part of any game-day celebration, and you can never have too many dips or finger foods.',\n",
       " '5 christmas songs that will add a dash of sexism to your holidays. baby, it may be cold outside, but please respect my boundaries, ok? 🎅🎄',\n",
       " 'french prime minister: we are at war against radical islam.',\n",
       " 'the fed is considering raising interest rates, but the economy may not be ready. the fed balances concerns about inflation with its commitment to full employment.',\n",
       " 'taylor swifts victorias secret fashion show performance dissed by model (updated). jessica hart, who walked the show along with the rest of the lingerie models, told womens wear daily swift wasnt the best',\n",
       " 'russian soldiers are secretly dying in syria. they were in syria as private contractors deployed by the kremlin.',\n",
       " 'prominent anti-war activist and member of ‘chicago 7’ tom hayden dead at 76. he was one of several protesters arrested and charged with incitement and conspiracy during the democratic national convention in chicago in 1968.',\n",
       " '10 things you didnt know about louis c.k.. weve all heard how louis c.k.s toiled in obscurity for years, only winning renown in his 40s with his wildly acclaimed fx show, louie. but there are several places he popped up over the years that may surprise you.',\n",
       " 'malala yousafzai makes emotional return to pakistan 6 years after assassination attempt. its her first visit back to her home country since the taliban targeted her for going to school in 2012.',\n",
       " 'cal jet makes sunny mazatlan accessible. mazatlan is the place where ive wiggled my toes in the sand, swum in the waves, sampled the restaurants, admired the city lights at night from a friends house high on a hill and, along the way, made a dozen new friends. and now theres a new way to get there.',\n",
       " 'serena williams sings under the sea, slays karaoke set. just a little u.s. open tune-up.',\n",
       " 'hot on pinterest: 5 pinners to follow now. wonder forest: this pinterest account, curated by canadian designer and blogger dana fox, is filled with soft and ethereal',\n",
       " 'donald trump uses his first commencement speech as president to brag about crowd size. he also urged graduates not to become critics and spoke a little bit about football.',\n",
       " 'claims of virgin births in u.s. highlight pitfalls of self-reported data. by sharon begley for the study of putative virgin pregnancies, researchers at the university of north carolina at chapel',\n",
       " 'young people suing their government over climate change just won another big case. the kids are telling adults to do what needs to be done now.',\n",
       " 'blink and youll miss taylor swifts brother in new i.t. trailer. but will it be better than valentines day?',\n",
       " 'kerry washington and simone biles share a golden moment at golden globes. so proud of you. so excited.',\n",
       " 'captive audiences.',\n",
       " 'u.s.-africa summit: president obama should dis-invite uganda dictator gen. museveni. the august summit is an excellent moment in history to change the narrative of u.s. engagement with africa. but the presence of some notorious ones distracts from this major event.',\n",
       " 'hug the future: hour of the wolf movie review of tomorrowland. upon reflection, it turns out ive been looking forward to tomorrowland more than ive been looking forward to any actual tomorrows. which is ironic, because that is pretty much what this film -- directed by brad bird, who co-scripted with damon lindelof -- is about.',\n",
       " 'obama will preserve at least one copy of cia torture report as part of his presidential papers. proponents of declassifying the report expressed concern it would be destroyed once donald trump took office.',\n",
       " 'meet moziah bridges: 11-year-old ceo of his own bow tie design empire. ever since he was four-years old and dressing himself, moziah mo bridges, now 11, insisted on wearing a suit and tie whenever he could, even to the grocery store or while riding his bike.',\n",
       " 'yale could rename calhoun college. why hasnt it made a decision yet?. under peter salovey, the yale corporation gains influence. and its slowing things down.',\n",
       " 'texting, tv and tech trashing childrens attention spans. although teachers see a number of advantages in young peoples heavy use of digital media (especially in their ability to find information quickly and efficiently), it is the potentially harmful effects that have families, educators and policy makers worried.',\n",
       " 'major california wildfire mostly contained.',\n",
       " 'the soul of photography. i bought my first camera, a soviet made zenit-e slr, in 1970. i still have the first roll of black and white 35mm film that i developed. the smell of developer and fixer from the countless hours i have spent in darkrooms is still imprinted in my brain. to this day i always carry a camera.',\n",
       " 'snl sketch for liberal wonderland the bubble is ... necessarily honest. a community of like-minded freethinkers. and no one else.',\n",
       " 'macular degeneration: chemistry nobel laureate develops tool to diagnose visual distortions. macular degeneration causes visual distortion and even complete loss of sight. when the wife of chemistry nobel laureate',\n",
       " 'inside the mind of the teenage boy. apparently, this is what happens when you ask your teenage sons to rake the leaves and mow the lawn. the good news is they',\n",
       " 'no grades for cancer: redefining success as a student. when i was diagnosed with cancer in the middle of college, i threw myself into the study of being a good cancer patient. but it didnt take long for me to realize that cancer doesnt play favorites with the teachers pets.',\n",
       " 'trumpcare is riddled with broken promises. less care for higher cost, all the while providing billions in tax breaks to the super wealthy.',\n",
       " 'federal prosecutors still trying to turn trump inauguration protesters into felons. though jurors acquitted the first defendants, the government is pursuing multiple felony charges against four more.',\n",
       " 'heres proof every suspicion you have about pot smokers is true.',\n",
       " 'the best cherries for eating vs. baking. photo from 3liz4, flickr. do you know the difference between the kind of cherries youd eat vs. the ones you should bake',\n",
       " 'driver plows into pedestrians at irvine meadows amphitheatre. police said nine people were hurt in the crash.',\n",
       " 'group named for youngest boston marathon victim urges kids to spread peace. martin richard was 8 years old when he was killed during the 2013 boston marathon attacks.',\n",
       " 'donald trump says his sons will run his company, but no new deals while hes in office. the president-elect announced the plan on twitter late monday.',\n",
       " 'you may be able to train your brain to be fearless. a developing treatment called neurofeedback may help people suffering from anxiety and ptsd.',\n",
       " 'syria aid worker: a motionless world is watching wholesale slaughter. help is getting fainter in besieged syrian region.',\n",
       " 'wonder woman inspires crazy sword-in-the-dress memes. sometimes a sword is just a sword.',\n",
       " 'watch: sad goats heart-lifting reunion with donkey bestie.',\n",
       " 'house tour: michelle schiebe, of decor and the dog blog, builds a new home on a budget. when looking for a home together, the young couple couldnt find everything on their wish list at a price they could afford',\n",
       " 'browns josh gordon to enter rehab. gordon has missed 30 of 35 of the browns last games due to suspensions over failed drug tests.',\n",
       " 'dutch lawmakers make ‘historic’ move to expand legal pot policy. a bill that would decriminalize marijuana growing has cleared the lower house of parliament.',\n",
       " 'heres the complete list of winners at the 2017 mtv vmas. the moon people are here.',\n",
       " 'were sorry to see you go. im a big fan of the irish goodbye. you know, where you slip out the back door before anyone knows youre gone? its easy, efficient, painless and saves you from long goodbyes and agonizing dont gos.',\n",
       " 'as time goes by. is my one-time favorite magazine going the way of the dodo bird? whats to become of time after it was cut loose from a corporate tether tied to a sought-after prize?',\n",
       " 'europes secret hot spots (photos). americans cant get enough of paris, as becomes painfully clear each summer, when it swarms with tourists. relief waits a',\n",
       " 'the fogcatcher inn on moonstone beach is great for dogs. cambria’s moonstone beach is pure paradise. pamper your pet. that’s our motto. we were hoping our room had a fireplace. voila',\n",
       " 'madonna gets real about sexism and misogyny in emotional billboard women in music speech. “if you’re a girl, you have to play the game.”',\n",
       " 'travel expert shares insights on babymoons ahead of what to expect (photos). some more advice: keep in mind that cruise companies and airlines do have restrictions on when pregnant women can travel',\n",
       " 'icymi: who faces more sexism, female politicians or lab rats?. health stories you may have missed.',\n",
       " 'vape pens sales continue booming despite looming restrictions. electronic cigarettes and vaporizing devices became available less than a decade ago, and have since grown into a multi-billion dollar industry despite a lack of data demonstrating their safety for consumers.',\n",
       " 'how to get the best seat at dinner (infographic). never be stuck at the wrong end of the table again.',\n",
       " 'our girl in havana: the virtual black hole, part i. all i wanted was to tell my family that i hadnt passed out on the cuban pavement in a rum stupor. i didnt know it was possible to run out of internet.',\n",
       " 'addiction, self-gratification or love? how do we deal with our pain?. ultimately, its not my pain, its our pain that i feel every day, and the more i love myself, god and others, the more all our pain will be healed. and the more that i live in the energy of love that you, god and i generate, the more able i am to deal with the pain i face.',\n",
       " 'six critically injured, 120 treated at napa hospital following 6.0 earthquake.',\n",
       " 'promise phan, amazing makeup artist, transforms herself into celebrities on youtube (photos). most of us use makeup to highlight our best features. promise tamang phan can use it to transform herself into a whole different',\n",
       " 'how isis used the orlando shooting to feed its propaganda machine. the terror group didnt plan the attack, but it was quick to claim responsibility.',\n",
       " 'jeb bush draws contrast with self-promoter rivals in first tv ad. im offering something different: leadership, ideas and a proven conservative record.',\n",
       " 'as italians turn to fortune tellers, priest points to growing need for exorcists. the vatican is training exorcists to cope with the demand.',\n",
       " 'recipe of the day: spaghetti carbonara. its spaghetti, with bacon, eggs and cheese.',\n",
       " 'kanye pulled a kanye and got way too philosophical on ellen. daytime television wasnt ready for yeezy.',\n",
       " 'why i participated in bizwomen mentoring monday. i cant remember exactly when it started, but at some point this last year, i started receiving emails from complete strangers who hoped that somehow a few moments of my time might help them with the next step towards their own dreams and goals.',\n",
       " 'hillary clinton reveals her greatest regret. the iraq invasion didnt go as she had expected.',\n",
       " 'time pressures? how to take control of your time. if you feel you are one of those people who have little free time and what little you have is continually interrupted, you may need to get active in order to carve out a little more time for yourself.',\n",
       " 'what you should know about politically-engaged black millennials. this report shows that young people of color are taking a stand.',\n",
       " 'generations lead the march on washington.',\n",
       " 'kellyanne conway’s interview with chris cuomo quickly flies off the rails. the fiery cnn showdown was marked by eye-rolls, arguments, crosstalk and more.',\n",
       " 'hamilton scene stealer leslie odom, jr. chose finishing college over first big broadway offer. hamilton is the hottest ticket in town.\\xa0 and leslie odom, jr, who plays vice president aaron burr in the hit musical, is',\n",
       " 'airline logos: a look at 90 years of airline logos. were a bit airline-obsessed here at huffpost travel. we love to follow airlines uniforms, new logos (like americans, which',\n",
       " 'man caught on tape allegedly setting fire to arizona lgbtq center. the suspect is a former client of the queer youth organization.',\n",
       " 'report: netanyahu canceled intel briefing for u.s. senators on iran dangers.',\n",
       " 'michael flynns former deputy appears to contradict herself on his russia contacts: report. k.t. mcfarland told congress she didn’t know of any communications between flynn and the russian ambassador ― but emails tell a different story.',\n",
       " 'the thomas fire is now the biggest in californias history. firefighters continued battling the blaze over the holidays.',\n",
       " 'tom daley and dustin lance black get political with pumpkins. the pair channel clinton and trump with their halloween carving.',\n",
       " 'this movie is an important reminder that not every environmental story is bad news.',\n",
       " 'funniest parenting tweets: what moms and dads said on twitter this week. kids may say the darndest things, but parents tweet about them in the funniest ways. so each week, we round up the most hilarious',\n",
       " 'lady gaga and vice president joe biden will appear onstage together at the oscars. for good reason.',\n",
       " 'clinton to hit campaign trail for dems.',\n",
       " 'this may be the laziest breakup text weve ever seen (photo). when it comes to breaking up with someone, there are no points to be had in originality. that said, we have absolutely no',\n",
       " 'stars of wonder: many stand in solidarity with muslims.',\n",
       " '7 surprisingly simple ways to live in the moment.',\n",
       " 'why traveling is the smartest way to spend your tax refund. your future self will thank you.',\n",
       " 'give them an e for effort. despite what some people think, storytelling is very much an acquired skill. not everyone does a good job of it. some folks are incapable of even launching a narrative.',\n",
       " 'black women told you so. we black women saw the red flags.',\n",
       " 'gop congressman doug lamborn thrown off the ballot for 2018 (updated). the colorado supreme court ruling means the congressman can’t run for re-election, at least as a republican.',\n",
       " 'got proof? lack of evidence for milks benefits. there is absolutely no biological requirement for milk, and the evidence for low-fat milk is lacking, along with the bone benefits. the dairy lobby has its tentacles deep in the u.s. department of agriculture.',\n",
       " 'tyrese gibson pays tribute to paul walker on anniversary of his death.',\n",
       " 'muslim americans have some advice for trump on his islam speech. trumps visit to saudi arabia has serious potential for disaster.',\n",
       " 'the content brief: are brands ready for 3d printing? [watch]. aside from the near-limitless promotional opportunities, imagine brands and consumers collaborating on customized products',\n",
       " 'strength to power. for anyone to generate explosive power in their movements, whether its in sports or through general physical conditioning, you must have strength.  where does strength come from?  strength stems from the core, which essentially starts from the feet all the way up to the head.',\n",
       " 'miranda kerr, flynn cover who magazines most beautiful people 2012 issue (photos). its pretty much common knowledge that miranda kerr is drop dead gorgeous and that her son, 15-month-old flynn, is the cutest',\n",
       " 'eating certain foods could prevent depression. you dont have to be perfect about it!',\n",
       " 'white house admits trump’s ‘tapes’ tweet aimed to impugn comey. trump conceded he knows of no tapes of his conversations with the then-fbi director, but  stirred up the controversy anyway to raise “the question of doubt.”',\n",
       " 'teach your children well: an interview with psychologist and author madeline levine. in what situations would you say it’s appropriate for parents to be super-involved in their kids’ lives -- or even push',\n",
       " 'the science behind bad decisions: is decision fatigue causing you to make unhealthy choices?. while its impossible to maximize your willpower for every moment of every day, it is possible to make a few changes to your day and your routine so that you can get the most of your decisions and make consistent progress on the things that are important to you.',\n",
       " 'meet the instagram star elevating black contemporary art. twenty-five-year-old kimberly drew is one of the art worlds rising new tastemakers, specifically because her work is centered',\n",
       " 'the harmful reality of restricting drug choices. clearly the goal of reducing the enormous cost burden of prescribed drugs is a legitimate one. if a drug that costs $200 a year is just as good as one that costs $2,000, restricting the latter makes sense.  but the situation is not that simple.',\n",
       " 'cheating signs: how to tell if youre in danger of cheating. written by kiri blakeley for cafemom’s blog, the stir lets face it, married and attached ladies. weve all occasionally',\n",
       " 'judges scolding puts anti-gay indiana governor in tight spot (video). for years indiana gov. mike pence has worked to undermine the lives to gay and lesbian families, but now a judge has ruled that hes finally gone too far.',\n",
       " 'former congressional leaders react to scotus decision on aca. one day after the supreme courts ruling upholding the affordable care act, an aspen ideas festival spotlight health panel of former politicians and administration officials agreed that a lot more work lies ahead -- in terms of further implementation, improving health care quality and especially the politics.',\n",
       " 'thanksgiving: the holiday of wine. the pilgrims drank wine, the indians drank wine, and you should drink it too.',\n",
       " 'five resolutions for out-of-home to kickstart the year. integrate personalization. lets be honest, we all like to see our name in lights. we also like to confess our secrets, though',\n",
       " 'british volunteer hosts welcome refugees into their homes and lives. amid a hostile climate for refugees in the u.k., ordinary citizens are plugging gaps in the asylum system. judith vonberg',\n",
       " 'donald trump threatens trump university fraud victims in new video. he calls out two men by name and says hes looking for a woman, all of whom have said they were scammed by his program.',\n",
       " 'ice cream sandwich recipes that will make you melt. warning: youre going to want every single one of these.',\n",
       " 'news corp. is not moving to the world trade center, after all. 21st century fox and news corp. won’t be moving to the world trade center after all.',\n",
       " 'nurturing the startup juggernaut. startups are the juggernauts that discover new markets, which drive growth and wealth creation in our economy. its in our interest to nurture the ecosystem that allows startups to thrive.',\n",
       " 'going somewhere? 7 tips for every new flyer. it’s that time of the year again. as a new set of students graduate and enter the real world, traveling tends to be unavoidable',\n",
       " 'border agents illegally turned away asylum-seeker and her children, attorney says. the government told senators that the woman didnt ask for asylum. but she and her lawyer say she tried repeatedly.',\n",
       " 'heres the problem with hillary clintons electability argument. most democratic voters dont see her as their only chance of winning.',\n",
       " 'does mass surveillance really prevent terrorism?. joseph gordon-levitt uses his snowden inspiration to find out.',\n",
       " 'learning to wait in the dark. that was where jesus spent holy saturday: in a dark hole in the ground, doing absolutely nothing.  it was the sabbath, after all. his friends had worked hard to make sure he was laid to rest before the sun went down. then they went home to rest too, because that was what they did on saturdays.',\n",
       " 'tips and recipes for safely using essential oils. natural, essential oils are a sound choice when using fragrance, body lotions and oils. they sound luscious, they smell great, but beware! they must be used carefully, so follow these easy tips and recipes.',\n",
       " 'why friends may be your ticket to living to 100. one of the secrets to longer lifespan may be to get connected. it might mean having more regular contact with family or friends. for some, it might mean joining a club, taking up line dancing, or even starting a language class.',\n",
       " 'top 5 night skiing spots. if weve missed one of your favorites, please share! brighton, ut: brighton offers some of the most varied and expansive',\n",
       " 'the blind side home can be all yours for a cool $3.9 million (photos). and if you think the house looks beautiful, now wait until you see the interiors.',\n",
       " 'why healthy eaters fall for fries. public health officials have been pushing fast-food restaurants to offer more nutritious foods to help combat excess weight',\n",
       " 'a new era begins: reflections on the declaration of the bab. the baha’i era began 174 years ago, in 1844 ce, when the bab announced his mission to a young shaykhi named mulla husayn',\n",
       " 'diamond reynolds nails whats wrong with media coverage of philando castile. i’ve already made my statement. i don’t want to keep reliving this moment.',\n",
       " '7 scientific ways to beat the heat.',\n",
       " 'judge: hillary clinton must answer questions in email case. the judge concluded that clinton did not need to give sworn testimony.',\n",
       " 'gulf oil spill anniversary: 3 years later, ramifications are still felt from bps tragedy. although bp already pled guilty to 14 federal criminal charges, including lying to congress, and agreed to a $4.5 billion',\n",
       " 'mom accused of poisoning son with prescription drugs for a year. the boy was allegedly treated at two different hospitals.',\n",
       " 'walmart gives 500,000 workers a raise.',\n",
       " 'arnold palmer, legendary golfer, dead at 87. palmer is credited with making golf the internationally popular sport it is today.',\n",
       " 'single moms (and other strong women) need alpha males. the other night, my single mom friend sarah and i were iming about how we prefer men who are aggressive in bed.',\n",
       " 'mike pence wont say if donald trumps attacks on the media will stop. the president called for an end to trivial fights on tuesday.',\n",
       " 'ivanka trump: two events, one dress! (photos). see ivankas style evolve over the years! check out ivankas repeat below! well add ivankas herrera dress to the double',\n",
       " 'could camping help your insomnia?. researchers at the university of colorado boulder found that sleeping in the wilderness for one week reset circadian clocks, bringing them more in line with the natural solar day and night.',\n",
       " 'real life or just for likes?. no one knew what i went through to get this photo.',\n",
       " 'my imperfect journey. my fight continues. i will earn my happiness. i will earn my body. one victory at a time. i dont have it all figured out and probably never will. my journey is imperfect, and thats the beauty of it. im just like every other woman out there trying to lose weight. im perfectly imperfect.',\n",
       " 'the six steps of recovery after an affair. does infidelity always have to mean the end of the relationship? affairs can be painful and shocking, and can often cause untold damage. however, for some couples, an affair may also be a path to strength and to a renewed and even stronger relationship.',\n",
       " 'how online interaction shapes everything from baby name trends to revolutions.',\n",
       " 'your ultimate guide to summer festivals and concerts in 2015. drake and the black keys are among the headliners for this years governors ball, which invades randalls island park\\xa0nestled in the east river between manhattan, queens and the bronx. a three-day, round-trip ferry pass between manhattan and the park costs $55, and a three-day pass for round-trip shuttle rides between randalls island and brooklyn costs $65.',\n",
       " 'sure sounds like dancing with the stars is trying to recruit sean spicer. make it happen, spicey.',\n",
       " 'easy holiday aperitivos. call it hors doeuvres, aperitivos or appetizers; its so easy you dont even have to cook. its all about delicious ingredients and a great presentation. on a cutting board.',\n",
       " 'quick snacks you can feel good about. calorie counting is a tricky business. while managing calories is an important part of healthy eating, it’s easy to lose',\n",
       " 'america’s friends and foes alike ask: who is in charge of u.s. foreign policy?. it’s a time of trial and tribulation for america’s allies and adversaries alike. just what is u.s. policy these days? more',\n",
       " 'dave grohl & paul mccartney: nirvana drummer on collaboration with beatles great. the history of nirvana (as well as that of mccartney, fleetwood mac, the red hot chili peppers, and neil young) was celebrated',\n",
       " 'what if trump wins on obamacare and taxes?. trump is screwing not just the rest of america, but tens of millions of people who voted for him.',\n",
       " 'jobs still going to mexico as trumps 100th day approaches. clocks ticking on trumps promise to change the north american free trade agreement.',\n",
       " 'skiers stumble across endangered snow leopard. isnt skiing scary enough?',\n",
       " 'iwatch hysteria, iphone 5s inertia and gaming on apple tv: this week in apple rumors. hello, ladies and gentlemen, and welcome to this week in apple rumors, our regular look back at all of the weeks unconfirmed',\n",
       " 'tomorrows tech stars sound off on why silicon valley should embrace diversity. i wouldnt be able to get into facebook ... if they dont change their percentages in minorities.',\n",
       " 'obama says dallas police shooting despicable, highlights need for gun control. “i think i speak for every single american when i say that we are horrified.',\n",
       " 'sexism at the olympics: guilty as charged. there has been a lot of hype lately about the sexism in the reporting of the olympics. obviously these people have never',\n",
       " 'on the a w/souleo: r&b groups swv and silk navigate ageism and music politics.',\n",
       " 'the beauty products new yorkers swear by. so we put a call out to our new york twitter, instagram and facebook followers (as well as fashionistas eva chen, erika bearman',\n",
       " 'ceo suspended after 49 former miss americas call on organizations leaders to resign. the women spoke out after huffpost reported on a shocking set of internal emails filled with misogynistic statements.',\n",
       " 'heres how you should reply to all those thanksgiving texts.',\n",
       " 'letter to my best friends parents in ohio: heres what romney thinks of your gay son. many have called lgbt equality the civil rights issue of our time. i think theyre right. and mitt romney doesnt only oppose marriage for gays, he finds the prospect of gay parenting to be anathema to all thats good and civil.',\n",
       " 'a love letter to evanston. i love to travel. thats where i go to eat, to read, to frolic and dream.  i love you, evanston, for letting me travel home to you daily.',\n",
       " 'national park week: how to avoid the crowds. you dont have to plan a trip months in advance to secure a campsite under the stars, have a hiking trail and a summit peak all to yourself or find out where the wild things are this summer.',\n",
       " 'dccc advised candidates to ‘be careful’ with initial comments on parkland shooting. a staffer said they should avoid politicizing the tragedy, but thoughts and prayers were fine.',\n",
       " 'dems did it to themselves. hey, candidates: howd that whole abandoning obama thing work out for you?',\n",
       " 'russia: spyware attack hits multitude of networks. russia is suspected in hacks targeting the dnc and a democratic fundraising group.',\n",
       " 'from charleena lyles to sophia king, black women are uniquely endangered by police. a raft of highly-publicized killings reveal the unique threat black women face from law enforcement, even when they make the call for help.',\n",
       " 'dakota pipeline protesters block work crews. the u.s. army corps of engineers is expected to make a decision on the controversial project in coming days.',\n",
       " 'founder leadership models. if you can navigate a leadership model that keeps the founder involved and engaged in the business as it scales, it meaningfully improves your odds that startup magic will happen.',\n",
       " 'how to take part in the olympics without a ticket. do believe the hype: summer 2012 is going to be a truly unique time to be in london. and while the temptation for those without',\n",
       " '7 mistakes even healthy eaters make. if you hear about a diet that promises quick weight loss, run. if you hear about a diet that eliminates food groups, run',\n",
       " 'geostorm taxi prank will make your blood run cold. what the hell?',\n",
       " 'snl: stefon marries anderson cooper on bill haders last show (video). with the announcement that this season of saturday night live is bill haders last, the troubling news only meant one thing',\n",
       " 'tax-refund travel deals for 2014. $250 and less: twenty-three miles of beaches for lounging or sand castles plus 300 miles of inland canals equal savings for',\n",
       " 'huffpost tastemakers: macaron day nyc. francois payard is excited about it.',\n",
       " '5 ways to tell if your content is working. youve got a blog set up and youre writing furiously, posting every week to get more attention for your brand. everything youve read tells you that content marketing is both cost-efficient and effective for building a brand reputation and getting more customers, but theres no immediate gauge to tell you whether or not your content is working the way you want it to.',\n",
       " 'the most beautiful instagram pics from the northeast snowstorm (photos). despite the urge to curl up in bed and hibernate for the day, instagram users all over the northeast took a moment to remind',\n",
       " 'i am a parent. does my week sound familiar? of course it does because as parents we know that giving our children every opportunity to explore their strengths and supporting their needs is our parental responsibility and our passion.',\n",
       " '11 countries near bankruptcy.',\n",
       " 'oscars 2014 hair and makeup was full of many surprises (photos). worst: emma watson we had to do a double-take once robbie showed up on the red carpet. were loving her as a brunette, and',\n",
       " 'declassified military video shows fast-moving ufo tracked by navy fighter pilots. “wow! what is that, man?”',\n",
       " 'springtime in northeast resort towns (photos). with an early spring bringing unusually warm weather, east coast resort towns are starting to anticipate their busy season coming right around the corner.',\n",
       " 'uruguay, first country in the world to legally regulate marijuana, begins retail sales. a historic moment in the fight to end the disastrous war on drugs.',\n",
       " 'bernie sanders: hillary clinton and i are not bosom buddies. good to know.',\n",
       " 'porsha stewart, kordell stewart: real housewives of atlanta star makes first public appearance since split. on wednesday, real housewives of atlanta star porsha stewart made her first official post-split appearance since her estranged',\n",
       " 'obesity in america (infographic).',\n",
       " 'barb from ‘stranger things’ is pissed she was left in the upside down. very understandably.',\n",
       " 'moving chocolate sculpture illusion is mesmerizing (video). prepare for your minds to be blown! a youtube video posted to reddit shows a swirling chocolate sculpture that, under blinking lights, appears to come alive.',\n",
       " 'are we finally ready to publicly celebrate female desire?. from magic mike xxl to nicki minaj, pop culture is finally recognizing that women deserve sexual pleasure.',\n",
       " 'englands royal getaways (photos). while all eyes are on london for the diamond jubilee and the summer olympics, here are a bunch of royal getaways that you dont want to miss.',\n",
       " 'the banker outside your door: greek elections 2015. let me share the story of a group of five dear friends over the last five years. in 2010, my friends decided to pool their life savings to open a magnificent restaurant at the foot of the acropolis, in the city where democracy was born, athens...',\n",
       " '5 policy solutions proven to prevent fatal overdoses. august 31st marks international overdose awareness day, a day to commemorate those whose lives were cut short by drug overdoses',\n",
       " 'how the next wonders of the world will be built in space. on april 12th, 1961 yuri gagarin launched into space on a vostok rocket from the baikonur cosmodrome, becoming the first',\n",
       " 'muslim student who was kicked off southwest flight after speaking arabic just wants an apology. he was talking to his uncle on the phone.',\n",
       " 'how to stay awake at work. many people rely on coffee for a buzz that keeps them animated throughout the day, but if you’d rather avoid caffeine stimulation, try drinking a glass of water.',\n",
       " 'it could have been my boy. the events of recent months tell us we must all do that, no matter how incorrect the social scientists believe such behavior to be. every mother must ask herself -- do i really know my child? do i understand how he spends his time, what he needs, whether he is masking some hidden hurt?',\n",
       " 'jane fonda was asked about that megyn kelly interview and gave another iconic answer. queen.',\n",
       " 'south syria ceasefire and the next israel-hizballah-iran war. a cease fire agreement is supposed to lead to a more stable, lasting political arrangement, hopefully a peace treaty, but',\n",
       " 'new pasteurization process will extend the life of milk 7 weeks longer. hallelujah.',\n",
       " 'shaq provides surprise backup in kids basketball game with police. the nba legend dropped in to the gainesville police department after video of a prior match went viral.',\n",
       " 'michelle obamas olympics outfit fits the team usa theme (photos). either way, were totally psyched to, 1. see michelle obama in an uber trendy peplum, and 2. see michelle obama at the olympics',\n",
       " 'the 10 most beautiful places in croatia. as one of europes most popular beach destinations and blessed with year-round sun, croatias historic towns and idyllic islands have a wealth of natural attractions to offer. from rolling vineyards to sweeping coastal cliffs, here are 10 of the most beautiful places in croatia to add to your itinerary.',\n",
       " 'in talk with clinton, bush says being humble in victory is key to presidency. “if you want to be president, realize it’s about the people, not about you, clinton says.',\n",
       " '10 best places to buy a vacation home. with the summer months behind us, many of us hold on to more permanent dreams of paradise by considering the purchase of a vacation home. here are the top 10 places to buy a vacation home based upon the most inquired rental destinations at our website.',\n",
       " 'someone put up a plaque to mark the spot where trump bragged about groping women. it was in dishonor of the president.',\n",
       " 'steve fromholz -- a guest in my heart. recently in ft. mckavett, texas, i joined a large group of family and friends for the burial and farewell to the late, great steven fromholz, legendary texas singer and songwriter, husband, father, grandfather, friend, river boatman, sometime golfer and fulltime lover of life.',\n",
       " 'mother of alton sterlings oldest son doesnt blame all police: everybodys not bad. quinyetta mcmillon said her boy isnt afraid of the cops either.',\n",
       " 'what i wish i knew about love in my 20s. i spent most of my 20s obsessing about love. when will i meet him? when will i find true love? why isnt he calling me? why am i alone? where is he? who is he? am i over him? why cant i get over him? these were the litany of questions that lived in my mind every day.',\n",
       " 'hunt a mammoth. unplug and reconnect. amazing how the message seems to resonate... or maybe not so amazing. i imagine that back in the day, some cave mom told her intense, wall-painting son to get out and hunt a mammoth or two and reconnect with what is real.',\n",
       " 'behind the uks tech boom: 7 factors attracting startups.',\n",
       " '6 ways to drink like don draper for the mad men premiere. lets be serious: the only reason any of us really watch mad men is to fantasize about being as cool as don draper.',\n",
       " 'new u.s. literary tourism goes beyond the hunger games. the author is from jackson, and the book is set in 1963 jackson. but jackson doesnt look like 1963 anymore, and greenwood',\n",
       " 'kim davis says if she had a gay kid she wouldnt write them a marriage license. shocker.',\n",
       " 'man accused of smearing feces in womans shorts says god did it. ekwan hill, 42, faces charges for not one but two feces attacks against women in manhattan on monday.',\n",
       " 'heres how this dedicated teacher is helping solve nigerias education problem. if you want to gain their hearts, you dance, you talk, you ask them questions.',\n",
       " 'president obama and familys new vacation home is reportedly the chilmark house on marthas vineyard (photos). ** scroll through photos to see the amazing property, and be sure to head over to business insider for more information. according',\n",
       " 'saggy pants ban up for vote in wildwood, new jersey. closer to jersey, new york state sen. eric adams recently proposed a resolution for new york city schools that would prohibit',\n",
       " '5 prisons turned into luxury hotels (photos). some may downplay their past while others show off their rich history: all are still looking for ways to keep their guests from escaping.',\n",
       " 'mass shooting at new york halloween party leaves 2 dead, 5 injured. the search for a gunman remains underway.',\n",
       " '12 uses for coconut oil on your child (and one for nursing moms). coconut oil is the it oil right now, and the good news is that there is no harm in getting your little one in on the amazing',\n",
       " 'earth day 2012 environmental issues: recycling waste. from government regulations and recycling services expansion to garbage crises and grassroots activism, heres how america',\n",
       " 'seahorses horselike shape helps animal ambush prey, scientists say. the seahorse heads shape helps the fish stealthily ambush prey, researchers say. relatives of seahorses, such as pipefish',\n",
       " '5 omg moments from last nights pretty little liars finale.',\n",
       " 'uh-oh: greece is probably going to miss its deal deadline.',\n",
       " 'the surprising story of republican towns going green. the cost savings of alternative energy lure gop mayors, but the climate reasons resonate, too.',\n",
       " 'toys that are the total package. arabian nights the 1001 nights blocks set gets its title from the arabic folklore it evokes. its brightly stained pieces',\n",
       " '10 reasons to quit your coffee!. its a wise experiment to provide yourself a break from coffee intake and see what it feels like to live your life on your own fuel. remove coffee and caffeine safely from your system and see how authentically energized you feel!',\n",
       " 'scandalous celebrity sex quotes.',\n",
       " '6 keys to rebooting your heart drive. it is through listening, attention and willingness to engage in the most vital energy of our lives, our hearts, that that we reboot our heart drives.',\n",
       " 'what social media reveals about narcissism. while it is certain that online forms of communication and social networks do affect individuals mental health, the solution',\n",
       " 'a summer stroll through le marais and surrounds in paris. whether youve got a family in tow or are flying solo, though, pariss charms dont have to be marred by long lines and overwhelmingly large crowds at tourist sites. the temperate weather invites strolls through quaint neighborhoods where you can lose yourself in local color.',\n",
       " 'stepmom in the middle. if you have a stepchild or stepchildren who shuttle between mom and dad’s house on a regular basis, then you’re probably',\n",
       " '2016 candidates slam common core, but education standards take root. despite years of effort, common cores critics have largely failed to repeal the standards.',\n",
       " 'author spotlight: brian centrone. i had the pleasure of meeting brian centrone last year at the rainbow book fair in new york. he was friendly and witty, i was interested in learning more him. the publication of his new novel, an ordinary boy, proved just the opportunity.',\n",
       " 'wedding movies: which big-screen wedding scene is most memorable?. movies can make people laugh, cry and everything in between -- and thats especially true of wedding scenes. from carrie',\n",
       " 'im pregnant, its not yours... but youre the father!. the husband then filed for divorce. a few months later, the wife told her husband that she was once again going to get artificially',\n",
       " 'films for your soul: healing a war-torn spirit (watch). memorial day is a day of remembrance of those who have died in our nations service. regardless of what our opinions are about war, one fact remains:  there are thousands of people who survive who are in great need of healing.',\n",
       " 'things from your 4th of july party that youll rethink on the 5th of july.',\n",
       " 'france vows to combat terror with massive rally.',\n",
       " 'kitchen makeover: watch this dingy space get a beautiful french country look (video). lets face it-- when you have children, its difficult to keep everything in the home looking just the way you want it. this',\n",
       " 'top 10 things not to say to your 20-something. as parents of 20-somethings, you may be idling uncertainly between mothers and fathers days, wondering where you belong, until you realize: you are not out of business yet.',\n",
       " 'gross ingredients in processed foods. i’m beginning to see now that consumers are pushing back, michael doyle, ph.d., director of the center for food safety',\n",
       " 'these are what goddesses look like.',\n",
       " 'when it comes to eggs, size really does matter. plus more crazy egg facts you should know.',\n",
       " 'thousands rally in dc for major keystone xl protest. the media likes to make keystone xl out as simply a political test, a sign of whether or not the president will side with environmentalists or the fossil fuel industry and their allies. but the fight against keystone has never just been a political fight: its a planetary one.',\n",
       " 'little injured fox drags his legs to man who can help him. finn the fox was not giving up.',\n",
       " 'olivia palermo can wear sweats and still make the best-dressed list. ok, now were listening.',\n",
       " 'gop leaders say theyre not giving up on repeal vote this week. but they appear to be losing support, with no easy way to get it back.',\n",
       " 'confronting isil -- what next?. we have seen a large number of atrocities, such as the beheading of journalists, mass killings, the selling of children into slavery as well as the sexual exploitation of women throughout isil lands -- all of which will persist and worsen without action.',\n",
       " 'how to wear yellow: see 36 stars pull it off (photos). gryphon happy mini skirt, $345 at intermixonline.com, love moschino blouse, $115 at yoox.com check out our gallery below',\n",
       " 'gangnam style baby may just revive k-pop dance phenomenon (video). just when you thought the whole gangnam style craze was over, a baby comes along and makes you want to dance like a crazy',\n",
       " 'kung fury is the over-the-top 80s renegade cop movie weve been waiting for. as historical reenactments have shown us, cops in the 80s were a different breed of civil servants. they had mullets, deep',\n",
       " 'eight things i wish i had known as an 11-year-old. through my nonprofit and advocacy work, i find myself speaking to and mentoring young women and girls at middle schools and high schools, predominantly on body image and self-acceptance.',\n",
       " 'a gay superhero is the comic book movie we need.',\n",
       " 'how black twitter helped take down the confederate flag. the story behind a hashtag that helped transform the nations opinion at hyper-speed.',\n",
       " 'tech ceo who quit to be a better dad just got a new job. he had a nice year off.',\n",
       " 'sarah mclachlan on her influences and inspirations. i wrote angel after being on the road for almost two years straight and was both mentally and physically drained.',\n",
       " 'craigslists sex work ads saved 2,150 womens lives. a bill could make such posts illegal.. a study found female homicide rates fell 17 percent after the site created an erotic services section. so why would congress add to the risks?',\n",
       " 'it is unclear how thc ended up in this colorado towns water. “the contaminated well has been identified and shut down.',\n",
       " 'oregon shooter ranted in manifesto about not having girlfriend. he wrote something to the effect of: other people think im crazy, but im not. im the sane one, an official said.',\n",
       " 'i didnt have this end in mind. how did i not know that my best years will always be when you were running through the grass to tell me about your day?',\n",
       " 'the wildest celeb halloween costumes. from heidi klums legendary costumes for her annual fete to roberto cavalli done up as karl lagerfeld, heres proof that big personalities, big costume budgets, and big halloween parties yield some truly amazing, and amazingly bizarre results.',\n",
       " 'the 10 salad dressings to know. 10 essential salad dressings to know -- just add lettuce.',\n",
       " 'this is how much time students actually spend taking standardized tests. testing amounts to about 2.3 percent of classroom time for the average eighth-grader in public school.',\n",
       " 'look: one artists incredible documentation of his transition across the gender spectrum.',\n",
       " 'man allegedly punches disabled veteran over a service dog. the attack was captured on video.',\n",
       " 'why optimists seem to handle stress better. the small study, results of which are published in the journal health psychology, included 135 people ages 60 and older who',\n",
       " 'flight attendant suspended for playing on phone after passengers told to turn off electronics. in a statement posted to weibo and translated to english by the huffington post, shandong airlines said the crew members',\n",
       " 'tough sell on the obstruction of justice case against trump. the problem is the always thorny matter of trying to prove intent.',\n",
       " 'weekend box office: 42 sees a strong opening weekend. jackie robinson biopic 42 hit it out of the park, winning the weekend box office. the baseball film opened this weekend',\n",
       " '24 reasons little children make us smile. that big breath before blowing out the birthday candles. a bedtime routine for a baby doll. pasghetti. handburgers. and other perfectly imperfect mispronunciations.',\n",
       " '20 celebrities who wont be eating turkey this thanksgiving.',\n",
       " 'trump’s effect on the latino vote has begun: more hispanic u.s. citizens are coming. thousands of legal hispanic residents are becoming u.s. citizens from nevada to florida and colorado because of trump. “there',\n",
       " 'serena williams and novak djokovic crowned 2015 itf world champions. theyve now nabbed a combined 11 itf world champion titles.',\n",
       " 'big eyes will open christmas day. perhaps big eyes is not the best-crafted piece of art. it may seem disproportionate in features and at points, tawdry and even uneven. however, not only is this film important, it is urgent.',\n",
       " 'dog or lena dunham?.',\n",
       " 'the new parenting style that might be more than a fad. “just because the sun is down, doesn’t mean your mood has to be,” thomas. 4. 3 a.m. playdates update 4/2/14 - april fools',\n",
       " 'supreme court sidesteps major gun rights dispute. they declined to rule in a california case on whether a person’s constitutional right to keep firearms for self-defense extends outside the home.',\n",
       " 'can doctors thrive?. thriving involves health and wellness. huffington suggests that we might all draw more, and benefit, from our innate gifts of wisdom, generosity and kindness. i do believe that most patients want their physicians to thrive. i, for one, want my doctors to be well-rested and content.',\n",
       " 'missing the boat on first class airline food. why is it that airlines think all rich people eat caviar and foie gras and lobster and filet mignon for every meal?',\n",
       " 'penelope cruz covers harpers bazaar may 2012, reveals fashion obsession (photos). (such dresses, of course, makes things especially difficult after the partys over. penelope once told vogue, you have to',\n",
       " 'one thing you didnt notice in game of thrones makes that sansa scene way worse. and we all thought jon snow knew nothing.',\n",
       " 'ian mckellen reveals why he turned down the role of dumbledore in harry potter. he was on the list of actors to take over after richard harris death.',\n",
       " 'letters from children about the ct school shootings blanket the white house lawn. my mind is still on the connecticut school shootings, particularly because of something a close friend of mine shared with me. she told me that her eleven-year-old grandson wrote a letter to president obama about the shootings.',\n",
       " '6 things about travel thatll really make you mad. these six things should make you come unhinged, too. theyre flat-out wrong and beg for regulation.',\n",
       " 'kim kardashian has a secret project.',\n",
       " 'the 28-year-old who is shocking the israelis and taking the fashion world by storm. if you like a dress, it doesnt matter if its from an american, israeli, or muslim designer -- you like it and you buy it, and theres none of this nonsense of doing this and that because of your religious belief and politics, alon livné said.',\n",
       " 'g7: greece eurozone presence is in all our interests. washington, june 17 (reuters) - the group of seven industrialized economies said it was in all our interests for greece',\n",
       " 'the greatest homemade doughnut recipes youll ever find. because one just wouldnt be enough.',\n",
       " 'climate-denying weather channel founder frets about a hillary clinton victory. “this election may be a tipping point in the climate debate,” said john coleman.',\n",
       " 'brace yourself for the return of south carolinas notoriously awful politics. lord, its going to be nasty.',\n",
       " 'life coaching is not weird. coaching is an active, invigorating process assisting you to reach your potential, challenging and supporting you, seeing what is working well for you and promoting that success so you can achieve miraculous and logical results.',\n",
       " 'surprising reasons youre tired all the time. we all tend to blame fatigue on a too-busy lifestyle. and much of the time were right. if you feel tired all the time, dont',\n",
       " 'ray rice isnt the only monster in the nfl. it seems that we can only count on the national football league and its teams to do the right thing when there are no more lies to hide behind. the money they make and the appearances that they try so hard to keep up are their main focus.',\n",
       " 'incredible supercut shows every best animated feature winner ever. classics. all of them.',\n",
       " 'surprise, surprise, donald trumps supporters are trying to rig the election. supporters have been violent, admitted to voter fraud and racial profiling, just as trump foresaw.',\n",
       " 'melissa mccarthy really hopes the ghostbusters haters find a friend. 🙌 🙌 🙌',\n",
       " 'soft pretzel recipes, because you need one (or 20). ditch the concession stand and make these at home instead.',\n",
       " 'despite zika outbreak, catholic leaders say contraceptives are ‘not a solution’. when colombia, el salvador, and brazil recently warned women not to get pregnant because of the zika virus, some human rights',\n",
       " 'searching for our narrative.',\n",
       " '10 things you must do during your next trip to belize. maybe your cruise ship docked for only a day in belize. if so, book the next flight you can back to this breathtaking central american country. its 9,000 square miles has an abundance of adventures to offer and is often overlooked by travelers.',\n",
       " 'after medical errors, patients want doctors to hear them out. the importance of individualized engagement and empathy is really the take-home lesson.',\n",
       " 'jordan bombs more isis targets in retaliation for pilots death.',\n",
       " 'creating a hot spot. their trademark style involves an undercurrent of wit and fierce thoughtfulness.',\n",
       " '7 gorgeous home exteriors that give these properties serious curb appeal (photos). we just wish we could see the insides.',\n",
       " 'donald trumps muslim ban hits dollar, slams stocks. its the currencys worst start to a year in more than a decade.',\n",
       " 'a patient gets the new gender affirmation surgery she helped invent. like many other surgery patients, hayley anthony has a daily physical therapy regimen. but unlike other post-ops, the 30',\n",
       " 'holiday craft ideas: turn old cds into mosaic ornaments. because its not like we actually use them for music anymore...',\n",
       " 'helene kuhn, actress: facetime, a beauty street style column. 1. moroccanoil moisture repair shampoo, $20, moroccanoil.com take a look at previous facetime photos in the gallery below',\n",
       " 'ceo who price gouged hiv drug arrested for securities fraud: report. a boyish drug company entrepreneur, who rocketed to infamy by jacking up the price of a life-saving pill from $13.50 to $750',\n",
       " 'finding yourself in need of a therapist during menopause. caring for parents and kids while simultaneously chasing a paycheck wears you down.  stir in a few menopausal hormones and you can easily find yourself overwhelmed, stressed and depressed.',\n",
       " '8 travel resolutions for 2014. you dont even need passport to start traveling.',\n",
       " 'corey lewandowskis debut on cnn is going just awfully. it seems hes more interested in giving out trump campaign talking points.',\n",
       " 'mardi gras begins. if you have never seen a new orleans parade, its hard to explain the energy, the magnitude and the sheer excitement. the best way i could describe krewe du veiux upon seeing it for the first time was a quarter mile of moving chaos.',\n",
       " 'kevin hart challenges famous friends to help victims of hurricane harvey. the comedian, who donated $25,000 to the american red cross, has started the hurricane harvey relief challenge on instagram.',\n",
       " 'interviews on merging spirituality and entertainment from the gate 2 event. it was such a gift to see and hear some of the most brilliant minds on the planet all under one roof.  there are no words for the magic that happens energetically when so many high-conscious beings come together with the intention for good.',\n",
       " 'i left a little of me at wounded knee. if the west was going to be won, the people needed stories of legends and victories whether they were true or not. i believe the truth is important. thats why i had to go to wounded knee.',\n",
       " 'its not just you -- those health insurance deductibles are getting scary.',\n",
       " 'lets not forget that donald trump would be a total disaster on climate change. or, as he would say, the “total, and very expensive, hoax.',\n",
       " 'pope francis wants all annulments to be free.',\n",
       " 'this plantable coffee cup may change the way you see waste.',\n",
       " 'fed chair janet yellen ok after receiving medical attention. after struggling to complete a speech, she walked off stage.',\n",
       " 'sandwich crafting: a creative guide. some of you may have heard of the gourmet sandwich shop chain wichcraft. its a pretty appropriate name for a sandwich shop, not only because its so clever of a name, but because sandwiches really are crafted.',\n",
       " 'jeb bush super pac donors also spend big to influence washington. the possible gop nominee has raised six- and seven-figure sums from groups with lobbyists waiting for him in d.c.',\n",
       " 'what you need to know about paul manafort and rick gates. both men named in a 12-count indictment had significant roles in the trump campaign.',\n",
       " 'missouri lawmakers propose an intern dress code to stop colleagues from harassing students. we need a good, modest, conservative dress code for both the males and females.',\n",
       " 'gregory kloehns dumpster home may be the strangest living space yet (video). click through our slideshow of 8 surprising homes that started out as something else. normally, you wouldnt think of a trash',\n",
       " 'tony hale reveals the new york inspiration for buster bluths personality. what was the deal with buster bluth?',\n",
       " 'new boy muppet on afghanistans sesame street is a feminist. zeerak, a 4-year-old boy muppet, fights for gender equality and girls education.',\n",
       " 'tennessee man convicted of plot to round up militia, attack muslim community. robert doggart, 65, will be sentenced in may.',\n",
       " 'trophy wives are probably more myth than reality.',\n",
       " 'teach yourself to relax: heres how. you think if you stress would loosen its chokehold on you, then you could relax. but you have it backwards: if you learned to relax, then stress would recede. thats because relaxing is a practice, and like a muscle, and you need to use it -- or lose it.',\n",
       " 'surviving the co-parenting holiday shuffle. it may not be practical to eliminate the holiday shuffle altogether. that doesnt mean we cant do our best to improve it. with a little luck and a lot of effort, this shuffle can become a graceful dance that works better for everyone involved.',\n",
       " 'safety gates and rules help prevent kids from falling off furniture, study says.',\n",
       " 'princess charlenes ralph lauren fashion show appearance is beyond glam (photos). want more? be sure to check out huffpost style on twitter, facebook, tumblr, pinterest and instagram at @huffpoststyle. the',\n",
       " 'the sikh boy who developed breasts and grew up to don a superhero uniform. in my early childhood photos i look like a healthy kid with a cute smile on my face. all that appears to have changed somewhere around 1st grade. photos past that point are without a smile.',\n",
       " 'racism, misogyny, homophobia and the kaepernick boycott: hold on just one second. fans have witnessed the nfl allowing worse things than this over and over and over, and the truth is that most fans and players, including kaepernick, have let those injustices slide.',\n",
       " 'lorde says fame after hit song royals rocked my foundations. “i remember all these kids online [...] they were like, ‘f**k her, she’s got really far-apart eyes.’”',\n",
       " 'a letter to ally parents, from your lesbian friend. language matters. we hear your words, and so do your kids.',\n",
       " 'halloween decorations that are hot on pinterest: an adorable haunted village. this crafts so cute, it’s clear to see why it’s a fan favorite on pinterest.',\n",
       " 'lionel messi suffers left knee injury. hell be back before the holidays.',\n",
       " 'heres why jake gyllenhaal didnt sweat playing gay in brokeback mountain. the struggle for identity is everybody’s struggle. no matter what it is.',\n",
       " 'the saudis roll out the red carpet. trump is about to receive an unprecedented “magic carpet” welcome from king salman.',\n",
       " '#beyoncedoesntrepresentus: moving above and beyond beyoncé. its time that women of color and feminists alike begin to shift from trying to impose our beliefs and standards on an individual who obviously couldnt care less and begin to empower those who do seek to enact such change.',\n",
       " 'cooking cous cous in fez. the sad and suspicious eyes of a decapitated sheep followed us past the fishmongers stall and back to the kitchen. well',\n",
       " '5 tips for a hotter sex life.',\n",
       " 'sarah huckabee sanders attack on the\\xa0washington post will make your head spin. white house press secretary gets called out for hypocrisy.',\n",
       " 'lexi haas, 11-year-old, denied museum access because wheelchair would dirty carpet. however, since lexi is unable to sit up on her own, she was unable to use the museums strapless wheelchair, according to',\n",
       " '25 reasons having gay dads is awesome!. lets celebrate what makes gay dads unique, as well as what makes them as equally awesome as all the other active, engaged and loving fathers out there.',\n",
       " 'john oliver: calling american mental healthcare a clusterf*** is an insult to clusterf***s. whenever a shooting\\xa0becomes national news, certain politicians\\xa0will inevitably\\xa0bring up mental\\xa0healthcare. but as john oliver',\n",
       " 'what if moonlight wins all the oscars?. it won all the gotham awards.',\n",
       " 'optimal diets for longevity: the science, not the hype. the conversation regarding what constitutes the ideal diet for optimal wellness and longevity is an ongoing and exhausting debate. experts from each respective dietary camp have a plethora of data pointing to their case for why their particular system is the gold standard.',\n",
       " 'stars wear all black at golden globes in powerful show of solidarity. protest never looked so chic. 😍',\n",
       " 'pope francis personally called a spanish sex abuse victim.',\n",
       " 'jessica alba, kim kardashian, and more at the salon (photos). sometimes, we forget that stars do normal, everyday things, like hang out with their kids, go to the gym or in this case',\n",
       " 'the price tag for employee loyalty. women tend to recognize the investment their employer made in them and they want to repay it. in jodys case, she didnt realize that she had long ago repaid her boss just by doing a stellar job during the previous 10 years.',\n",
       " '3 strategies to help on your b2b marketing. in some ways, business to business marketing, or b2b marketing, is very similar to selling direct to customers. in other ways, its incredibly different.',\n",
       " 'in the interior. for more poetry for the soul, click here. when you let me in your life, all the way in, we took this walk that turned into',\n",
       " 'jamie foxxs daughter corinne named miss golden globe 2016. jamie foxx is one proud papa. \\xa0 the actors 21-year-old daughter corinne foxx has been named miss golden globe 2016 by the',\n",
       " 'crossing the finish line.. or not. i realized, it wasnt me... it was us. together we just couldnt make it work.  the anger built as did the disconnect and then eventually, we were just roommates with kids -- when it became you do your thing and i will do mine; two lives moving along side by side, yet worlds apart.',\n",
       " 'sure youre gifted and talented... but are you also annoying?. only by fully embracing your true identity -- your authentic soul -- can you embark a journey that directs you toward happiness, peace, and fulfillment.',\n",
       " 'global diaper output likely to suffer after explosion at japanese plant. operations at the plant are likely to be halted for a long time and other makers of sap resins are operating on a full-production',\n",
       " 'brutish and short: how iran learned to thrive on conflict. the life of the islamic republic until, say, 1990, had been brutish and short. and this is how the head of the nascent body-politic became so heavily invested in an adversarial identity, so dependent on international tension and the perception of a state under siege.',\n",
       " 'stratford, canada: a place where beauty matters. my annual pilgrimage to the stratford shakespeare festival stimulated the thought once again about what its like to be in a community that devotes itself to beauty. that beauty matters in a town of stratfords size and geography is not only unusual these days, but it summons a reflection about what beauty entails and why it is important for our lives.',\n",
       " 'hey, i just thought of something else. i went to an existential strip club, where i spent a fortune on lap dances. but what does it all mean?',\n",
       " 'what not to say to your wife if shes trying to slim down.',\n",
       " 'back to school: 10 easy weeknight dinners your family will love. chicken tenderloins are great for weeknight dinners because they require no pounding or cutting and cook quickly.',\n",
       " 'buzzfeed will team up with twitter on election night. editor-in-chief ben smith hopes to reach political junkies and bring transparency to the mystical process of declaring election winners.',\n",
       " 'this women pulled out all the stops to land her dream job. jessica bain scored the black history and culture fellowship at spotify.',\n",
       " 'huge fight broke out in stands at world cup match.',\n",
       " 'everything you need for a star wars wedding, minus the evil sith lord. and of course some star wars threads for authenticity: if those six words had you squealing for joy because you love star',\n",
       " 'hotels where olympic heroes have checked in (photos). comfort matters a great deal when you have to be superhuman in the morning.',\n",
       " '5 moments from the world series that will haunt mets fans for years. warning: the following post may contain elements that are not suitable for some mets fans.',\n",
       " 'john stamos bare butt makes an appearance in paper magazine. we know theres a joke about a full moon in here somewhere 🌝.',\n",
       " 'legendary basketball coach dean smith dies.',\n",
       " 'dirty business: how unaccountable bureaucrats kill clean technology. while we fight this battle against our own government for clean energy, we are being welcomed with open arms in russia, china, indonesia, and australia, all who want our technology now.',\n",
       " 'when my son met another out lgbtq kid on the first day of middle school. if i watched a movie or a tv show where a conversation like that happened, i would probably roll my eyes at the too-perfectness, the fakeness, of it all. but it did happen, and it made my kids first day of middle school awesome.',\n",
       " 'gretchen carlson shuts down trump’s notion that ‘strong’ women don’t get harassed. sad in 2016 were still victim blaming women.',\n",
       " 'how long will you live? pee in a cup to find out. while protein in the urine has long been an indicator of kidney damage, this recent study, examining men and women between the ages of 30 and 85, for the first time showed a link between mild and heavy amounts of protein in the urine and shorter life spans.',\n",
       " 'u.s., canada and mexico create new climate change partnership.',\n",
       " 'this biophysicist has invented a drip-free wine bottle. finally.. all the wine, without the mess.',\n",
       " 'u.s. accuses china of destabilizing asia over south china sea claims.',\n",
       " 'massachusetts voters are about to pass a historic animal protection law. millions of animals would be spared from suffering. 🐷 🐔 🐮',\n",
       " 'where trump could achieve a much-needed legislative victory. there is already bipartisan movement on a policy issue that affects millions of americans.',\n",
       " '5 things you didnt know you could make in the microwave. you may want to give your microwave a second look.',\n",
       " 'could a turkish islamist party siphon votes from erdogans akp?. as story after story emerges about the potential game changing 2015 election in turkey, one party is virtually being ignored. but it has a good chance of playing the spoiler for the ambitions of the ruling akp and its autocratic president, recep tayyip erdogan. and its a party once led by a former erdogan all',\n",
       " 'wsj: yahoo board to weigh sale of internet business. the fate of troubled internet portal yahoo inc. may be decided in a marathon series of board meetings this week.',\n",
       " 'neil young quits legendary bridge school concert for personal reasons. the annual benefit for his sons old school has featured top musicians for 30 years.',\n",
       " 'stop. do you really need that baking pan? how wedding waste ends romance. so why do we register for wedding gifts? i recently got married myself, and i can suggest one reason. my future bride and i feared if we didnt give our guests some guidelines, theyd buy us gifts we really, really didnt need, instead of items we only sort of didnt need.',\n",
       " 'ghost plane wreckage believed to have sunk off jamaica.',\n",
       " '12 cities where you can count on getting raise. this is positive news following a bureau of labor statistics report showing that wages had fallen in all but a handful of',\n",
       " 'mommy doesnt love you -- she wants a nursemaid. i think the idea of taking in ones parents is really lovely. the very people who fed and bathed you, nurtured you during the most vulnerable period of your life, are now in need of a little of the same. unfortunately, thats not how it works and there are three main reasons.',\n",
       " 'icelands excitable soccer commentator gets the black metal remix he deserves. its a match made in heaven, or hell.',\n",
       " 'mens sandals get a makeover.',\n",
       " 'woman takes limo to shoplift in minnesota mall, police say. apparently, she paid for the limo -- but nothing else',\n",
       " 'obamas second term could be the most consequential in recent memory. but he needs one last thing to happen.',\n",
       " 'mars rover crash: what if curiosity doesnt touch down safely?. president barack obamas 2013 federal budget request, which was released in february, slashes nasas planetary science program',\n",
       " 'stretches all desk workers should do today. 6. whole back/spine and hamstrings. de-stress your spine after it’s been chair-bound all day. lie on your back, feet on the',\n",
       " 'casino bus slams into nyc building. new york (ap) — a casino bus crashed into a three-story brick building monday, sheering off a large part of the structure',\n",
       " 'willie nelson’s crusade to stop big pot. this begins to add up when you do the math. nelson has spent the past 60 years touring the american landscape; the current',\n",
       " 'the worlds best places to make a splash (photos). whether youre into the adrenaline of big wave surfing, sailing into the sunset, discovering inland watering holes or bathing in tropical shallows, these swimming spots have something for you.',\n",
       " '5 disturbing statements by the cop who shot philando castile. the officer described events that happened in a split second.',\n",
       " 'indian spiked eggnog. heres an eggnog version that was spiked with some indian flavors. my eggnog recipe is based off of puerto rican coquito, which is a kind of a rum eggnog that uses coconut milk & condensed milk, instead of heavy cream and is not as thick.',\n",
       " 'sources: joe biden still considering a presidential campaign. decision to come in september.',\n",
       " 'john oliver, amy poehler and every other kiss from 7 minutes in heaven. 231 minutes in heaven and counting...',\n",
       " 'upside-down cake recipes (photos). have you ever tried to decorate a cake with fruit on top, only to find it sunk to the bottom during baking? if so, youll',\n",
       " 'the kids table: a trick? or a treat?. why do people get so bent out of shape if they have to take one for the team and sit at the kids table? if they could only be a little more open-minded, they would see that the kids table is where all of the good stuff happens.',\n",
       " 'heidemarie schwermer has been moneyless for 16 years. schwermers childhood is what led her to reject money, she said in an interview with business insider. her family became',\n",
       " 'disney sets opening date for new guardians of the galaxy ride. the attraction was formerly the tower of terror.',\n",
       " 'dear gop candidates, delaying vaccines is a terrible idea. and yes, delayed schedules is an anti-vaccination stance.',\n",
       " 'ryder cup 2012: phil mickelson, keegan bradley cruise to record-tying victory. mickelson is one match from having his first spotless ryder cup since his 1995 debut, when he went 3-0. the americans’ successful',\n",
       " 'hbo to submit beyoncés lemonade for emmy consideration. beyoncé’s “lemonade” has left the world abuzz since hbo debuted the visual album for a 27-hour window saturday night. for',\n",
       " 'the disappearance of eleanor rigby trailer will break your heart.',\n",
       " 'north korea to send top official to south korea for olympics. the unprecedented trip by north koreas ceremonial leader suggests the possibility of high-level talks.',\n",
       " 'vanity fair bloomberg party: hollywood and dc get sexy at whcd post-party (photos). newt gingrich told me his favorite movie is 300, gerard butler said, still incredulous. at first, i was polite, like',\n",
       " 'chasing after batman: an introverted parent raising an extroverted child. as far as i can tell, jjs the most gregarious and extroverted child there. and by there i mean anywhere. hes on this adventure and im along for the ride, making sure he doesnt run too far ahead, knock anyone over, or cross the street without holding my hand.',\n",
       " 'why wont arne duncan and other true believers in high-stakes testing face reality?. as high-stakes testing becomes even more unpopular, we can also anticipate more of his efforts to pretend that it isnt punitive. but the use of test scores to punish is, by definition, the use of tests to punish.',\n",
       " 'government policy on lost money needs revision. finding money feels nice until you realize that the money was lost due to either willful negligence or gross incompetence.',\n",
       " 'crazy soda flavors taste test: buffalo wing, bacon, pb&j and more. with everyone making such a fuss over the buffalo wing soda produced by the rocket fizz soda pop & candy shops, we decided',\n",
       " 'huffposts data team picks its best stories of 2015. a look back at the investigations and visuals that made a real difference this year.',\n",
       " 'dogs help military veterans cope with civilian life. the bark business breakfast tour had an event in chicago on saturday, and so far has raised nearly $100,000. among the',\n",
       " 'flu mistakes: 8 things we think prevent the flu that dont really work. youre right to want to do whatevers in your power to stay flu-free this season, especially given the severity of this years',\n",
       " 'protesters urge electoral college to stop donald trump. the last-ditch effort calls on electors to remember “their constitutional duty” when they cast their ballots for president monday.',\n",
       " 'mick jagger on snl: rolling stones legend performs with arcade fire, foo fighters and jeff beck, takes jab at mitt romney (video). jagger flashed his comedic songwriting ability in a musical blues sketch with guitarist jeff beck about the presidential',\n",
       " 'california group that wants to help democrats win back the house in 2018 gets a big boost. red to blue california pac, which aims to flip seven gop-held districts won by hillary clinton in 2016, has enlisted democratic former rep. mike honda to help.',\n",
       " 'the dark side of looking at camp pictures online. there are three reasons that i genuinely wish there was no such thing as overnight camps posting pictures of kids online during the camp session.',\n",
       " 'paradise burned: how climate change is scorching california. california is now losing nearly 90,000 acres a year to wildfires.',\n",
       " 'david gandy on gisele, kate & the gender inequalities in modeling (photos). its a fair point from a rarely-heard voice in the industry. how much does the presence of pretty-faced celebrities affect',\n",
       " 'house tour: shelterblacks valerie killeens diy-chic home (photos). its filled with cool one-of-a-kind goods.',\n",
       " 'fashion trivia quiz: which designer debuted in clueless, which model studied art history and more. do you know which model is a twin? or who invented the mini skirt? take our quiz below and test your knowledge of fashion',\n",
       " 'last words: alyssa edwards reflects on ‘rupaul’s all stars drag race’. i feel like my life is a book that has been written and now it’s being read.',\n",
       " 'why does my cat mask that hes in pain?. for more on pet health, click here. a cat who once groomed himself with a back leg flung straight up may simply stop grooming',\n",
       " 'easing the stress of day care pick ups. the early days of daycare drop offs were uneventful and the children seemed accepting of this change in their lives. it was always a puzzle to me, however, when my children would break down in full sobbing tears the moment they set eyes on me at pick up at the end of the day.',\n",
       " 'time for united nations intervention. reactions to the horrific back-to-back kidnappings and murders of three young israelis and a palestinian teen have made clear several disturbing realities that must not be ignored.',\n",
       " 'suppression of the transgender vote. even though trans voices are speaking up, our government isn’t hearing us.',\n",
       " 'no doubt and fred perry team up for collaboration (photos). say it aint so!',\n",
       " 'the supreme court has had enough of the lethal injection debate. the justices declined to rehear a controversial june case that upheld oklahomas lethal-injection protocol.',\n",
       " 'jilt your lover!. in this new consciousness of loving with abandonment, you no longer hope for that valentine card that never arrives. instead, valentines day is every day -- it is the energy that draws you to the lover who loves unconditionally as you do.',\n",
       " 'court rules cannibal cop can fantasize about whatever he wants. neither of former nypd officer gilberto valles convictions were allowed to stand.',\n",
       " 'the woman who made history by running irans first international marathon. “i wasn’t trying to break any records. i wanted to show that i can run even with a hijab.',\n",
       " 'new jersey powerball winner plans to fix sandy-damaged home: report. the largest jackpot in history stands at $656 million, won in the mega millions lottery in march 2012. that prize was split',\n",
       " 'pope francis quiz: 19 questions to test your knowledge. pope francis\\xa0will make his first trip to the united states\\xa0in september, and his mass in philadelphia is expected to draw',\n",
       " 'thanksgiving crafts: patterned fabric and yarn placemats with tassels. choose your favorite fabrics and get sewing!',\n",
       " 'jemima kirke, girls star, knows just how to meet the parents (photo). see more memorable looks from girls want more? be sure to check out huffpost style on twitter, facebook, tumblr, pinterest',\n",
       " 'help your kid get the right first job in six easy steps. even if your kid is still a tot, read on for tasks good for teaching responsibility to younger children, and when to start thinking about encouraging them to work outside the home. its never too early to start teaching the ethics of hard work!',\n",
       " 'police harassment drives afghan refugees out of pakistan. in the second part of refugees deeply’s\\xa0“return to afghanistan” series, umer ali speaks to afghan refugees in pakistan forced',\n",
       " '8 adorable dogs playing in the snow. snow is here whether we like it or not -- but these dogs sure know how to make winter a little more fun! check out this hysterical video as these energetic pups slide, swerve, and shuffle around in the snow. onward, to winter wonderland!',\n",
       " 'how to clean a dishwasher with kool-aid. since a dishwasher is made to do most of the dirty work for us, it needs its own cleaning every once in a while to remove',\n",
       " 'please describe your moustache: strange visa questions revealed. no matter how fine the moustache, travellers may be left scratching their whiskers in wonder if asked to describe it during',\n",
       " 'primal pastures kickstarter: help start a farm. this kickstarter is making waves in pastured farming.',\n",
       " 'why you should expect a brock turner–inspired episode on law & order: svu this season. it could be healing to somebody to see what should happen, mariska hargitay says.',\n",
       " 'i want you, gentle reader, to lighten up!. i am still a fan of those in our community who are so punk rock that they have adopted certain loaded words to self-identify. rock on, darlings! just remember that there are indeed still prejudices and still impressionable minds who hear and see everything going on.',\n",
       " 'photo: aye-aye may be the worlds ugliest (or strangely cutest) animal. aye-ayes are a type of lemur only found in madagascar and are actually related to chimpanzees and humans, according to national',\n",
       " 'mikhail gorbachev says nato is escalating cold war with russia into a hot one. former soviet premier mikhail gorbachev has accused nato of preparing for “offensive operations” against russia. as the western',\n",
       " 'this years guide of how to get through holiday shopping, untouched --part 1. this years guide: the revised, the updated, the ultimate manual on how to avoid getting touched, caressed, bumped, groped, shoved, tripped, smacked, kicked, whatever, while you shop for that perfect gift for that imperfect person.',\n",
       " 'making malaria matter. how can we make malaria matter? thats the question i was asked most often as i traveled throughout thailand and into the chittagong hill tracts of bangladesh to study the parasitic infectious disease that still kills an estimated 1 million human beings each year.',\n",
       " 'mothers day pledge: lets end the mommy wars. ts difficult explaining to europeans how a nation that claims to honor family values does not have policies that honor the family. mothers day should be a call for action.',\n",
       " 'the one question that every physician should ask their patient. in the current medical culture physicians only have minutes to spend with each of their patients. in these few minutes a',\n",
       " '50 bodyweight exercises you can do anywhere. who needs a gym when theres the living room floor? bodyweight exercises\\xa0are a simple, effective way to improve balance, flexibility',\n",
       " 'how new notions of love brought me closer to my kids. of course my efforts to please my daughter didnt make her happy. they only made her appreciate me less. while she was mild-natured and agreeable with babysitters and teachers, she became grouchy and oppositional with me. she was only four, but to me it felt as if she was going on fourteen.',\n",
       " 'yet another trump administration official took questionable liberties with work travel. veterans affairs secretary david shulkin spent a large portion of an official trip sightseeing.',\n",
       " 'heres what the golden girls taught us about lgbtq equality. america could take a few cues from dorothy, blanche, sophia and rose.',\n",
       " 'sarah silverman and w. kamau bell talk ageist, sexist & racist jokes (video). sarah silverman stopped by totally biased with w. kamau bell on thursday for a slightly uncomfortable – but ultimately',\n",
       " 'jordan klepper destroys gop bill that sells good guy with a gun myth. a domestic abuser is not a good guy with a gun.',\n",
       " '5 tips to create the perfect white kitchen. it seems that this perennially popular look is gaining more and more fans by the minute!',\n",
       " 'only fools dye their young. my daughter was allergic to blue dye #2... a common food dye that was an ingredient in the cereal and the two over-the-counter children medicines. of course, we learned to avoid food dyes like the plague.',\n",
       " 'epa chief apologizes for huge colorado mine spill. the leak released lead, arsenic, cadmium and other dangerous contaminants into waterways.',\n",
       " '5 kid-friendly new years getaways. while finding a fun, kid-friendly vibe on new years eve can sometimes be a challenge, many hotels and resorts are offering special family-friendly celebrations complete with kids menus and bedtime-friendly celebrations.',\n",
       " 'my dead father taught me everything i needed to know about fatherhood. in his absence, i learned a great deal about myself and the world around me.',\n",
       " 'can you be romanced by food?.',\n",
       " 'engagement with cuba is a bipartisan issue. private entrepreneurs are not the only cubans who see normal relations as beneficial.',\n",
       " 'the bounds of independence.',\n",
       " 'how young is too young for internet safety?. british charity childline is urging that kids as young as 5 be taught internet safety, telling the bbc that the issue is an e-safety time bomb and one of the biggest child protection issues of our time.',\n",
       " '9 picnic-perfect recipes. what better way to celebrate spring than with an outdoor feast?  think outside the lunchbox and try one of these delicious, easy-to-transport dishes for your next picnic.',\n",
       " 'a conversation with designer steven gambrel. gambrel and his interior spaces commands multiple editorial pages in shelter and decorating magazines because he deftly combines smart and beautiful design with functionality.',\n",
       " 'two brothers drive from chicago to flint to deliver clean water. lamont and nate williams donated roughly 100 cases of water.',\n",
       " 'reflections on justice after ferguson, mo:  when will youth of color receive the same due process as officer darren wilson?. it turns out that justice, like so much of what happens in america, has two faces. michael browns shooting -- and the image of his young black body left lying for hours in the summer sun -- has become a symbol of the many forms of unfairness suffered by youth of color across america.',\n",
       " 'when should a stepparent step in?. i dont have to do what you say. youre not my real father/mother! is a line that every stepchild worth their salt tries',\n",
       " 'week in #instagigs: solange glows under the lights of webster stage (photos). when it comes to commanding stage presences, few indie pop stars hold a candle to solange. with her velvety voice and killer',\n",
       " 'shark week: in memoriam to all those we have lost (watch). shark week took over the discovery channel and the internet this week pulling in huge ratings and memes galore. as the week',\n",
       " '57 facts that prove the oscars are (and have always been) so white. this damning info shows just how few stars of color have been recognized in 88 years.',\n",
       " 'oklahoma senator who endorsed trump faces child prostitution charges. sen. ralph shortey was under investigation after he was allegedly found in a motel room with a boy last week.',\n",
       " '14 recipes for rustic tarts, galettes and crostatas. many people find baking a pie intimidating -- that its too complicated to get the dough shaped perfectly for laying into',\n",
       " 'pastor ripped for posting video of woman in wheelchair towed by truck. i want to apologize from the bottom of my heart.',\n",
       " '19 times zendayas hair and makeup left us speechless. do you, girl!',\n",
       " 'kim kardashian: look of the day. want more? be sure to check out stylelist on twitter, facebook and pinterest. where: arriving at lax airport in los angeles',\n",
       " 'carine roitfeld styles for v magazine before the release of her own glossy. cover 2: cover 1: carine roitfeld has certainly been keeping busy since leaving paris vogue with no plan at all. the former',\n",
       " 'dwayne johnson struggles to eat candy for first time since 1989. yes, thats a gummy worm.',\n",
       " 'weekly roundup of ebay vintage clothing finds. as always, buyer beware! be sure to read the listings closely and contact the sellers with any questions. this eclectic mix',\n",
       " 'trump holds high holidays conference call with select jewish leaders. the call exposed a fissure within the american jewish community on how to approach relations with the white house.',\n",
       " 'this sustainable city could end our fossil fuel dependency. masdar city in the uae is exclusively powered by renewable energy sources',\n",
       " 'donald trumps star of david hillary clinton meme was created by white supremacists. donald trumps star of david hillary clinton meme was created by white supremacists',\n",
       " 'the real reason tyrese didnt reunite with taraji p. henson on empire.',\n",
       " 'the supreme ugliness of the deportation regime. things are going to go from ugly to hideous when the federal government brings its might against sanctuary cities.',\n",
       " 'mean girls director signs on for new comedy.',\n",
       " 'huffpollster: republicans’ loyalties are split between donald trump and paul ryan. this election has left serious rifts within the party.',\n",
       " 'this chrome extension sends the right the trigger warnings they need. they need the trigger words. because they refuse to acknowledge truth.”',\n",
       " 'whale resembles alien creature while feeding on school of fish (photos). the brydes whale has between 40 and 70 pleats on its throat which expand while feeding, according to the whale and dolphin',\n",
       " 'the graduation gift you cant afford to miss.',\n",
       " '12 quick ways to sneak whole grains into your baking. theyre delicious too!',\n",
       " 'orens orgy of self-justification. the book is instructive and disturbing on many levels. first and foremost, i was struck by the arrogance and the sense of impunity with which ally was written. no one who criticizes israel is spared from orens venomous pen. two targets receive special attention: president obama and liberal american jews.',\n",
       " '4 cocktails made from hangover cures. we suggest you ignore the dietitians and combine booze with your favorite hangover-busting cures, just like in these kick-ass cocktails.',\n",
       " 'officer puts man in chokehold outside a north carolina waffle house. a 22-year-olds violent arrest is once again prompting questions about the police.',\n",
       " 'jennifer hudson and harvey fierstein to star in nbc’s hairspray live. jennifer hudson and harvey fierstein have signed on to nbc’s “hairspray live!,” the network’s next live broadway musical',\n",
       " 'theres a star trek cruise, and william shatner is captain. sail long and prosper. ✌',\n",
       " 'unusual baby girl names for 2013. looking for unique girl names? according to the social security administrations most recent ranking of girl names, weve',\n",
       " 'the enemy is within, not without: make love not war. we become fearless only when we can turn fear around and face it, get to know it, release resistance to it, and open our hearts.',\n",
       " 'if newt gingrich ran for president again, hed do it like bernie. the vermont democratic socialist has made an admirer out of the conservative firebrand.',\n",
       " 'my transgender life:  all god’s children - for believers, non-believers, those confused and those who cannot commit. so, the president of the usa wants to ban transgender people from serving in the military. so, the state of texas calls an',\n",
       " 'pete rose’s thoughts on head injuries are irresponsible and dangerous. he criticized josh donaldson for leaving a game after a head injury.',\n",
       " 'bayern munich edges chelsea 5-4 on penalties in uefa super cup (video/photos). the chelsea defense appeared to have the 30-year-old under control as he ambled toward the box two minutes after the restart',\n",
       " 'the importance of being bold. the question on everyones lips was how did you get michelle obama to visit your program? the answer is simple: one of our students asked.',\n",
       " 'twitter responds perfectly to sean spicer hiding in bushes. d’oh!',\n",
       " 'old donald trump documentary is now a chilling horror film. if youre bad to him ... youre dead.',\n",
       " 'san francisco on the cheap: do this, skip that in hipsterland. but san fran can be cheap! behold these low-cost (and way cooler) alternatives to the citys tourist traps. you could schlep',\n",
       " 'a lancet breakthrough: publishing about faith and health. on july 7, the renowned medical publication the lancet launched a series of articles on faith and health, led by ed mills. lancet senior executive editor bill summerskill, made clear that this was a significant departure, a first.',\n",
       " 'carly rae jepsens grammys dress 2013 is kind of a bummer (photos). want more? be sure to check out huffpost style on twitter, facebook, tumblr, pinterest and instagram at @huffpoststyle. -- do',\n",
       " 'this is autism photo series celebrates simple but major milestones. “for kids with autism, every milestone matters and should be celebrated.”',\n",
       " 'to be where i am. is it convenient to check email anywhere, any time? yes. is it helpful to be able to confirm arrangements, check locations, or find someone i am meeting? of course. but i eschew these kinds of ease for the sake of something that means more to me.',\n",
       " 'facebook built censorship tool to appease china expansion. the social network was banned in china in 2009 as the government sought to tamp down unrest.',\n",
       " 'extreme weather threaten insurers risk models, new report shows. from climate centrals andrew freedman: sharlene leurig, a senior manager in ceres’ insurance program and a coauthor of the',\n",
       " 'looking for a mate? sign on the dotted line. 1. dont go into a relationship assuming and having the desire to change the other person. i want to be drunk in love. there',\n",
       " 'triaminic, theraflu warming relief recall: cough syrups recalled due to cap seal defect. the company said it received four reports of accidental ingestion of the triaminic syrup. one patient required medical attention',\n",
       " 'naki sumo: japans crying baby contest (photos). the naki sumo, contest consists of two sumo wrestlers holding up children who were born in the previous year, standing',\n",
       " 'not all netflix workers will get unlimited parental leave. dvd workers will be left out, the company confirms.',\n",
       " 'donald trump could get booted off the ballot in minnesota. it is likely none of the republican electors were legally elected.',\n",
       " 'knock on wood? certain superstitious actions make us feel better, study shows. specifically, they found that superstitions that involve action away from the body -- such as knocking down and away from',\n",
       " 'no parole for kkk leader who killed black teen with a crossbow. the former kkk leader was convicted in 1993 for killing 16-year-old felicia houston.',\n",
       " '7 million pounds of hot dogs recalled for possibly containing bone pieces. skinless apparently doesnt always mean boneless.',\n",
       " 'how did hong kong get its name?. more questions on hong kong: in chinese culture, what are practices that are considered good table manners? how about bad',\n",
       " 'blake lively brought her family to the met gala without you even noticing. its all in the details.',\n",
       " 'your weekly travel zen: u.s. beaches.',\n",
       " 'little girl slathered her brother in desitin, but she has a totally valid explanation (video). hat tip: tastefully offensive we have to hand it to little log. if youre going to cover your baby brother bradleys entire',\n",
       " 'hugh jackman hilariously fails to pronounce his co-stars hometown. can you say llanfairpwllgwyngyllgogerychwyrndrobwllllantysiliogogogoch?',\n",
       " 'youve never seen the victorias secret angels like this before.',\n",
       " 'why its ok to let kids fail: a guide to not overparenting. as a parent, how do you stand idly by as your child falters, when all you want to do is set them up for success? how (when, where?) do you draw the line?',\n",
       " 'but seriously, you need a go-to zaatar recipe (photos). let your zaatar flag fly.',\n",
       " 'rick santorum compares kim davis to columbine victim who refused to rebuke god. reminder: kim davis is an elected official.',\n",
       " 'fox news all but ignores nationwide student walkouts to end gun violence. the network spent most of its wednesday morning covering the pennsylvania election and mulling day-old news.',\n",
       " 'to spy in lisbon. stays in the city inspired authors such as graham greene and ian fleming to write some of the best espionage tales of the last century, from our man in havana to the first of the 007 series, casino royale.',\n",
       " 'china lodges protest after trump call with taiwan president. “the one china principle is the political basis of the china-u.s. relationship.”',\n",
       " 'with a close look at israel, p.s. jerusalem filmmaker danae elon returns home. “just by choosing to be here, you can’t help but be a part of it.”',\n",
       " 'kelly clarkson blonde hair: do you like her new color? (photos, poll). see kelly clarksons style evolution! all together now: awwww. her latest act? grabbing the dye bottle and going blonde. the',\n",
       " 'national fraternity, sorority groups withdraw support for safe campus act. the groups gave up after spending months lobbying in favor of the bill.',\n",
       " 'a letter to my 3-year-old on her birthday. you will surprise and delight me. scare me, then reassure me a moment later. walk away, but eventually (please) grab my hand. you are my baby and you are also my big girl.',\n",
       " 'united airlines ceo somehow won a major pr award last month. since then, the airline has stumbled through not one, but two, public relations disasters.',\n",
       " 'halloween and the bizarre art of unexpected style. all hallows eve is an event ushered in annually at my home with great fanfare, enthusiasm, and a liberal amount of custom wigs... in my book, it is a holiday dedicated to reinvention, bold self-expression, creativity, and wild costuming. a chance to pay homage to my muses or even become them for a day.',\n",
       " 'the magic of washingtons san juan island (photos). taking a leisurely stroll between the rolling fields, we closed our eyes many times to take in the sweet smell of lavender in the air.',\n",
       " 'the married couple behind summers darkest and weirdest comedy. janicza bravo and brett gelmans lemon explores white male mediocrity in a truly unsettling indie.',\n",
       " 'bill maher blames superheroes for election of orange sphincter donald trump. the problem is that superhero movies imprint this mindset that we are not masters of our own destiny.',\n",
       " 'trump backers charged in anti-muslim terror plot may argue theyre just facebook warriors. the kansas militiamen charged in the plot argued that the government shouldnt call them terrorists.',\n",
       " 'volcanic versus coral: the caribbean throw-down (photos). while we today regard volcanoes variously as dangerous, sexual, and beautiful, the ancients held them as mythic.',\n",
       " 'bake sale recipes: how to make the most impressive baked goods. bake sales can be a drag. they almost always pop up when youre at your most busiest. you often times dont know about them',\n",
       " 'push to change custody laws: whats best for kids?. fathers today spend more time than ever with their kids, experiencing just as much stress as women in balancing work and',\n",
       " 'climate change casualties: honey, coffee, chocolate. in the united states climate change has brutalized plants and honeybees. in fact, since 2008 the price of honey in america has risen by 50 percent. pundits expect it to reach its highest price ever in 2013.',\n",
       " 'toddler gets why we need planned parenthood better than some adults. we can do everything with our own body.',\n",
       " 'if you defend the u.s. health care system, perhaps you’re too stupid to live. lack of critical thinking: it’s killing us. and if you get alarmed by the headline of a may 22\\xa0sacramento bee article, it',\n",
       " 'how changes in media habits could transform your childs mental health. morning grouchiness is not an uncommon complaint from parents -- especially parents of teenagers. but what happens when your childs mood lasts not just for a day or two, but for several weeks or months?',\n",
       " 'jesse williams calls trump a ‘pig’ who incites fear against immigrants. the actor also brought attention to police brutality.',\n",
       " 'q10 with david childs. a renowned designer for the prestigious skidmore, ownings and merrill, david m.childs has had quite the journey to becoming one of the most powerful architects in new york city.',\n",
       " 'how daily naps can improve your overall health and well-being. cats know it. babies know it. so why don’t we know it?',\n",
       " 'reports: major injury blow for italy ahead of england clash.',\n",
       " 'no, the weather isnt making your joints hurt more. you might just be noticing the pain when its raining.',\n",
       " 'weekly roundup of ebay vintage clothing finds (photos). no time to page through thousands of ebay listings? then just sneak a peek at my weekly ebay roundup of top vintage clothing finds.',\n",
       " 'the most unusual wedding song requests. for many wedding songs, appropriate and inappropriate are definitely in the eye of the beholder.',\n",
       " 'mary kate & ashley olsen make first handbag collection for elizabeth and james. finally a collection for the girl who doesnt have $39,000 to spend on a backpack.',\n",
       " 'when microaggressions become macro confessions. in the fuzzy arithmetic of their moral equivocation, flag pins matter, firearms matter, border patrols matter, but black and brown lives dont matter unless they can be leveraged for some self-serving political purpose',\n",
       " 'university of southern mississippi to offer study abroad program in cuba. what better way to expand your worldview than to study somewhere like cuba? the educators who graduate and have studied in this program will be better connected to their students and classroom experiences and will have a unique perspective on students with cuban roots.',\n",
       " 'ed westwick under investigation by lapd after rape accusation. a police report was filed on tuesday detailing the alleged sexual assault.',\n",
       " '5 tips for a mindful 2015. the start of another year -- a great time to check on the state of your mindful leadership practice! at the institute we talk about three key practices we employ to develop our focus, clarity, creativity, and compassion.',\n",
       " '4 reasons to stay in a brooklyn hotel (video). in this new travel sos video, i look at the upsides of booking in brooklyn, n.y.',\n",
       " 'cakebarring and cancer: an unlikely marriage of 2013. this year -- the one where i signed on to bake 50 cakes and take them to bars around la in hopes of finally finding a boyfriend -- also happened to be the one where my best friend chrissy, my roommate and the champion behind my baking and blogging shenanigans, was diagnosed with brain cancer.',\n",
       " 'how medicare is robbing your health. because this month medicare rolled out its price-slashing program on blood sugar test strips. after requesting competitive',\n",
       " 'taking the i out of volunteering. organizations that help nonprofits understand where they can use more expertise and capacity, and then connecting them with that help, offer one key step towards solving the complex problems we face as a society.',\n",
       " 'birth control yogurt will change your contraceptive habits forever (video). yogurts no longer just a way to keep your digestive tract regular. now, you can use it to prevent babies, too. its sure',\n",
       " 'donald trump gets starring role in spoof ‘the emoji movie’ trailer. 😂😂😂😂😂',\n",
       " 'is entrepreneur barbie the doll we have been waiting for?.',\n",
       " 'republicans are totally in favor of brexit. americans opinions on the referendum are part of a broader partisan divide.',\n",
       " 'california proposal could roll back wage increases for tens of thousands.',\n",
       " 'new hillary clinton ads seek to show why shes better for women than gop. theyll start airing during the third republican primary debate.',\n",
       " 'into the afghan abyss (again). how a failed drug war will defeat trump’s afghan adventure.',\n",
       " 'religious conservatives arent judging donald trumps questionable christian values. theyre willing to turn the other cheek over his boasts about his sexual promiscuity, offensive remarks and attacks on a gold star family.',\n",
       " 'life lesson: making the ask. fundraising comes down to factors. being brave enough to ask someone for money and finding people who are interested in the cause you are espousing.',\n",
       " 'nyt launches virtual reality project with google. in the context of international reporting and conflict reporting ... this has huge potential.',\n",
       " 'do you need an internet intervention?. i find it unsettling that people are spending more time connected with each other online than in person. while i enjoy interacting with my friends on facebook and have been reconnected with old acquaintances, i am starting to feel disconnected in other ways and have found myself exhibiting some unhealthy habits.',\n",
       " 'yoga: 3 ways to remain on the path. do you get overwhelmed by the idea of committing to a lifelong spiritual practice? when we think about this work in relation to our fast-paced lives, it can not only seem daunting to set out on this path but completely absurd.',\n",
       " 'former cia director john brennan says trump should be ashamed of himself. the president spoke to cia agents in unprepared remarks that included a suggestion to violate international law.',\n",
       " 'frozens secret villains. most disney parents (note i didnt say step-parents) are solid as a rock (nemos dad) or absent by no fault of their own (nemos mom, simbas dad, bambis mom and dad, the list goes on and on); the parents in frozen simply blow it.',\n",
       " 'stop calling terrorists militiamen. militias are the ancestors of the modern national guard, not of self-proclaimed patriots who show utter contempt for any form of authority beyond themselves. the extremists playing solider in the woods of oregon are at best criminals and at worst domestic terrorists, and they need to be identified as such.',\n",
       " 'coco rocha channels austin powers, britney spears gets snappy with simon cowell and more tweets of the week (photos). as usual, the brit doesnt mince words.',\n",
       " 'celebrating life in the midst of tragic, violent loss: a creative guide to healing. how do you celebrate the holidays in the wake of a national tragedy?  how do you find life in the midst of carnage too horrible to imagine? heres what you need to know, from the perspective of a parent who has lost their child from a catastrophic act of violence.',\n",
       " 'secret service wanted to leak embarrassing info on congressman. some information that he might find embarrassing needs to get out. just to be fair.',\n",
       " 'huffpost rise: what you need to know on december 1. welcome to the huffpost rise morning newsbrief, a short wrap-up of the news to help you start your day.',\n",
       " 'polls got it seriously wrong in michigans democratic primary. a swing and a mich for pollsters, who said hillary clinton would easily win the state.',\n",
       " 'jennifer anistons hollywood reporter cover is all about the legs.',\n",
       " 'touchy feely trailer: new lynn shelton feature stars rosemarie dewitt, ellen page. the trailer for what appears to be another quirky, heartfelt movie from mumblecore favorite lynn shelton (your sisters',\n",
       " 'beyoncé stops her show for dance captains surprise proposal. he liked it, so he put a ring on it 💁🏾💍',\n",
       " 'dear family whisperer: dont get a dog for your child. your mistake isnt getting a dog. its giving a dog to a 10-year-old -- and expecting him to shoulder most of the burden.',\n",
       " 'resistance and getting our last bit of sh*t together to finish the race. i am losing weight so i can hike with my kids by mothers day.  i am having back to back tinder dates because i am finding my person this year. i am studying math 101 so i can feel smart.  i am reading this book so i do not get kicked out of bookclub.  i am dancing so i can feel the angels when i move.',\n",
       " 'a melting antarctica could sink the worlds coastlines faster than predicted. sea level rise could be double previous estimates, swamping boston and new york by 2100.',\n",
       " 'shake shack soars in first few minutes of trading.',\n",
       " 'arkansas judge accused of trading sentence reductions for sex. judge joseph boeckmann also may have had child pornography on his computer, a state committee alleges.',\n",
       " 'munich police warn of imminent threat of terror attack. berlin (ap) — police in munich warned of a serious, imminent threat by islamic state group suicide bombers wanting to commit',\n",
       " 'captain sullys on a mission to save more lives with drowsy flying laws. the miracle on the hudson hero joined senators pushing to close a loophole that affects cargo pilots.',\n",
       " 'death toll in romanian nightclub fire will rise, doctor says. so far, 29 people have died and at least 180 are injured.',\n",
       " 'artists trumpbeast is a chilling portrait of the current administration. molly crabapple is not here to make pretty pictures.',\n",
       " 'harry belafonte waxes historic at the first time film festival. just when you thought the world had enough film festivals! but in addition to discovering new talent, the first time film festival celebrates the old in a unique way.',\n",
       " 'the sexist double standards hurting hillary clinton. much of hillary clinton’s difficulty in this campaign stems from a single, unalterable fact: she is a woman. i’m not referring',\n",
       " 'huffpollster: bernie sanders still matters in the presidential race. he doesn’t have a path to the nomination, but sanders’ presence is still felt in the polls.',\n",
       " 'annie stein on kai lobachs currywurst. between tending the plants, cutting back the roses, cruising the art marts online and on foot, and catering parties from bel air to malibu, who has time to toot his own horn about those yummy sausages?',\n",
       " 'elizabeth warren tells wall street it cant write its own rules. when industry insiders are in charge of regulating themselves, thats a problem.',\n",
       " 'wine is healthier than coke. we confront an era when we have to eliminate the ubiquity of sugary drinks -- including even fruit juice.  and, then, what will we drink?  bittman makes clear that it should be water.  thats one possibility.',\n",
       " 'next american president siding with russian intelligence. donald trump points to russian-aligned wikileaks to counter the u.s. intelligence community’s analysis that russia helped him win the election.',\n",
       " 'black americans lost money after buying a home, even in boom times. timing mattered in the 2000s -- unless you were black.',\n",
       " 'a step back for south africa on the rule of law, courtesy of al-bashir. the lack of enforcement of the arrest warrants against al-bashir is indeed disappointing but the existence of the domestic court order is a welcome development in the context of the fight against impunity.',\n",
       " 'tehran police say women will no longer be arrested for violating islamic dress code. “they should understand that in this day and age, how women dress is none of their business,” an iranian activist said.',\n",
       " 'the 21 stupidest things ever said by powerful people.',\n",
       " 'republican lawmaker who tried to deregulate his own industry wants his seat back. former state rep. clay cox’s private probation company is also being accused of exploiting poor people to pad its profits.',\n",
       " 'street art transforms moroccos capital into a living canvas.',\n",
       " 'the bachelorette season 13 episode 3: here to make friends podcast. plus, shopping on horseback!',\n",
       " 'valerie trierweilers qatar wardrobe reminds us shes one to watch (photos). has her simple style caused a valerie trierweiler effect à la the duchess of cambridge? with the exception of a single',\n",
       " 'want to be a better athlete? try plyos. the research comes from a team from universidad de los lagos in chile, and includes studies of young soccer players and adult',\n",
       " 'mou waho scenic reserve is the stunning island youve never heard of. an island in a lake in an island in a lake in an island in the ocean.',\n",
       " 'santa claus interrupts chip kellys press conference (video). [via nj.com] kelly was, understandably, a little bit taken aback when santa popped up out of nowhere. but after a few awkward',\n",
       " 'the connection between air pollution and cell phones youve never heard about. in the 21st century, show me the bodies seems like a cruel and outdated foundation for public policy.  yet history is littered with examples -- like tobacco and asbestos -- where only after the death toll mounts is the price of inaction finally understood to exceed that of action.',\n",
       " 'charlotte pence: i bought the gay bunny book. “i think that everybody can come together over marlon.”',\n",
       " 'donald trump: its okay to call undocumented immigrants rapists.',\n",
       " 'the view from 70: reflections on aging. getting older also means learning to appreciate this stage of life as a new adventure. there is still much to be discovered! this time of life offers up a whole new possibility for learning and engaging in creative expression.',\n",
       " 'summertime: the perfect time to vaccinate. prevention is not only the least expensive form of medicine and the healthiest, it is also the friendliest and most neighborly.  be a good neighbor and enjoy your summer -- get vaccinated.',\n",
       " 'your weekly travel zen: chile. this weeks moment of travel zen comes to us from simone dyson in the small town of frutillar, chile. her friend, corey brian',\n",
       " 'white house demands maryland super pac pull senate ad. the white house is wading into one of the hardest-fought democratic primaries in the country — to tell one side to stop invoking',\n",
       " 'what to do when cake gets stuck in the pan (video). few kitchen mishaps are as disheartening as when your cake gets stuck in the pan. you know you nailed the recipe, the house',\n",
       " 'new york fashion week, day 3: whats old is very new. clothing and accessories emerge that not only make you want to shop right this very minute but also that make you rethink pretty much everything youve been wearing up to this point.',\n",
       " 'leadership burnout: a simple way to re-engage. is there a simple way to begin to support leadership development and cultivate the ability to lead with excellence? happily, there is.',\n",
       " 'people cheer companies kicking nazis off the internet. but whos next?. any tactic used now to silence neo-nazis will soon be used against others.',\n",
       " 'the primal passions of white supremacy, roy moore and the battle to define america. toward the conclusion of charles chesnutt’s great american novel the marrow of tradition (1901), at the culmination of his',\n",
       " 'mephistopheles in your living room. if youve never seen an opera, this is an excellent way to begin: stretched out in a comfy chair instead of sitting upright with a hard-back seat in front of you; table with popcorn and beer at hand. plus, you can stand up when its not intermission.',\n",
       " 'arianna huffington hangs out with uncle jesse and more tweets of the week (photos). uncle jesse isnt the only tv star we want to see again: tweets: want more? be sure to check out huffpost style on twitter',\n",
       " 'above san francisco photos and video will take your breath away. “above san francisco,” a photo and video project shot by photographers toby harriman, michael shainblum and marc donahue',\n",
       " 'author of controversial new clinton book admits that he did not brief democrats on content.',\n",
       " 'heirloom tomatoes explained in vanity fairs snobs dictionary (video). in this case, we dont think being a snob is a bad thing.',\n",
       " 'lets watch gilbert arenas smash his own mercedes with a cinder block. shall we?',\n",
       " 'this carrie fisher quote casts ‘last jedi’ in a whole new light. the last jedi gave the leia actress her moment in the moonlight.',\n",
       " 'snl offers 28 reasons to hug a black guy for black history month, and 27 of them are the same. black history month has just begun, but saturday night live may have already written the most definitive song for february',\n",
       " 'valentines day skin tips -- loving skin is in!. even if green and chemical-free is not your thing, think twice this valentines day before you slather scented lotion or spray on cologne.',\n",
       " 'wild meditation. meditate for years. be as spiritual as your fondest idea of your perfect self.',\n",
       " 'what its like to be an indoor cycling instructor. every once in a while a craze takes hold and bundles of jobs are created as a result. one such fad over the last few decades',\n",
       " 'shine on -- mini coconut passion fruit cakes. its hard enough to find time to bake, let alone coordinate with mother nature so i can use natural light to get the photography done.',\n",
       " 'iowa kicks off 2016 presidential race with caucus tradition. the caucuses will begin on monday at 7 p.m. cst, and results are expected within two or three hours.',\n",
       " 'how i managed to have a stress-free wedding day (no, really!). first of all, no, im not kidding. i really did have the most incredibly relaxed, fun, stress-free wedding day. ask my bridesmaids; i think some of them were actually a little weirded out by how cool and calm i was on the big day.',\n",
       " 'the best moments from thursdays democratic debate. once again, things got heated between bernie sanders and hillary clinton.',\n",
       " 'how the muslim ban is ripping this young couple apart. they were supposed to get married in virginia and start a life together. then donald trump signed an executive order.',\n",
       " 'to ship or not to ship your luggage. wouldnt it be great if you could travel bag-free? there would be no bag-check lines, no waiting for luggage, no lost luggage and best of all, no restrictions. well, it is entirely possible. and traveling with your beloved bicycle? that is possible, too. how? ship it.',\n",
       " 'you should be angry about this election -- and express it. but theres a healthy way to do it.',\n",
       " 'how to win football season: chili cheese dog dip. yes, you read that correctly. lets do this.',\n",
       " 'ethnic pride and alcoholism: why black alcoholics are more likely to shame their families. ethnic minorities in britain have a very high rate of teetotalism compared to white people. you could say this is down to',\n",
       " 'injured and hurting: time to fix how we treat pain on the job. lets make pain awareness month about progressive change. it is time to leave behind archaic systems and embrace evidence-based, forward thinking methods of delivering care that are both patient-centric and at the same time utilitarian. we simply cant afford not to.',\n",
       " 'weekly meditations for healthy sex (nov. 8-14). even momentarily concentrating on healthy solutions rewires psychological patterns to receive and share healthy sexual love in the present.  here are three meditations with the themes of limitations, curiosity, and familiarity for you to ponder and practice this week.',\n",
       " 'why weight loss depends on your faith. there are a lot of pieces of the weight loss puzzle and youll need them all in place to make it work. but your faith is a big piece of the puzzle. having the right faith will open the door to them and set you on the path to their fulfillment.',\n",
       " 'campbell’s new parental leave policy is a big step even if it isn’t the best. the backstory on why the soup giant is making major changes.',\n",
       " 'youth homelessness is an invisible issue, but it doesnt have to be.',\n",
       " 'the funniest tweets from parents this week. so. many. snow. days.',\n",
       " 'eric trump ‘liked’ michelle wolf’s blistering cracks about sarah huckabee sanders. whoops!',\n",
       " 'erica domesek of p.s. - i made this shares her favorite hand-me-downs (photos). erica domesek has made a name for herself in the blogosphere by taking ordinary objects and turning them into something chic',\n",
       " 'idea of new attention disorder spurs research, and debate. with more than six million american children having received a diagnosis of attention deficit hyperactivity disorder, concern',\n",
       " 'hillary clinton wants you to imagine the headlines after a trump win. this aint a joke!',\n",
       " 'fake melania trump puts the president on notice in new ‘colbert’ appearance. watch the bogus flotus dish on the state of her marriage.',\n",
       " 'antidepressant use spikes before divorce, according to new study. researchers looked at data from 304,111 finnish people between the ages of 25 and 64, and of those, 23,956 divorced between',\n",
       " 'rand paul says calling trump a racist hurts immigration talks. the republican senator added that it was unfair to portray the president as a racist, despite his alleged shithole comments.',\n",
       " 'police make no promises to discipline officers who violate body camera policy. body cameras are pointless if we cant make sure cops are using them correctly.',\n",
       " 'congress presses ahead in trying to replace no child left behind. lawmakers are saying the compromise framework isnt perfect, but is still a way forward.',\n",
       " 'money & divorce: keeping it together when your marriage falls apart. regardless of how amicable -- or unexpected -- your divorce might be, your heart might not be the only thing that ends up battered. your piggy bank could be busted, too.',\n",
       " 'thanksgiving playlist: 15 songs to groove to on turkey day. with thanksgiving weekend officially upon us, it’s time to unwind, and reflect with loved ones on the principles that you',\n",
       " 'quick ways to dress up a farm for a wedding. if you love the idea of a farm wedding but want to make the space feel elegant enough for a wedding, chances are you are going to need to dress it up a little. to help make this project seem less overwhelming and within your diy wedding reach, i have five quick tips.',\n",
       " 'mental health, maternity care guarantees in jeopardy as gop wrangles for votes. conservatives have been trying to eliminate the essential benefits rule for a while.',\n",
       " 'ted cruz would welcome any gop candidate except donald trump to his cabinet. and the crowd went wild.',\n",
       " 'weight loss: whats the point?. what would happen if, instead of worrying about what you had for breakfast, you focused instead on becoming exquisitely comfortable with who you are as a person? instead of scrutinizing yourself in the mirror, looking for every bump and bulge, you turned your gaze inward?',\n",
       " 'food and stress: 7 healthy picks that can help you relax. usually when we talk about stress eating, were warning you against using food to squash unpleasant feelings. while many',\n",
       " 'the curbside consult: my ears are ringing!. being the ever-so-snarky lady that she is, molly simply replied, you have tinnitus and are going about it all wrong.  i asked her to start from the beginning.  heres how it went down.',\n",
       " 'what you can do to help after the oakland warehouse fire. at least 36 people died in the fire, and as many as 20 tenants may have lost their homes.',\n",
       " 'big brother, little brother, social brother. this week, starting with the tragic and sensless bombing of the boston marathon on monday, through a riveting manhunt for two fugitive brothers, and ending in the death of one and apprehension of the other, social brother showed us just how powerful his genie (internet+mobile+social+photography) has become.',\n",
       " 'from 4, to 6, to spandex: what my dog taught me about aging. it seems whether youre a dog, a human, a flower or a tree, aging shows little mercy to those along its path.  you sag, you ache, you droop and dribble.  but as long as you can keep your tail up and wagging, youll be surrounded by enough love to propel you forward.',\n",
       " 'the yogurt war. how does the food industry resemble life itself?',\n",
       " 'crossfit: miss america mallory hagan and other celebrities who love the workout. i do give them a little sticker [if they puke],” hollis molloy, a trainer at crossfit santa cruz told livestrong.com. “back',\n",
       " '7 myths about raising interfaith kids. this time of year, many interfaith families are preparing to feast on latkes, light hanukkah candles at the thanksgiving table and then move on to making christmas cookies. but beyond holiday celebrations, is it a good idea to raise kids in two religions?',\n",
       " 'does the amas declaration that obesity is a disease offer us a new excuse to be fat?. so no matter how our community (and individual) obesity problem is classified, lets not forget that that the real cure comes from inside ourselves.',\n",
       " 'world bank allows tanzania to sidestep rule protecting indigenous groups. a loophole in the world banks policy protecting indigenous communities could allow governments around the world to displace locals in the path of agricultural development without restoring their livelihoods.',\n",
       " 'mendoza, home of wine and rock. people in mendoza, the province that makes the lions share of argentine wine, care a lot about rock. they care about the kind that underpins great terroir, but they also care about the kind you can blast from your stereo. wine and music are inseparable in mendoza -- but why?',\n",
       " '11 fashion essentials every 30-something should own. so youve made it past your trying twenties. youve hopefully invested in a black blazer for important job interviews, a',\n",
       " 'big soda may be messing with our most trusted health organizations. will we ever learn?',\n",
       " 'dem senators slam george wills antiquated column on campus rape.',\n",
       " 'global press freedom has taken an ‘unbelievable’ hit this year. at least 53 journalists have been deliberately killed in 2016 for doing their jobs.',\n",
       " '29 photos that will awaken your inner explorer. if you cant visit these places yourself, heres the next best thing!',\n",
       " 'gay men in ivory coast attacked after honoring orlando victims. we are afraid now. there is no security.',\n",
       " 'mario balotelli in trouble for offensive dont be racist instagram post.',\n",
       " 'some presidential words on federal income taxes. income taxes are such a pervasive and everyday part of our financial lives -- and such a central issue in presidential campaigns -- that they seem to have been around forever. they have not. their debut is relatively recent.',\n",
       " 'clinton delays concession speech as trump seizes victory. her campaign chairman urged supporters to go home and sleep.',\n",
       " 'huffpost hill - economically anxious foam blob likely lost manufacturing job. like what you read below? sign up for huffpost hill and get a cheeky dose of political news every evening!\\xa0 donald trump',\n",
       " '10 stunning terraces and balconies that inspire us to de-stress (photos). these are the perfect places to wind down at the end of a long day.',\n",
       " 'mamarazzi® with pitbull. pitbull credits him mom with a lot, telling us, my mother always told me the pen is mightier than the sword.',\n",
       " '11 aunts wanted for crimes against facebook.',\n",
       " 'weight loss success: maritza rivera worked out with a personal trainer and lost 99 pounds. name: maritza rivera age: 36 height: 53 before weight: 253 pounds how i gained it: weight has always been an issue. being',\n",
       " 'my memorial day plans. last year a good friend of mine told me of how she felt of me being able to go to many places in honor of my fellow veterans. i dont consider it a vacation on any level, but as a way of continuing my duty. i believe this is how many veterans of my era and previous eras feel, as well.',\n",
       " 'israeli troops conduct raid in gaza.',\n",
       " 'house gop tries to slip through radical rollback of drinking water protections. gop lawmakers want to give trump the power to scrap a rule safeguarding 1 in 3 americans water.',\n",
       " 'diy nail art: halloween-inspired scaredy cat manicure (photo). because of the black cats... get it?',\n",
       " 'you dont have to have sex with your husband every night. im not saying you definitely shouldnt have a daily slap-and-tickle session with your partner. i dont know you. why would i give you that kind of advice? this is probably a conversation you should have with the person you plan on slapping and tickling.',\n",
       " 'the future of the democratic party will be decided by the supreme court. matt yglesias published a widely shared piece arguing that the democratic party is in “deep trouble” monday morning. the',\n",
       " 'maybe republicans should be more concerned about election fraud than voter fraud. colorado gop senate candidate jon keyser faces allegations he used forged signatures to get onto the ballot.',\n",
       " 'basil pesto -- one that will stay bright green!. heres a classic basil sauce that wont turn brown the minute you toss it with hot pasta! the trick? read here to find out!',\n",
       " '11 things you should never do again after 50.',\n",
       " 'appeals court to review trumps revised muslim ban. the case may well be settled by the supreme court.',\n",
       " 'hillary backs workers in fight for $15 minimum wage.',\n",
       " 'saying farewell to our family home after 24 years. i know this place. for 24 years weve lived here. i arrived, not quite\\xa030-years-old with my\\xa0one-year-old baby girl in my arms. i had fought moving to the suburbs for two years, but my husband was right -- it was a wonderful place to raise a family. so thats what we did. now were leaving.',\n",
       " 'jay leno disguises himself as an uber driver. cause thats what a former tonight show host does?',\n",
       " 'john leguizamo on when he realized the true struggle of being a latino actor. in an interview with the new york times, the actor described how he forged a different path after film school once he came to understood the industrys bias.',\n",
       " 'philippines president calls on civilians to kill drug addicts. if you know of any addicts, go ahead and kill them yourself as getting their parents to do it would be too painful.',\n",
       " 'ryder cup live: follow day 2 at medinah. with the united states holding a 5-3 advantage of its european counterparts in the 2012 ryder cup, the fans are flowing into',\n",
       " 'lawmaker kills bill aimed at selling off 3.3 million acres of public land. its a win for conservation, but the battle isnt over.',\n",
       " 'u.s. military and cia leaders may be investigated for war crimes. on november 3, the chief prosecutor of the international criminal court (icc) informed the court’s pre-trial chamber, ”[t',\n",
       " 'early super bowl fare deals. for diehard fans, the question is: are you brave enough to buy a flight to new orleans now?',\n",
       " 'selena gomez speaks up about daca reversal on instagram. “my definition of dreamer is someone that thinks big and believes anything is possible.',\n",
       " 'elle style awards red carpet features boob windows & more eye-catching trends (photos). last years honors went to michelle williams, christina hendricks, jessica chastain and mary katranzou. elles stamp of approval',\n",
       " 'why venezuela has shortages of everything from corn to condoms.',\n",
       " 'lemons problem in the media market. lemon problem arises when information received is either false or not quite authentic (rumor), however suppliers, as opposed to consumers, may know how false or truthful the information is.',\n",
       " 'theres a new king kong movie coming out. during the legendary pictures panel at san diego comic-con on saturday, the production company announced plans to bring king kong back to the multiplex.',\n",
       " 'canada unveils a hijab-wearing news anchor. i worried about whether i could make it very far in hijab.”',\n",
       " 'help for a traumatic delivery and postpartum depression. it was the day id been waiting for: i would meet my little girl and become a mom. i expected to experience joy, triumph in my strength as a woman, and overwhelming love as she entered the world. instead, i experienced my daughters birth in a state of terror, wondering if i would die.',\n",
       " 'hypocrite-in-chief : president trump’s crusade against criminal justice reform. the trump administrations views on law and order are designed to protect only a few.',\n",
       " 'i just purged 80 percent of my closet. why do i feel so guilty?. i dont miss a thing i tossed, but i do worry about where all that crap went.',\n",
       " 'trump savaged online after john kelly reportedly called him an ‘idiot’. the alleged insult has taken on a life of its own.',\n",
       " 'a famous hacker on what it is like being pursued by the fbi. i surrendered to the u.s. marshals service after a week of constructively avoiding the fbi while i negotiated (through my attorney mostly, though at times in joint conference calls) with the u.s. attorneys office for the southern district of new york.',\n",
       " 'drowning dog lets her rescuers know how happy she is to be saved. when an unsuspecting street dog fell into a well, she likely thought she wouldnt survive — until a few kind humans did everything',\n",
       " 'how to make greek easter sweet bread tsoureki. if you havent tried tsoureki before, then you are certainly missing out!',\n",
       " 'end the nypd hissy-fit. instead of turning its back on the mayor and calling foul, maybe the nypd should grow up, stare de blasio and the rest of the city in the face and answer the criticism.',\n",
       " 'fda approves drug for rare body fat disorder. the drug, myalept (metreleptin), is a form of leptin meant to reduce accumulation of fat in organs to better control blood',\n",
       " 'no, i dont have a dick pic, and heres why my dignity is still intact.',\n",
       " 'students walk out after princeton professor uses racial slur in class on hate speech. professor emeritus lawrence rosen repeatedly used the word n****r, a student said.',\n",
       " 'why forgiveness is not important. dissolve the meaning that seems to make forgiveness necessary and there will be nothing left to forgive.',\n",
       " 'trump family business is way smaller than the president has touted. the trump organizations inflated revenue figures are flagrantly untrue, said a crains reporter.',\n",
       " 'trump tells 57,000 honduran immigrants to leave or risk deportation. the administration previously ended temporary protected status for immigrants from el salvador, haiti, nepal, nicaragua and sudan.',\n",
       " 'what the times got wrong about nail salons. rarely does a newspaper story get the kind of response that the new york times front-page exposé of wage-theft at nail salons',\n",
       " 'norman rockwells hallelujah. “it’s a cold and it’s a broken hallelujah” – leonard cohen i had never seen the actual painting, just poor, darkened reproductions',\n",
       " 'bounce house regulations, enforcement lacking as injuries soar. in new hampshire, briggs lockwood, chief of tramway and amusement ride safety, says there are likely to be businesses the',\n",
       " 'broadways best celebrate les mis and miss saigon composers. for boublil and schönberg fans, it was a not-to-be-missed evening.',\n",
       " 'michael flynn’s guilty plea pulls vice president pence closer to russia spotlight. pence has tried to distance himself, but he’s supposedly the reason trump’s national security adviser got fired.',\n",
       " 'this catfight clip pauses anne heche and sandra ohs rivalry for a quick pregnancy reveal. there will be blood, but not in this scene.',\n",
       " 'meanwhile, in the real world. president trump may have decided he wants to withdraw from the paris climate agreement, but the rest of the country isn’t',\n",
       " 'stymied (and appalled). i have written extensively about trumpism and the anger, fear, and deep trauma of the group of voters who propelled trump onto the national stage. but i assumed that the majority of the american electorate would ultimately reject him. i can still hope that they will. that this race is tied is both confusing and worrisome.',\n",
       " 'healthy breakfast ideas: what doctors eat in the morning. do the people giving you their sound health advice actually practice what they preach? we asked the experts themselves to',\n",
       " 'nobody would eat these foods if we called them by their honest names. now we know why the name foie gras stuck.',\n",
       " 'the end is never really that. even when an old, heavy redwood tree falls terminally to the ground, its seeds are already on their way to producing another life. and now, as we look to the year 2013, we can discuss the importance of realizing that the ending of year 2012 is merely prepping us for whats to come.',\n",
       " 'daily meditation: metamorphosis. we all need help maintaining our personal spiritual practice. we hope that these\\xa0daily meditations, prayers and mindful awareness',\n",
       " 'how italians are carrying out popes vision to serve refugees.',\n",
       " 'spain’s state prosecutor calls for charges against catalan leaders. earlier, catalan leaders had said they would not accept spanish authority.',\n",
       " ...]"
      ]
     },
     "execution_count": 32,
     "metadata": {},
     "output_type": "execute_result"
    }
   ],
   "source": [
    "texts"
   ]
  },
  {
   "cell_type": "code",
   "execution_count": 33,
   "metadata": {
    "_uuid": "2c6fca0199d8a02d21834d71b8acf8809cf3af39",
    "colab": {},
    "colab_type": "code",
    "id": "99Jsdgjzgxyc"
   },
   "outputs": [
    {
     "name": "stdout",
     "output_type": "stream",
     "text": [
      "but if\n",
      "— david\n",
      "gratisography\n",
      "at johansson\n",
      "the hamilton creator\n",
      "and its\n",
      "bob mcdonnell\n"
     ]
    }
   ],
   "source": [
    "data = np.zeros((len(texts), max_senten_num, max_senten_len), dtype='int32')\n",
    "for i, sentences in enumerate(paras):\n",
    "    for j, sent in enumerate(sentences):\n",
    "        if j< max_senten_num:\n",
    "            wordTokens = text_to_word_sequence(sent)\n",
    "            k=0\n",
    "            for _, word in enumerate(wordTokens):\n",
    "                try:\n",
    "                    if k<max_senten_len and tokenizer.word_index[word]<max_features:\n",
    "                        data[i,j,k] = tokenizer.word_index[word]\n",
    "                        k=k+1\n",
    "                except:\n",
    "                    print(word)\n",
    "                    pass"
   ]
  },
  {
   "cell_type": "code",
   "execution_count": 60,
   "metadata": {},
   "outputs": [
    {
     "data": {
      "text/plain": [
       "9052"
      ]
     },
     "execution_count": 60,
     "metadata": {},
     "output_type": "execute_result"
    }
   ],
   "source": []
  },
  {
   "cell_type": "code",
   "execution_count": 34,
   "metadata": {
    "_uuid": "bd1e9d50df128646970caf5ce82de4af47ff6bdf",
    "colab": {
     "base_uri": "https://localhost:8080/",
     "height": 35
    },
    "colab_type": "code",
    "id": "OpKjmFmHgxyl",
    "outputId": "72313723-5fe8-49fa-9969-505c16be3cdc"
   },
   "outputs": [
    {
     "data": {
      "text/plain": [
       "[55, 6, 8]"
      ]
     },
     "execution_count": 34,
     "metadata": {},
     "output_type": "execute_result"
    }
   ],
   "source": [
    "p=[55,6,8,12,3,54]\n",
    "p[:-3]"
   ]
  },
  {
   "cell_type": "code",
   "execution_count": null,
   "metadata": {},
   "outputs": [],
   "source": []
  },
  {
   "cell_type": "code",
   "execution_count": 35,
   "metadata": {
    "_uuid": "5d65bf7613c3e0e217b569fe1eb71fe7cc860cad",
    "colab": {
     "base_uri": "https://localhost:8080/",
     "height": 35
    },
    "colab_type": "code",
    "id": "YUgnmB2Igxyt",
    "outputId": "c5202c59-4f84-49fd-8bfa-5202f2b93262"
   },
   "outputs": [
    {
     "name": "stdout",
     "output_type": "stream",
     "text": [
      "Total 100266 unique tokens.\n"
     ]
    }
   ],
   "source": [
    "word_index = tokenizer.word_index\n",
    "print('Total %s unique tokens.' % len(word_index))"
   ]
  },
  {
   "cell_type": "code",
   "execution_count": 36,
   "metadata": {
    "_uuid": "64988b0eb1bde78817814d931878938210926954",
    "colab": {},
    "colab_type": "code",
    "id": "InD64lzYvzeL"
   },
   "outputs": [],
   "source": [
    "labels = pd.get_dummies(categories)"
   ]
  },
  {
   "cell_type": "code",
   "execution_count": 37,
   "metadata": {
    "_uuid": "3b57aabbe00d6cf62bd98d191c45706250416dab",
    "colab": {
     "base_uri": "https://localhost:8080/",
     "height": 53
    },
    "colab_type": "code",
    "id": "edq6g1Ybgxy3",
    "outputId": "6eb054ad-6950-4be5-e1ee-831c08847cfa"
   },
   "outputs": [
    {
     "name": "stdout",
     "output_type": "stream",
     "text": [
      "Shape of data tensor: (200854, 6, 40)\n",
      "Shape of labels tensor: (200853, 40)\n"
     ]
    }
   ],
   "source": [
    "print('Shape of data tensor:', data.shape)\n",
    "print('Shape of labels tensor:', labels.shape)"
   ]
  },
  {
   "cell_type": "code",
   "execution_count": 38,
   "metadata": {
    "_uuid": "7986ef7e95450ca74fbd33aadf8dec63ac3e7c1e",
    "colab": {
     "base_uri": "https://localhost:8080/",
     "height": 108
    },
    "colab_type": "code",
    "id": "ucjMEEnugxy-",
    "outputId": "4390f1ea-b954-422d-a705-b333fbf52d4e"
   },
   "outputs": [
    {
     "name": "stdout",
     "output_type": "stream",
     "text": [
      "Number of positive and negative reviews in traing and validation set\n",
      "['ARTS', 'ARTS & CULTURE', 'BLACK VOICES', 'BUSINESS', 'COLLEGE', 'COMEDY', 'CRIME', 'CULTURE & ARTS', 'DIVORCE', 'EDUCATION', 'ENTERTAINMENT', 'ENVIRONMENT', 'FIFTY', 'FOOD & DRINK', 'GOOD NEWS', 'GREEN', 'HEALTHY LIVING', 'HOME & LIVING', 'IMPACT', 'LATINO VOICES', 'MEDIA', 'MONEY', 'PARENTING', 'PARENTS', 'POLITICS', 'QUEER VOICES', 'RELIGION', 'SCIENCE', 'SPORTS', 'STYLE', 'STYLE & BEAUTY', 'TASTE', 'TECH', 'TRAVEL', 'WEDDINGS', 'WEIRD NEWS', 'WELLNESS', 'WOMEN', 'WORLD NEWS', 'WORLDPOST']\n",
      "[1209, 1090, 3601, 4758, 916, 4174, 2727, 819, 2745, 808, 12877, 1065, 1124, 4954, 1127, 2113, 5360, 3387, 2750, 910, 2246, 1383, 6933, 3152, 26150, 5091, 2051, 1712, 3950, 1803, 7704, 1670, 1685, 7905, 2914, 2165, 14187, 2775, 1727, 4966]\n",
      "[300, 249, 927, 1179, 228, 1001, 678, 211, 681, 196, 3181, 258, 277, 1272, 271, 509, 1334, 808, 709, 219, 569, 324, 1744, 803, 6589, 1223, 505, 466, 934, 451, 1945, 426, 397, 1982, 737, 505, 3640, 715, 450, 1277]\n"
     ]
    }
   ],
   "source": [
    "indices = np.arange(data.shape[0])\n",
    "np.random.shuffle(indices)\n",
    "data = data[indices]\n",
    "#labels = labels.iloc[indices]\n",
    "nb_validation_samples = int(VALIDATION_SPLIT * data.shape[0])\n",
    "\n",
    "x_train = data[:-nb_validation_samples]\n",
    "y_train = labels[:-nb_validation_samples]\n",
    "x_val = data[-nb_validation_samples:]\n",
    "y_val = labels[-nb_validation_samples:]\n",
    "print('Number of positive and negative reviews in traing and validation set')\n",
    "print(y_train.columns.tolist())\n",
    "print(y_train.sum(axis=0).tolist())\n",
    "print(y_val.sum(axis=0).tolist())"
   ]
  },
  {
   "cell_type": "code",
   "execution_count": 39,
   "metadata": {},
   "outputs": [
    {
     "data": {
      "text/plain": [
       "'IMPACT'"
      ]
     },
     "execution_count": 39,
     "metadata": {},
     "output_type": "execute_result"
    }
   ],
   "source": [
    "a=y_train.columns.tolist()\n",
    "a[18]"
   ]
  },
  {
   "cell_type": "code",
   "execution_count": 40,
   "metadata": {},
   "outputs": [
    {
     "data": {
      "text/plain": [
       "9052"
      ]
     },
     "execution_count": 40,
     "metadata": {},
     "output_type": "execute_result"
    }
   ],
   "source": [
    "word_index['hi']"
   ]
  },
  {
   "cell_type": "code",
   "execution_count": 41,
   "metadata": {},
   "outputs": [
    {
     "data": {
      "text/plain": [
       "array([  20,   16,   64,  710,  117,  193,    5,   38,  148, 2921,    6,\n",
       "        774,  382, 6284,    0,    0,    0,    0,    0,    0,    0,    0,\n",
       "          0,    0,    0,    0,    0,    0,    0,    0,    0,    0,    0,\n",
       "          0,    0,    0,    0,    0,    0,    0])"
      ]
     },
     "execution_count": 41,
     "metadata": {},
     "output_type": "execute_result"
    }
   ],
   "source": [
    "q=x_train[1]\n",
    "q[1]"
   ]
  },
  {
   "cell_type": "markdown",
   "metadata": {
    "_uuid": "a31545078acc77f424c95c33d59a96f502aba10b",
    "colab_type": "text",
    "id": "l2UCwLNggxzM"
   },
   "source": [
    "### Model"
   ]
  },
  {
   "cell_type": "code",
   "execution_count": 42,
   "metadata": {
    "_uuid": "1115433c3ea4d0f17b5ce6671e3da90b32787faf",
    "colab": {},
    "colab_type": "code",
    "id": "ZDr03TLigxzQ"
   },
   "outputs": [],
   "source": [
    "REG_PARAM = 1e-13\n",
    "l2_reg = regularizers.l2(REG_PARAM)"
   ]
  },
  {
   "cell_type": "code",
   "execution_count": 43,
   "metadata": {
    "_uuid": "9bff7cfc93983318f015bc4758dfa94579b9cba1",
    "colab": {},
    "colab_type": "code",
    "id": "PGRLk4Q1z1U-"
   },
   "outputs": [],
   "source": [
    "import os"
   ]
  },
  {
   "cell_type": "code",
   "execution_count": 44,
   "metadata": {
    "_uuid": "88df613e2852c82455dfc92d953f5ff41b1569c0",
    "colab": {
     "base_uri": "https://localhost:8080/",
     "height": 35
    },
    "colab_type": "code",
    "id": "bp4upuqFu3Eb",
    "outputId": "2ac20441-d569-4bf5-e7af-aa23e31c866d"
   },
   "outputs": [
    {
     "name": "stdout",
     "output_type": "stream",
     "text": [
      "Total 400000 word vectors.\n"
     ]
    }
   ],
   "source": [
    "GLOVE_DIR = \"E:/glove/glove.6B.100d.txt\"\n",
    "embeddings_index = {}\n",
    "f = open(GLOVE_DIR,encoding=\"utf8\")\n",
    "for line in f:\n",
    "    try:\n",
    "        values = line.split()\n",
    "        word = values[0]\n",
    "        coefs = np.asarray(values[1:], dtype='float32')\n",
    "        embeddings_index[word] = coefs\n",
    "    except:\n",
    "        print(word)\n",
    "        pass\n",
    "f.close()\n",
    "print('Total %s word vectors.' % len(embeddings_index))"
   ]
  },
  {
   "cell_type": "code",
   "execution_count": 45,
   "metadata": {
    "_uuid": "cdecbaf4ce77b9246690e0c3e33312f9d3c80616",
    "colab": {},
    "colab_type": "code",
    "id": "6jsAMA-H0Nqi"
   },
   "outputs": [
    {
     "name": "stdout",
     "output_type": "stream",
     "text": [
      "Total absent words are 27655 which is 27.58 % of total words\n"
     ]
    }
   ],
   "source": [
    "embedding_matrix = np.zeros((len(word_index) + 1, embed_size))\n",
    "absent_words = 0\n",
    "for word, i in word_index.items():\n",
    "    embedding_vector = embeddings_index.get(word)\n",
    "    if embedding_vector is not None:\n",
    "        # words not found in embedding index will be all-zeros.\n",
    "        embedding_matrix[i] = embedding_vector\n",
    "    else:\n",
    "        absent_words += 1\n",
    "print('Total absent words are', absent_words, 'which is', \"%0.2f\" % (absent_words * 100 / len(word_index)), '% of total words')"
   ]
  },
  {
   "cell_type": "code",
   "execution_count": 46,
   "metadata": {
    "_uuid": "e633b8544e7a209f099130c0573f6045dc9aeec5",
    "colab": {},
    "colab_type": "code",
    "id": "k4rWQsaV0Yx8"
   },
   "outputs": [],
   "source": [
    "embedding_layer = Embedding(len(word_index) + 1,embed_size,weights=[embedding_matrix], input_length=max_senten_len, trainable=False)"
   ]
  },
  {
   "cell_type": "code",
   "execution_count": 47,
   "metadata": {
    "_uuid": "abdb6adfcfaace47815d0ae083ee45a0e2c31e6e",
    "colab": {},
    "colab_type": "code",
    "id": "c2RcVWFTgxzc"
   },
   "outputs": [],
   "source": [
    "word_input = Input(shape=(max_senten_len,), dtype='float32')\n",
    "word_sequences = embedding_layer(word_input)\n",
    "word_lstm = Bidirectional(LSTM(150, return_sequences=True, kernel_regularizer=l2_reg))(word_sequences)\n",
    "word_dense = TimeDistributed(Dense(200, kernel_regularizer=l2_reg))(word_lstm)\n",
    "word_att = AttentionWithContext()(word_dense)\n",
    "wordEncoder = Model(word_input, word_att)\n",
    "\n",
    "sent_input = Input(shape=(max_senten_num, max_senten_len), dtype='float32')\n",
    "sent_encoder = TimeDistributed(wordEncoder)(sent_input)\n",
    "sent_lstm = Bidirectional(LSTM(150, return_sequences=True, kernel_regularizer=l2_reg))(sent_encoder)\n",
    "sent_dense = TimeDistributed(Dense(200, kernel_regularizer=l2_reg))(sent_lstm)\n",
    "sent_att = Dropout(0.5)(AttentionWithContext()(sent_dense))\n",
    "preds = Dense(40, activation='softmax')(sent_att)\n",
    "model = Model(sent_input, preds)\n",
    "model.compile(loss='categorical_crossentropy',optimizer='adam',metrics=['acc'])"
   ]
  },
  {
   "cell_type": "code",
   "execution_count": 48,
   "metadata": {},
   "outputs": [
    {
     "data": {
      "text/plain": [
       "<tensorflow.python.keras.layers.embeddings.Embedding at 0x2abae789048>"
      ]
     },
     "execution_count": 48,
     "metadata": {},
     "output_type": "execute_result"
    }
   ],
   "source": [
    "embedding_layer"
   ]
  },
  {
   "cell_type": "code",
   "execution_count": 49,
   "metadata": {
    "_uuid": "c784c8c618c0c09870329374d40635174e628975"
   },
   "outputs": [],
   "source": [
    "checkpoint = ModelCheckpoint('best_model.h5', verbose=0, monitor='val_loss',save_best_only=True, mode='auto') "
   ]
  },
  {
   "cell_type": "code",
   "execution_count": 50,
   "metadata": {},
   "outputs": [],
   "source": [
    "#x_train = np.asarray(x_train)\n",
    "#y_train = np.asarray(y_train)\n",
    "#x_val = np.asarray(x_val)\n",
    "#y_val = np.asarray(y_val)"
   ]
  },
  {
   "cell_type": "code",
   "execution_count": 51,
   "metadata": {
    "_uuid": "70fbbd2f34955592a8968d8ab95ce3fee6d3c64d",
    "colab": {
     "base_uri": "https://localhost:8080/",
     "height": 53
    },
    "colab_type": "code",
    "id": "nf5L1DvTgxzx",
    "outputId": "5148c7e8-7c84-4237-e479-5359b79aea80"
   },
   "outputs": [],
   "source": [
    "#history = model.fit(x_train, y_train ,validation_data=(x_val, y_val), epochs=10, batch_size=512, callbacks=[checkpoint])"
   ]
  },
  {
   "cell_type": "code",
   "execution_count": 52,
   "metadata": {},
   "outputs": [],
   "source": [
    "#model.save('try2.h5')"
   ]
  },
  {
   "cell_type": "markdown",
   "metadata": {
    "_uuid": "07e8fe10d1d1f0871910c9b853c63b8f4c9f0ea0",
    "colab_type": "text",
    "id": "wolj9v-Hgxz4"
   },
   "source": [
    "## Plotting time"
   ]
  },
  {
   "cell_type": "code",
   "execution_count": 53,
   "metadata": {
    "_uuid": "57e64fc5401cdcb8a566f12b73cf5b1375b731f2",
    "colab": {},
    "colab_type": "code",
    "id": "VtGi4Wb8gxz7"
   },
   "outputs": [],
   "source": [
    "#print(history.history.keys())"
   ]
  },
  {
   "cell_type": "code",
   "execution_count": 54,
   "metadata": {
    "_uuid": "ee701e2133cc49ef4d0213a69d0b91da841f45aa",
    "colab": {},
    "colab_type": "code",
    "id": "qwdyK1hygx0K"
   },
   "outputs": [
    {
     "ename": "NameError",
     "evalue": "name 'history' is not defined",
     "output_type": "error",
     "traceback": [
      "\u001b[1;31m---------------------------------------------------------------------------\u001b[0m",
      "\u001b[1;31mNameError\u001b[0m                                 Traceback (most recent call last)",
      "\u001b[1;32m<ipython-input-54-dc2026473f3c>\u001b[0m in \u001b[0;36m<module>\u001b[1;34m\u001b[0m\n\u001b[0;32m      1\u001b[0m \u001b[1;31m# summarize history for accuracy\u001b[0m\u001b[1;33m\u001b[0m\u001b[1;33m\u001b[0m\u001b[1;33m\u001b[0m\u001b[0m\n\u001b[1;32m----> 2\u001b[1;33m \u001b[0mplt\u001b[0m\u001b[1;33m.\u001b[0m\u001b[0mplot\u001b[0m\u001b[1;33m(\u001b[0m\u001b[0mhistory\u001b[0m\u001b[1;33m.\u001b[0m\u001b[0mhistory\u001b[0m\u001b[1;33m[\u001b[0m\u001b[1;34m'acc'\u001b[0m\u001b[1;33m]\u001b[0m\u001b[1;33m)\u001b[0m\u001b[1;33m\u001b[0m\u001b[1;33m\u001b[0m\u001b[0m\n\u001b[0m\u001b[0;32m      3\u001b[0m \u001b[0mplt\u001b[0m\u001b[1;33m.\u001b[0m\u001b[0mplot\u001b[0m\u001b[1;33m(\u001b[0m\u001b[0mhistory\u001b[0m\u001b[1;33m.\u001b[0m\u001b[0mhistory\u001b[0m\u001b[1;33m[\u001b[0m\u001b[1;34m'val_acc'\u001b[0m\u001b[1;33m]\u001b[0m\u001b[1;33m)\u001b[0m\u001b[1;33m\u001b[0m\u001b[1;33m\u001b[0m\u001b[0m\n\u001b[0;32m      4\u001b[0m \u001b[0mplt\u001b[0m\u001b[1;33m.\u001b[0m\u001b[0mtitle\u001b[0m\u001b[1;33m(\u001b[0m\u001b[1;34m'model accuracy'\u001b[0m\u001b[1;33m)\u001b[0m\u001b[1;33m\u001b[0m\u001b[1;33m\u001b[0m\u001b[0m\n\u001b[0;32m      5\u001b[0m \u001b[0mplt\u001b[0m\u001b[1;33m.\u001b[0m\u001b[0mylabel\u001b[0m\u001b[1;33m(\u001b[0m\u001b[1;34m'accuracy'\u001b[0m\u001b[1;33m)\u001b[0m\u001b[1;33m\u001b[0m\u001b[1;33m\u001b[0m\u001b[0m\n",
      "\u001b[1;31mNameError\u001b[0m: name 'history' is not defined"
     ]
    }
   ],
   "source": [
    "# summarize history for accuracy\n",
    "plt.plot(history.history['acc'])\n",
    "plt.plot(history.history['val_acc'])\n",
    "plt.title('model accuracy')\n",
    "plt.ylabel('accuracy')\n",
    "plt.xlabel('epoch')\n",
    "plt.legend(['train', 'test'], loc='upper left')\n",
    "plt.show()"
   ]
  },
  {
   "cell_type": "code",
   "execution_count": null,
   "metadata": {
    "_uuid": "c368b91a0311a5102155afbe4f2c5e921de70c8b",
    "colab": {},
    "colab_type": "code",
    "id": "4gEkjJhNgx0h"
   },
   "outputs": [],
   "source": [
    "# summarize history for loss\n",
    "plt.plot(history.history['loss'])\n",
    "plt.plot(history.history['val_loss'])\n",
    "plt.title('model loss')\n",
    "plt.ylabel('loss')\n",
    "plt.xlabel('epoch')\n",
    "plt.legend(['train', 'test'], loc='upper left')\n",
    "plt.show()"
   ]
  },
  {
   "cell_type": "code",
   "execution_count": null,
   "metadata": {
    "_uuid": "00acec50b30ec415a2330689ad8980c328039aa1",
    "colab": {},
    "colab_type": "code",
    "id": "S7CPi8SJgx0r"
   },
   "outputs": [],
   "source": [
    "#model.save('han.h5')"
   ]
  },
  {
   "cell_type": "code",
   "execution_count": null,
   "metadata": {
    "_uuid": "0154264d53beb4bb1e6d49fd43c25018b96ff3cc",
    "colab": {},
    "colab_type": "code",
    "id": "9YMhUZe3gx0v"
   },
   "outputs": [],
   "source": [
    "import tensorflow.keras.backend as K\n",
    "from tensorflow.keras.layers import Layer\n",
    "from tensorflow.keras import initializers, regularizers, constraints\n",
    "\n",
    "def dot_product(x, kernel):\n",
    "    \"\"\"\n",
    "    https://github.com/richliao/textClassifier/issues/13#issuecomment-377323318\n",
    "    Wrapper for dot product operation, in order to be compatible with both\n",
    "    Theano and Tensorflow\n",
    "    Args:\n",
    "        x (): input\n",
    "        kernel (): weights\n",
    "    Returns:\n",
    "    \"\"\"\n",
    "    if K.backend() == 'tensorflow':\n",
    "        return K.squeeze(K.dot(x, K.expand_dims(kernel)), axis=-1)\n",
    "    else:\n",
    "        return K.dot(x, kernel)\n",
    "    \n",
    "\n",
    "class AttentionWithContext(Layer):\n",
    "    \"\"\"\n",
    "    Attention operation, with a context/query vector, for temporal data.\n",
    "    Supports Masking.\n",
    "    Follows the work of Yang et al. [https://www.cs.cmu.edu/~diyiy/docs/naacl16.pdf]\n",
    "    \"Hierarchical Attention Networks for Document Classification\"\n",
    "    by using a context vector to assist the attention\n",
    "    # Input shape\n",
    "        3D tensor with shape: `(samples, steps, features)`.\n",
    "    # Output shape\n",
    "        2D tensor with shape: `(samples, features)`.\n",
    "    \n",
    "    How to use:\n",
    "    Just put it on top of an RNN Layer (GRU/LSTM/SimpleRNN) with return_sequences=True.\n",
    "    The dimensions are inferred based on the output shape of the RNN.\n",
    "    \n",
    "    Note: The layer has been tested with Keras 2.0.6\n",
    "    \n",
    "    Example:\n",
    "        model.add(LSTM(64, return_sequences=True))\n",
    "        model.add(AttentionWithContext())\n",
    "        # next add a Dense layer (for classification/regression) or whatever...\n",
    "    \"\"\"\n",
    "    \n",
    "    def __init__(self, return_coefficients=False,\n",
    "                 W_regularizer=None, u_regularizer=None, b_regularizer=None,\n",
    "                 W_constraint=None, u_constraint=None, b_constraint=None,\n",
    "                 bias=True, **kwargs):\n",
    "        \n",
    "        self.supports_masking = True\n",
    "        self.return_coefficients = return_coefficients\n",
    "        self.init = initializers.get('glorot_uniform')\n",
    "        \n",
    "        self.W_regularizer = regularizers.get(W_regularizer)\n",
    "        self.u_regularizer = regularizers.get(u_regularizer)\n",
    "        self.b_regularizer = regularizers.get(b_regularizer)\n",
    "        \n",
    "        self.W_constraint = constraints.get(W_constraint)\n",
    "        self.u_constraint = constraints.get(u_constraint)\n",
    "        self.b_constraint = constraints.get(b_constraint)\n",
    "        \n",
    "        self.bias = bias\n",
    "        super(AttentionWithContext, self).__init__(**kwargs)\n",
    "    \n",
    "    def build(self, input_shape):\n",
    "        assert len(input_shape) == 3\n",
    "        \n",
    "        self.W = self.add_weight(shape=(input_shape[-1], input_shape[-1],),\n",
    "                                 initializer=self.init,\n",
    "                                 name='{}_W'.format(self.name),\n",
    "                                 regularizer=self.W_regularizer,\n",
    "                                 constraint=self.W_constraint)\n",
    "        if self.bias:\n",
    "            self.b = self.add_weight(shape=(input_shape[-1],),\n",
    "                                     initializer='zero',\n",
    "                                     name='{}_b'.format(self.name),\n",
    "                                     regularizer=self.b_regularizer,\n",
    "                                     constraint=self.b_constraint)\n",
    "        \n",
    "        self.u = self.add_weight(shape=(input_shape[-1],),\n",
    "                                 initializer=self.init,\n",
    "                                 name='{}_u'.format(self.name),\n",
    "                                 regularizer=self.u_regularizer,\n",
    "                                 constraint=self.u_constraint)\n",
    "        \n",
    "        super(AttentionWithContext, self).build(input_shape)\n",
    "    \n",
    "    def compute_mask(self, input, input_mask=None):\n",
    "        # do not pass the mask to the next layers\n",
    "        return None\n",
    "    \n",
    "    def call(self, x, mask=None):\n",
    "        uit = dot_product(x, self.W)\n",
    "        \n",
    "        if self.bias:\n",
    "            uit += self.b\n",
    "        \n",
    "        uit = K.tanh(uit)\n",
    "        ait = dot_product(uit, self.u)\n",
    "        \n",
    "        a = K.exp(ait)\n",
    "        \n",
    "        # apply mask after the exp. will be re-normalized next\n",
    "        if mask is not None:\n",
    "            # Cast the mask to floatX to avoid float64 upcasting in theano\n",
    "            a *= K.cast(mask, K.floatx())\n",
    "        \n",
    "        # in some cases especially in the early stages of training the sum may be almost zero\n",
    "        # and this results in NaN's. A workaround is to add a very small positive number ε to the sum.\n",
    "        # a /= K.cast(K.sum(a, axis=1, keepdims=True), K.floatx())\n",
    "        a /= K.cast(K.sum(a, axis=1, keepdims=True) + K.epsilon(), K.floatx())\n",
    "        \n",
    "        a = K.expand_dims(a)\n",
    "        weighted_input = x * a\n",
    "        \n",
    "        if self.return_coefficients:\n",
    "            return [K.sum(weighted_input, axis=1), a]\n",
    "        else:\n",
    "            return K.sum(weighted_input, axis=1)\n",
    "    \n",
    "    \n",
    "    \n",
    "    def compute_output_shape(self, input_shape):\n",
    "        if self.return_coefficients:\n",
    "            return [(input_shape[0], input_shape[-1]), (input_shape[0], input_shape[-1], 1)]\n",
    "        else:\n",
    "            return input_shape[0], input_shape[-1]\n",
    "    def get_config(self):\n",
    "        base_config = super(AttentionWithContext, self).get_config()\n",
    "        #base_config['output_dim'] = self.output_dim\n",
    "        return base_config\n",
    "   "
   ]
  },
  {
   "cell_type": "code",
   "execution_count": null,
   "metadata": {},
   "outputs": [],
   "source": [
    "test=\"tech using climate to reduce green house gases drops by 60% and greener fields\""
   ]
  },
  {
   "cell_type": "code",
   "execution_count": null,
   "metadata": {},
   "outputs": [],
   "source": [
    "predict_out(test)"
   ]
  },
  {
   "cell_type": "code",
   "execution_count": null,
   "metadata": {},
   "outputs": [],
   "source": [
    "import pandas as pd\n",
    "data={'text':[test]}\n",
    "df3=pd.DataFrame(data)"
   ]
  },
  {
   "cell_type": "code",
   "execution_count": null,
   "metadata": {
    "_uuid": "6b3d4700b11d9086dc00f1c2c46a65c07c22a52f",
    "colab": {},
    "colab_type": "code",
    "id": "_KZvee64gx06"
   },
   "outputs": [],
   "source": [
    "from tensorflow.keras.optimizers import Adam\n",
    "from tensorflow.keras.utils import multi_gpu_model"
   ]
  },
  {
   "cell_type": "code",
   "execution_count": null,
   "metadata": {},
   "outputs": [],
   "source": [
    "from tensorflow.python import keras\n",
    "print(keras.__version__)"
   ]
  },
  {
   "cell_type": "code",
   "execution_count": null,
   "metadata": {},
   "outputs": [],
   "source": [
    "y_train.to_pickle(\"./dummy.pkl\")"
   ]
  },
  {
   "cell_type": "code",
   "execution_count": null,
   "metadata": {},
   "outputs": [],
   "source": []
  },
  {
   "cell_type": "code",
   "execution_count": null,
   "metadata": {},
   "outputs": [],
   "source": [
    "from tensorflow.keras.models import load_model\n",
    "\n",
    "model3=load_model('han.h5',custom_objects={'AttentionWithContext': AttentionWithContext})"
   ]
  },
  {
   "cell_type": "code",
   "execution_count": null,
   "metadata": {},
   "outputs": [],
   "source": [
    "#a=model3.predict(x_train[:4])"
   ]
  },
  {
   "cell_type": "code",
   "execution_count": null,
   "metadata": {},
   "outputs": [],
   "source": [
    "#a1=a[[3]]"
   ]
  },
  {
   "cell_type": "code",
   "execution_count": null,
   "metadata": {},
   "outputs": [],
   "source": [
    "#a"
   ]
  },
  {
   "cell_type": "code",
   "execution_count": null,
   "metadata": {},
   "outputs": [],
   "source": [
    "#b=np.amax(a)"
   ]
  },
  {
   "cell_type": "code",
   "execution_count": null,
   "metadata": {},
   "outputs": [],
   "source": [
    "#b"
   ]
  },
  {
   "cell_type": "code",
   "execution_count": null,
   "metadata": {},
   "outputs": [],
   "source": [
    "#result = np.where(a==b)"
   ]
  },
  {
   "cell_type": "code",
   "execution_count": null,
   "metadata": {},
   "outputs": [],
   "source": [
    "#print(result)"
   ]
  },
  {
   "cell_type": "code",
   "execution_count": null,
   "metadata": {},
   "outputs": [],
   "source": [
    "#p=x_train[:1]"
   ]
  },
  {
   "cell_type": "code",
   "execution_count": null,
   "metadata": {},
   "outputs": [],
   "source": []
  },
  {
   "cell_type": "code",
   "execution_count": null,
   "metadata": {},
   "outputs": [],
   "source": [
    "#p[0]"
   ]
  },
  {
   "cell_type": "code",
   "execution_count": null,
   "metadata": {},
   "outputs": [],
   "source": [
    "#y_train.columns"
   ]
  },
  {
   "cell_type": "code",
   "execution_count": null,
   "metadata": {},
   "outputs": [],
   "source": [
    "#df3"
   ]
  },
  {
   "cell_type": "code",
   "execution_count": null,
   "metadata": {},
   "outputs": [],
   "source": [
    "#df3=pd.read_csv('news_list.csv')"
   ]
  },
  {
   "cell_type": "code",
   "execution_count": null,
   "metadata": {},
   "outputs": [],
   "source": [
    "#text1=df3['text']"
   ]
  },
  {
   "cell_type": "code",
   "execution_count": null,
   "metadata": {},
   "outputs": [],
   "source": [
    "#df3['text']"
   ]
  },
  {
   "cell_type": "code",
   "execution_count": null,
   "metadata": {},
   "outputs": [],
   "source": [
    "sent_lens = []\n",
    "sent_nums = []\n",
    "paras1=[]\n",
    "texts=[]\n",
    "for idx in range(df3.text.shape[0]):\n",
    "    text = clean_str(df3.text[idx])\n",
    "    texts.append(text)\n",
    "    sentences = tokenize.sent_tokenize(text)\n",
    "    sent_nums.append(len(sentences))\n",
    "    for sent in sentences:\n",
    "        sent_lens.append(len(text_to_word_sequence(sent)))\n",
    "    paras1.append(sentences)"
   ]
  },
  {
   "cell_type": "code",
   "execution_count": null,
   "metadata": {},
   "outputs": [],
   "source": [
    "sentences"
   ]
  },
  {
   "cell_type": "code",
   "execution_count": null,
   "metadata": {},
   "outputs": [],
   "source": [
    "sent_lens"
   ]
  },
  {
   "cell_type": "code",
   "execution_count": null,
   "metadata": {},
   "outputs": [],
   "source": []
  },
  {
   "cell_type": "code",
   "execution_count": null,
   "metadata": {},
   "outputs": [],
   "source": [
    "data = np.zeros((len(texts), max_senten_num, max_senten_len), dtype='int32')\n",
    "for i, sentences in enumerate(paras1):\n",
    "    for j, sent in enumerate(sentences):\n",
    "        if j< max_senten_num:\n",
    "            wordTokens = text_to_word_sequence(sent)\n",
    "            k=0\n",
    "            for _, word in enumerate(wordTokens):\n",
    "                try:\n",
    "                    if k<max_senten_len and tokenizer.word_index[word]<max_features:\n",
    "                        data[i,j,k] = tokenizer.word_index[word]\n",
    "                        k=k+1\n",
    "                except:\n",
    "                    print(word)\n",
    "                    pass"
   ]
  },
  {
   "cell_type": "code",
   "execution_count": null,
   "metadata": {},
   "outputs": [],
   "source": [
    "data"
   ]
  },
  {
   "cell_type": "code",
   "execution_count": null,
   "metadata": {},
   "outputs": [],
   "source": [
    "indices = np.arange(data.shape[0])\n",
    "#np.random.shuffle(indices)\n",
    "data = data[indices]\n",
    "#labels = labels.iloc[indices]\n",
    "#nb_validation_samples = int(VALIDATION_SPLIT * data.shape[0])\n",
    "\n",
    "x_train = data[:2]\n",
    "#y_train = labels[:-nb_validation_samples]\n",
    "#x_val = data[-nb_validation_samples:]\n",
    "#y_val = labels[-nb_validation_samples:]\n",
    "#print('Number of positive and negative reviews in traing and validation set')\n",
    "#print(y_train.columns.tolist())\n",
    "#print(y_train.sum(axis=0).tolist())\n",
    "#print(y_val.sum(axis=0).tolist())"
   ]
  },
  {
   "cell_type": "code",
   "execution_count": null,
   "metadata": {},
   "outputs": [],
   "source": [
    "x_train"
   ]
  },
  {
   "cell_type": "code",
   "execution_count": null,
   "metadata": {},
   "outputs": [],
   "source": [
    "a=model3.predict(x_train[:2])\n",
    "a"
   ]
  },
  {
   "cell_type": "code",
   "execution_count": null,
   "metadata": {},
   "outputs": [],
   "source": [
    "b=np.amax(a)"
   ]
  },
  {
   "cell_type": "code",
   "execution_count": null,
   "metadata": {},
   "outputs": [],
   "source": [
    "b"
   ]
  },
  {
   "cell_type": "code",
   "execution_count": null,
   "metadata": {},
   "outputs": [],
   "source": [
    "result = np.where(a==b)\n"
   ]
  },
  {
   "cell_type": "code",
   "execution_count": null,
   "metadata": {},
   "outputs": [],
   "source": [
    "pos=result[1].item(0)"
   ]
  },
  {
   "cell_type": "code",
   "execution_count": null,
   "metadata": {},
   "outputs": [],
   "source": [
    "pos"
   ]
  },
  {
   "cell_type": "code",
   "execution_count": null,
   "metadata": {},
   "outputs": [],
   "source": [
    "a=y_train.columns.tolist()\n",
    "a[pos]"
   ]
  },
  {
   "cell_type": "code",
   "execution_count": null,
   "metadata": {},
   "outputs": [],
   "source": [
    "y_train"
   ]
  },
  {
   "cell_type": "code",
   "execution_count": 3,
   "metadata": {},
   "outputs": [],
   "source": [
    "from tensorflow.keras.models import load_model\n",
    "\n",
    "model3=load_model('han.h5',custom_objects={'AttentionWithContext': AttentionWithContext})"
   ]
  },
  {
   "cell_type": "code",
   "execution_count": 4,
   "metadata": {},
   "outputs": [],
   "source": [
    "max_features=200000\n",
    "max_senten_len=40\n",
    "max_senten_num=6\n",
    "embed_size=100\n",
    "VALIDATION_SPLIT = 0.2\n",
    "import re\n",
    "def clean_str(string):\n",
    "    \"\"\"\n",
    "    Tokenization/string cleaning for dataset\n",
    "    Every dataset is lower cased except\n",
    "    \"\"\"\n",
    "    string = re.sub(r\"\\\\\", \"\", string)    \n",
    "    string = re.sub(r\"\\'\", \"\", string)    \n",
    "    string = re.sub(r\"\\\"\", \"\", string)    \n",
    "    return string.strip().lower()\n",
    "\n",
    "def predict_out(test):\n",
    "\n",
    "\n",
    "    data={'text':[test]}\n",
    "    df3=pd.DataFrame(data)\n",
    "    sent_lens = []\n",
    "    sent_nums = []\n",
    "    paras1=[]\n",
    "    texts=[]\n",
    "    for idx in range(df3.text.shape[0]):\n",
    "        text = clean_str(df3.text[idx])\n",
    "        texts.append(text)\n",
    "        sentences = tokenize.sent_tokenize(text)\n",
    "        sent_nums.append(len(sentences))\n",
    "        for sent in sentences:\n",
    "            sent_lens.append(len(text_to_word_sequence(sent)))\n",
    "        paras1.append(sentences)\n",
    "        data = np.zeros((len(texts), max_senten_num, max_senten_len), dtype='int32')\n",
    "    for i, sentences in enumerate(paras1):\n",
    "        for j, sent in enumerate(sentences):\n",
    "            if j< max_senten_num:\n",
    "                wordTokens = text_to_word_sequence(sent)\n",
    "                k=0\n",
    "                for _, word in enumerate(wordTokens):\n",
    "                    try:\n",
    "                        if k<max_senten_len and tokenizer.word_index[word]<max_features:\n",
    "                            data[i,j,k] = tokenizer.word_index[word]\n",
    "                            k=k+1\n",
    "                    except:\n",
    "                        #print(word)\n",
    "                        pass\n",
    "    indices = np.arange(data.shape[0])\n",
    "#np.random.shuffle(indices)\n",
    "    data = data[indices]\n",
    "#labels = labels.iloc[indices]\n",
    "#nb_validation_samples = int(VALIDATION_SPLIT * data.shape[0])\n",
    "\n",
    "    x_train = data[:2]\n",
    "    a=model3.predict(x_train[:2])\n",
    "    print(a)\n",
    "    b=np.amax(a)\n",
    "    print(b)\n",
    "    result = np.where(a==b)\n",
    "    pos=result[1].item(0)\n",
    "    print(pos)\n",
    "    \n",
    "    a=y_train.columns.tolist()\n",
    "    return a[pos]"
   ]
  },
  {
   "cell_type": "code",
   "execution_count": 5,
   "metadata": {},
   "outputs": [],
   "source": [
    "import pickle\n",
    "\n",
    "# saving\n",
    "#with open('tokenizer.pickle', 'wb') as handle:\n",
    "    #pickle.dump(tokenizer, handle, protocol=pickle.HIGHEST_PROTOCOL)\n",
    "y_train = pd.read_pickle(\"./dummy.pkl\")\n",
    "y_train\n",
    "# loading\n",
    "with open('tokenizer.pickle', 'rb') as handle:\n",
    "      tokenizer = pickle.load(handle)\n",
    "        "
   ]
  },
  {
   "cell_type": "code",
   "execution_count": null,
   "metadata": {},
   "outputs": [],
   "source": []
  },
  {
   "cell_type": "code",
   "execution_count": 6,
   "metadata": {},
   "outputs": [],
   "source": [
    "from flask import Flask, redirect, url_for, render_template, request, session,jsonify"
   ]
  },
  {
   "cell_type": "code",
   "execution_count": 7,
   "metadata": {},
   "outputs": [],
   "source": [
    "from werkzeug.wrappers import Request, Response"
   ]
  },
  {
   "cell_type": "code",
   "execution_count": null,
   "metadata": {},
   "outputs": [
    {
     "name": "stderr",
     "output_type": "stream",
     "text": [
      " * Running on http://localhost:9000/ (Press CTRL+C to quit)\n",
      "127.0.0.1 - - [30/Apr/2020 13:32:54] \"\u001b[37mGET / HTTP/1.1\u001b[0m\" 200 -\n",
      "127.0.0.1 - - [30/Apr/2020 13:32:54] \"\u001b[33mGET /staticnews.jpeg HTTP/1.1\u001b[0m\" 404 -\n",
      "127.0.0.1 - - [30/Apr/2020 13:32:54] \"\u001b[33mGET /favicon.ico HTTP/1.1\u001b[0m\" 404 -\n"
     ]
    },
    {
     "name": "stdout",
     "output_type": "stream",
     "text": [
      "Amitabh Bachchan 'Hosts' KBC on Instagram, Asks Fans to Guess His Popular Bollywood Movie\n"
     ]
    },
    {
     "name": "stderr",
     "output_type": "stream",
     "text": [
      "127.0.0.1 - - [30/Apr/2020 13:33:07] \"\u001b[37mPOST /prediction HTTP/1.1\u001b[0m\" 200 -\n"
     ]
    },
    {
     "name": "stdout",
     "output_type": "stream",
     "text": [
      "[[1.8984654e-09 1.3893258e-09 4.8709251e-07 2.6623871e-08 2.0455192e-13\n",
      "  1.8710585e-05 1.0948923e-12 2.0525010e-15 3.7649291e-16 6.3732927e-14\n",
      "  9.9995434e-01 9.2964844e-17 2.7268661e-11 2.2767600e-16 4.1910958e-08\n",
      "  1.9320656e-09 7.7769961e-08 4.4644003e-13 1.3338736e-09 2.9886739e-11\n",
      "  1.0758986e-06 2.3451621e-18 3.4543928e-12 2.4693029e-05 2.1622081e-07\n",
      "  2.6847084e-07 1.9361058e-12 1.6066102e-12 4.1490011e-10 5.0159867e-09\n",
      "  5.7079259e-15 9.8882690e-12 2.8894822e-11 5.8148547e-12 7.4984237e-18\n",
      "  1.9744193e-09 3.0298860e-14 1.3663002e-07 9.2259019e-16 3.8922768e-10]]\n",
      "0.99995434\n",
      "10\n",
      "ENTERTAINMENT\n",
      "Rishi Kapoor, Legendary Bollywood Actor, Dies at 67\n"
     ]
    },
    {
     "name": "stderr",
     "output_type": "stream",
     "text": [
      "127.0.0.1 - - [30/Apr/2020 13:33:39] \"\u001b[37mPOST /prediction HTTP/1.1\u001b[0m\" 200 -\n"
     ]
    },
    {
     "name": "stdout",
     "output_type": "stream",
     "text": [
      "[[3.9373691e-07 2.0060206e-08 2.6040148e-06 6.6107496e-06 1.7925421e-06\n",
      "  1.5745107e-06 3.2710773e-07 5.0866769e-11 9.2032444e-08 4.0493674e-08\n",
      "  2.0042689e-06 1.6481028e-13 4.0192373e-07 3.1189165e-10 1.5365168e-06\n",
      "  9.8437181e-07 9.9858725e-01 2.5700814e-10 5.5373977e-07 4.1147499e-09\n",
      "  1.9777372e-05 8.8360144e-12 9.5961763e-09 3.1116972e-06 1.0136317e-04\n",
      "  2.7356289e-06 5.2996114e-04 5.9184021e-07 8.7509989e-08 7.1563747e-08\n",
      "  3.8819692e-10 1.0395631e-06 2.5396716e-08 1.1738764e-09 1.9981987e-09\n",
      "  2.5058083e-07 5.6015705e-07 7.3212472e-04 1.1188332e-09 2.2220256e-06]]\n",
      "0.99858725\n",
      "16\n",
      "HEALTHY LIVING\n"
     ]
    },
    {
     "name": "stderr",
     "output_type": "stream",
     "text": [
      "127.0.0.1 - - [30/Apr/2020 13:34:33] \"\u001b[37mPOST /prediction HTTP/1.1\u001b[0m\" 200 -\n"
     ]
    },
    {
     "name": "stdout",
     "output_type": "stream",
     "text": [
      "Angelina Jolie Sends Condolences To Irrfan Khan's Family\n",
      "[[1.06541496e-08 1.75621366e-08 9.95692881e-06 4.20791828e-08\n",
      "  4.07080663e-12 4.50166524e-04 5.03379449e-10 1.24881225e-12\n",
      "  1.11614169e-10 8.23778762e-13 9.99403715e-01 1.74688094e-14\n",
      "  1.63904179e-09 1.02307135e-10 9.08345754e-09 1.30595312e-09\n",
      "  9.18182423e-07 1.82792705e-11 6.18392948e-10 1.32734721e-08\n",
      "  1.69119880e-06 2.43898288e-15 3.32404082e-09 9.16975769e-05\n",
      "  1.52878908e-06 3.04281566e-05 6.43426923e-10 2.37736186e-09\n",
      "  3.63721966e-07 6.70143845e-06 8.15820034e-09 7.11108612e-08\n",
      "  9.29610380e-08 5.97746563e-08 8.07856278e-13 2.03689410e-06\n",
      "  2.44823970e-11 4.46134720e-07 4.52613684e-12 1.95946708e-08]]\n",
      "0.9994037\n",
      "10\n",
      "ENTERTAINMENT\n"
     ]
    },
    {
     "name": "stderr",
     "output_type": "stream",
     "text": [
      "127.0.0.1 - - [30/Apr/2020 13:35:22] \"\u001b[37mPOST /prediction HTTP/1.1\u001b[0m\" 200 -\n"
     ]
    },
    {
     "name": "stdout",
     "output_type": "stream",
     "text": [
      "brad pitt to marry jennifer aniston\n",
      "[[1.7787603e-03 2.2704920e-09 2.1278597e-08 2.3553669e-02 8.8228389e-06\n",
      "  9.2228359e-01 9.0315355e-09 1.2246273e-05 6.2580469e-10 4.2008438e-07\n",
      "  2.2797267e-05 2.7252836e-04 8.9337258e-04 3.1259642e-05 5.5554810e-06\n",
      "  6.9986697e-04 1.3672432e-05 8.9358937e-06 4.6834107e-06 4.2215179e-11\n",
      "  1.3205235e-07 1.4069957e-06 3.4404398e-05 3.3184332e-08 1.7338389e-08\n",
      "  1.2142074e-05 1.2568761e-08 3.5890334e-06 9.9215853e-09 7.2080926e-05\n",
      "  6.8089219e-05 2.7041731e-06 1.2807092e-06 5.0026733e-02 3.5294265e-06\n",
      "  1.4458357e-05 1.6814997e-04 1.0661548e-06 8.3775624e-14 2.1956428e-09]]\n",
      "0.9222836\n",
      "5\n",
      "COMEDY\n",
      "Climate change: World mustn't forget 'deeper emergency'\n",
      "[[1.04896014e-06 1.99312731e-14 4.46484094e-09 2.10213693e-06\n",
      "  9.38631928e-08 1.17608157e-09 1.88508942e-08 5.79330250e-10\n",
      "  8.51978095e-15 1.21976327e-05 2.68743187e-11 1.26268797e-05\n",
      "  8.94946062e-10 1.49839874e-12 1.98973771e-06 9.94566917e-01\n",
      "  2.56559340e-11 1.30049013e-10 5.19716414e-03 8.61211380e-10\n",
      "  3.40787608e-07 1.55454261e-10 1.59274738e-09 5.84041038e-10\n",
      "  1.78986869e-04 5.92530469e-10 1.97886308e-07 2.54164689e-09\n",
      "  4.80246572e-11 7.42199219e-11 1.30796719e-11 1.45924297e-11\n",
      "  1.22025458e-12 2.35347699e-07 1.14010656e-12 2.38457743e-11\n",
      "  1.07982345e-10 1.09832565e-09 2.57266300e-12 2.61358473e-05]]"
     ]
    },
    {
     "name": "stderr",
     "output_type": "stream",
     "text": [
      "127.0.0.1 - - [30/Apr/2020 13:36:30] \"\u001b[37mPOST /prediction HTTP/1.1\u001b[0m\" 200 -\n"
     ]
    },
    {
     "name": "stdout",
     "output_type": "stream",
     "text": [
      "\n",
      "0.9945669\n",
      "15\n",
      "GREEN\n"
     ]
    }
   ],
   "source": [
    "app = Flask(__name__, template_folder='./')\n",
    "app.static_folder = 'static'\n",
    "\n",
    "@app.route('/prediction', methods=['POST', 'GET'])\n",
    "def prediction():\n",
    "    if request.method == \"POST\":\n",
    "        message = request.form['message']\n",
    "        print(message)\n",
    "        response =  predict_out(message)\n",
    "        print(response)\n",
    "        msg=\"The news category is\"\n",
    "        return jsonify(msg,response)\n",
    "    \n",
    "    return jsonify(\"Input text\")\n",
    "\n",
    "@app.route('/')\n",
    "def main():\n",
    "    return render_template('index.html')\n",
    "\n",
    "\n",
    "if __name__ == '__main__':\n",
    "    #app.run(debug=True)\n",
    "    from werkzeug.serving import run_simple\n",
    "    run_simple('localhost', 9000, app)\n",
    "    \n",
    "@app.route('/shutdown', methods=['POST'])\n",
    "def shutdown():\n",
    "    shutdown_server()\n",
    "    return 'Server shutting down...'\n",
    "\n",
    "    "
   ]
  },
  {
   "cell_type": "code",
   "execution_count": null,
   "metadata": {},
   "outputs": [],
   "source": [
    "word_index=tokenizer.word_index"
   ]
  },
  {
   "cell_type": "code",
   "execution_count": null,
   "metadata": {},
   "outputs": [],
   "source": [
    "word_index['bella']"
   ]
  },
  {
   "cell_type": "code",
   "execution_count": null,
   "metadata": {},
   "outputs": [],
   "source": [
    "a"
   ]
  },
  {
   "cell_type": "code",
   "execution_count": null,
   "metadata": {},
   "outputs": [],
   "source": []
  }
 ],
 "metadata": {
  "accelerator": "GPU",
  "colab": {
   "collapsed_sections": [],
   "name": "HAN.ipynb",
   "provenance": [],
   "toc_visible": true,
   "version": "0.3.2"
  },
  "kernelspec": {
   "display_name": "Python 3",
   "language": "python",
   "name": "python3"
  },
  "language_info": {
   "codemirror_mode": {
    "name": "ipython",
    "version": 3
   },
   "file_extension": ".py",
   "mimetype": "text/x-python",
   "name": "python",
   "nbconvert_exporter": "python",
   "pygments_lexer": "ipython3",
   "version": "3.7.4"
  }
 },
 "nbformat": 4,
 "nbformat_minor": 1
}
